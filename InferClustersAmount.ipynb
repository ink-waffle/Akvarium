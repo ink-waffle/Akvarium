{
 "cells": [
  {
   "cell_type": "code",
   "execution_count": 1,
   "metadata": {
    "collapsed": true,
    "ExecuteTime": {
     "start_time": "2023-10-22T06:23:23.197040Z",
     "end_time": "2023-10-22T06:23:29.415743Z"
    }
   },
   "outputs": [],
   "source": [
    "from collections import Counter\n",
    "import numpy as np\n",
    "import math\n",
    "import random\n",
    "import pandas as pd\n",
    "import plotly.express as px\n",
    "import multiprocessing\n",
    "from sklearn.model_selection import train_test_split\n",
    "from sklearn.cluster import KMeans\n",
    "import tensorflow as tf\n"
   ]
  },
  {
   "cell_type": "code",
   "execution_count": 12,
   "outputs": [],
   "source": [
    "n = 1000\n",
    "Count = Counter()\n",
    "for i in range(1):\n",
    "    clustersAmount = 1\n",
    "    curTreshold = 0.5\n",
    "    probs = np.random.random((n, ))\n",
    "    for j in range(n):\n",
    "        if probs[j] > curTreshold:\n",
    "            clustersAmount += 1\n",
    "            curTreshold = clustersAmount / (clustersAmount + 1)\n",
    "        else:\n",
    "            continue\n",
    "    Count.update({clustersAmount: 1})"
   ],
   "metadata": {
    "collapsed": false,
    "ExecuteTime": {
     "start_time": "2023-10-22T06:43:56.836884Z",
     "end_time": "2023-10-22T06:43:56.861871Z"
    }
   }
  },
  {
   "cell_type": "code",
   "execution_count": 13,
   "outputs": [],
   "source": [
    "counts = pd.DataFrame(Count.items())"
   ],
   "metadata": {
    "collapsed": false,
    "ExecuteTime": {
     "start_time": "2023-10-22T06:44:07.846960Z",
     "end_time": "2023-10-22T06:44:07.868533Z"
    }
   }
  },
  {
   "cell_type": "code",
   "execution_count": 4,
   "outputs": [
    {
     "data": {
      "text/plain": "     0      1\n0   16   8901\n1   15  14044\n2   14  18420\n3   10   4358\n4   13  19002\n5   11   9648\n6   17   4910\n7   12  15571\n8    9   1404\n9   18   2217\n10  19    848\n11   8    280\n12  20    264\n13  22     17\n14  21     82\n15   7     28\n16  23      3\n17  24      1\n18  25      1\n19   6      1",
      "text/html": "<div>\n<style scoped>\n    .dataframe tbody tr th:only-of-type {\n        vertical-align: middle;\n    }\n\n    .dataframe tbody tr th {\n        vertical-align: top;\n    }\n\n    .dataframe thead th {\n        text-align: right;\n    }\n</style>\n<table border=\"1\" class=\"dataframe\">\n  <thead>\n    <tr style=\"text-align: right;\">\n      <th></th>\n      <th>0</th>\n      <th>1</th>\n    </tr>\n  </thead>\n  <tbody>\n    <tr>\n      <th>0</th>\n      <td>16</td>\n      <td>8901</td>\n    </tr>\n    <tr>\n      <th>1</th>\n      <td>15</td>\n      <td>14044</td>\n    </tr>\n    <tr>\n      <th>2</th>\n      <td>14</td>\n      <td>18420</td>\n    </tr>\n    <tr>\n      <th>3</th>\n      <td>10</td>\n      <td>4358</td>\n    </tr>\n    <tr>\n      <th>4</th>\n      <td>13</td>\n      <td>19002</td>\n    </tr>\n    <tr>\n      <th>5</th>\n      <td>11</td>\n      <td>9648</td>\n    </tr>\n    <tr>\n      <th>6</th>\n      <td>17</td>\n      <td>4910</td>\n    </tr>\n    <tr>\n      <th>7</th>\n      <td>12</td>\n      <td>15571</td>\n    </tr>\n    <tr>\n      <th>8</th>\n      <td>9</td>\n      <td>1404</td>\n    </tr>\n    <tr>\n      <th>9</th>\n      <td>18</td>\n      <td>2217</td>\n    </tr>\n    <tr>\n      <th>10</th>\n      <td>19</td>\n      <td>848</td>\n    </tr>\n    <tr>\n      <th>11</th>\n      <td>8</td>\n      <td>280</td>\n    </tr>\n    <tr>\n      <th>12</th>\n      <td>20</td>\n      <td>264</td>\n    </tr>\n    <tr>\n      <th>13</th>\n      <td>22</td>\n      <td>17</td>\n    </tr>\n    <tr>\n      <th>14</th>\n      <td>21</td>\n      <td>82</td>\n    </tr>\n    <tr>\n      <th>15</th>\n      <td>7</td>\n      <td>28</td>\n    </tr>\n    <tr>\n      <th>16</th>\n      <td>23</td>\n      <td>3</td>\n    </tr>\n    <tr>\n      <th>17</th>\n      <td>24</td>\n      <td>1</td>\n    </tr>\n    <tr>\n      <th>18</th>\n      <td>25</td>\n      <td>1</td>\n    </tr>\n    <tr>\n      <th>19</th>\n      <td>6</td>\n      <td>1</td>\n    </tr>\n  </tbody>\n</table>\n</div>"
     },
     "execution_count": 4,
     "metadata": {},
     "output_type": "execute_result"
    }
   ],
   "source": [
    "counts"
   ],
   "metadata": {
    "collapsed": false,
    "ExecuteTime": {
     "start_time": "2023-10-22T06:23:39.953400Z",
     "end_time": "2023-10-22T06:23:40.018794Z"
    }
   }
  },
  {
   "cell_type": "code",
   "execution_count": 11,
   "outputs": [
    {
     "name": "stdout",
     "output_type": "stream",
     "text": [
      "7.485470860550348\n"
     ]
    }
   ],
   "source": [
    "def expected_clusters(n):\n",
    "    E = [0] * (n + 1)\n",
    "    E[1] = 1  # Base case\n",
    "\n",
    "    for k in range(2, n + 1):\n",
    "        E[k] = (k-1)/k * E[k-1] + 1/k * (E[k-1] + 1)\n",
    "\n",
    "    return E[n]\n",
    "\n",
    "n = 1000\n",
    "print(expected_clusters(n))"
   ],
   "metadata": {
    "collapsed": false,
    "ExecuteTime": {
     "start_time": "2023-10-22T06:43:34.293131Z",
     "end_time": "2023-10-22T06:43:34.344133Z"
    }
   }
  },
  {
   "cell_type": "code",
   "execution_count": null,
   "outputs": [],
   "source": [],
   "metadata": {
    "collapsed": false
   }
  }
 ],
 "metadata": {
  "kernelspec": {
   "display_name": "Python 3",
   "language": "python",
   "name": "python3"
  },
  "language_info": {
   "codemirror_mode": {
    "name": "ipython",
    "version": 2
   },
   "file_extension": ".py",
   "mimetype": "text/x-python",
   "name": "python",
   "nbconvert_exporter": "python",
   "pygments_lexer": "ipython2",
   "version": "2.7.6"
  }
 },
 "nbformat": 4,
 "nbformat_minor": 0
}
