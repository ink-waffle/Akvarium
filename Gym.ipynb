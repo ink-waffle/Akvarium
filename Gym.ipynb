{
 "cells": [
  {
   "cell_type": "code",
   "execution_count": 8,
   "metadata": {
    "collapsed": true,
    "ExecuteTime": {
     "start_time": "2023-09-06T18:33:52.822013Z",
     "end_time": "2023-09-06T18:33:52.828991Z"
    }
   },
   "outputs": [],
   "source": [
    "import pandas as pd\n",
    "import re"
   ]
  },
  {
   "cell_type": "code",
   "execution_count": 35,
   "outputs": [],
   "source": [
    "df = pd.read_csv(\"C:/Users\\Admin\\Downloads\\Financial Aid for International Noncitizens_Final Report_Table - Financial Aid for International Noncitizens_Final Report_Table.csv\")\n",
    "df['Fin.Aid Per Int.Student'] = df.apply(lambda row: int((int(str(row['Average International Noncitizen Financial Aid Award'])[1:].replace(',', '')) if 'n' not in str(row['Average International Noncitizen Financial Aid Award']) else 0) * (int(re.sub(r'%', '', str(row['Receiving Aid ']))) if 'n' not in str(row['Receiving Aid ']) else 0) / 100), axis=1)\n",
    "\n",
    "df['Average International Noncitizen Financial Aid Award'] = df['Average International Noncitizen Financial Aid Award'].apply(lambda row: (int(str(row)[1:].replace(',', '')) if 'n' not in str(row) else 0))\n",
    "df['Total Cost'] = df['Total Cost'].apply(lambda row: (int(str(row)[1:].replace(',', '')) if 'n' not in str(row) else 0))\n",
    "df['Receiving Aid '] = df['Receiving Aid '].apply(lambda row: (int(str(row).replace('%', '')) if 'n' not in str(row) else 0))\n",
    "df['Acceptance Rate'] = df['Acceptance Rate'].apply(lambda row: (int(float(str(row).replace('%', ''))) if 'n' not in str(row) else 0))\n",
    "df['Percentage of Internationals to All Undergrads'] = df['Percentage of Internationals to All Undergrads'].apply(lambda row: (int(str(row).replace('%', '')) if 'n' not in str(row) else 0))"
   ],
   "metadata": {
    "collapsed": false,
    "ExecuteTime": {
     "start_time": "2023-09-06T18:57:18.336550Z",
     "end_time": "2023-09-06T18:57:18.370754Z"
    }
   }
  },
  {
   "cell_type": "code",
   "execution_count": 36,
   "outputs": [],
   "source": [
    "df.to_csv(\"C:/Users\\Admin\\Downloads\\CollegeList.csv\", index=False)"
   ],
   "metadata": {
    "collapsed": false,
    "ExecuteTime": {
     "start_time": "2023-09-06T18:57:20.223468Z",
     "end_time": "2023-09-06T18:57:20.245401Z"
    }
   }
  },
  {
   "cell_type": "code",
   "execution_count": null,
   "outputs": [],
   "source": [],
   "metadata": {
    "collapsed": false
   }
  },
  {
   "cell_type": "code",
   "execution_count": 37,
   "outputs": [],
   "source": [
    "from collections import Counter\n",
    "a = Counter()\n",
    "a.update([\"dsa\", \"ads\", \"dsa\"])"
   ],
   "metadata": {
    "collapsed": false,
    "ExecuteTime": {
     "start_time": "2023-09-06T21:37:59.301402Z",
     "end_time": "2023-09-06T21:37:59.302401Z"
    }
   }
  },
  {
   "cell_type": "code",
   "execution_count": null,
   "outputs": [],
   "source": [],
   "metadata": {
    "collapsed": false
   }
  }
 ],
 "metadata": {
  "kernelspec": {
   "display_name": "Python 3",
   "language": "python",
   "name": "python3"
  },
  "language_info": {
   "codemirror_mode": {
    "name": "ipython",
    "version": 2
   },
   "file_extension": ".py",
   "mimetype": "text/x-python",
   "name": "python",
   "nbconvert_exporter": "python",
   "pygments_lexer": "ipython2",
   "version": "2.7.6"
  }
 },
 "nbformat": 4,
 "nbformat_minor": 0
}
