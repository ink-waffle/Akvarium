{
 "cells": [
  {
   "cell_type": "code",
   "execution_count": 2,
   "metadata": {
    "collapsed": true,
    "ExecuteTime": {
     "start_time": "2023-08-05T16:00:59.596225Z",
     "end_time": "2023-08-05T16:01:00.575354Z"
    }
   },
   "outputs": [],
   "source": [
    "import numpy as np\n",
    "import math\n",
    "import random\n",
    "import pandas as pd\n",
    "import plotly.express as px\n",
    "import multiprocessing\n",
    "\n",
    "\n",
    "def sigmoid(z: np.array):\n",
    "    return 1 / (1 + np.exp(-np.clip(z, -100, 100)))\n",
    "\n",
    "\n",
    "def tanh(z: np.array):\n",
    "    z = np.clip(z, -100, 100)\n",
    "    expZ = np.exp(z)\n",
    "    expZ_minus = np.exp(-z)\n",
    "    return (expZ - expZ_minus) / (expZ + expZ_minus)\n",
    "\n",
    "\n",
    "def reLU(z: np.array):\n",
    "    return np.maximum(0.0, z)\n",
    "\n",
    "\n",
    "def leakyReLU(z: np.array):\n",
    "    return np.maximum(0.01 * z, z)"
   ]
  },
  {
   "cell_type": "code",
   "execution_count": 62,
   "outputs": [],
   "source": [
    "class Model_Old:\n",
    "    class Layer:\n",
    "        def __init__(self, layerHeight, prevLayer, nextLayer, activationFunc=\"sigmoid\"):\n",
    "            self.layerHeight = layerHeight\n",
    "            self.w = np.random.randn(layerHeight, prevLayer.layerHeight) * 0.01\n",
    "            self.b = np.zeros((layerHeight, 1))\n",
    "            self.dw = np.zeros((layerHeight, prevLayer.layerHeight))\n",
    "            self.db = np.zeros((layerHeight, 1))\n",
    "            self.a = None\n",
    "            if activationFunc == \"sigmoid\":\n",
    "                self.activation = sigmoid\n",
    "                self.da_dz = lambda a: np.multiply(a, (1 - a))\n",
    "            elif activationFunc == \"tanh\":\n",
    "                self.activation = np.tanh\n",
    "                self.da_dz = lambda a: (1 - np.square(a))\n",
    "            elif activationFunc == \"relu\":\n",
    "                self.activation = reLU\n",
    "                self.da_dz = lambda a: np.where(a > 0, 1,\n",
    "                                                0)  #just taking advantage of the fact a = z for positive and a = 0 for negative\n",
    "            elif activationFunc == \"leaky_relu\":\n",
    "                self.activation = leakyReLU\n",
    "                self.da_dz = lambda a: np.where(a > 0, 1, 0.01)\n",
    "            self.prevLayer = prevLayer if prevLayer else None\n",
    "            self.nextLayer = nextLayer if nextLayer else None\n",
    "\n",
    "        def predict(self, a_Prev: np.array, keepActiveProb: float):\n",
    "            self.a = (self.activation((self.w @ a_Prev) + self.b) *\n",
    "                      (np.random.random((self.layerHeight, a_Prev.shape[1])) < keepActiveProb))\n",
    "            self.a /= keepActiveProb\n",
    "            # self.a = self.activation((self.w @ a_Prev) + self.b)\n",
    "            return self.nextLayer.predict(self.a, keepActiveProb)\n",
    "\n",
    "        def propagate(self, dz_Next: np.array, trainingStep):\n",
    "            da = self.nextLayer.w.T @ dz_Next\n",
    "            dz = self.da_dz(self.a) * da\n",
    "            self.dw = (0.9 * self.dw) + 0.1 * ((dz @ self.prevLayer.a.T) / dz.shape[1])\n",
    "            self.db = (0.9 * self.db) + 0.1 * np.mean(dz, axis=1, keepdims=True)\n",
    "            self.prevLayer.propagate(dz, trainingStep)\n",
    "            self.w -= trainingStep * self.dw\n",
    "            self.b -= trainingStep * self.db\n",
    "\n",
    "    class Head(Layer):\n",
    "        def predict(self, a_Prev: np.array, keepActiveProb: float):\n",
    "            self.a = sigmoid((self.w @ a_Prev) + self.b)\n",
    "            return self.a\n",
    "\n",
    "        def propagate(self, realY, trainingStep):\n",
    "            dz = self.a - realY\n",
    "            self.dw = (0.9 * self.dw) + 0.1 * ((dz @ self.prevLayer.a.T) / dz.shape[1])\n",
    "            self.db = (0.9 * self.db) + 0.1 * np.mean(dz, axis=1, keepdims=True)\n",
    "            self.prevLayer.propagate(dz, trainingStep)\n",
    "            self.w -= trainingStep * self.dw\n",
    "            self.b -= trainingStep * self.db\n",
    "\n",
    "    class Input(Layer):\n",
    "        def __init__(self, layerHeight, nextLayer):\n",
    "            self.layerHeight = layerHeight\n",
    "            self.a = None\n",
    "            self.nextLayer = nextLayer if nextLayer else None\n",
    "\n",
    "        def predict(self, a_Prev: np.array, keepActiveProb: float):\n",
    "            self.a = a_Prev\n",
    "            return self.nextLayer.predict(self.a, keepActiveProb)\n",
    "\n",
    "        def propagate(self, realY, trainingStep):\n",
    "            return\n",
    "\n",
    "    \"\"\"activationFunc = \"sigmoid\" | \"tanh\" | \"relu\" | \"leaky_relu\" \"\"\"\n",
    "\n",
    "    def __init__(self, xSize, layers, activationFunc=\"sigmoid\"):\n",
    "        self.head = None\n",
    "\n",
    "        def createLayer(prevLayer, depth):\n",
    "            if depth >= len(layers):\n",
    "                layer = self.Head(1, prevLayer, None)\n",
    "                self.head = layer\n",
    "                return layer\n",
    "            else:\n",
    "                layer = self.Layer(layers[depth], prevLayer, None, activationFunc=activationFunc)\n",
    "                layer.nextLayer = createLayer(layer, depth + 1)\n",
    "                return layer\n",
    "\n",
    "        self.input = self.Input(xSize, None)\n",
    "        self.input.nextLayer = createLayer(self.input, 0)\n",
    "        self.trainingData = pd.DataFrame([], columns=['Name', 'Iteration', 'Value'])\n",
    "\n",
    "    def predict(self, a: np.array, keepActiveProb=1):\n",
    "        return self.input.predict(a, keepActiveProb)\n",
    "\n",
    "    def train(self, x: np.array, y: np.array, trainingStep, trainingIterations, debug=False,\n",
    "              debugStep=100, x_dev=None, y_dev=None, keepActiveProb=1):\n",
    "        if debug:\n",
    "            lastW = list()\n",
    "            lastB = list()\n",
    "            currentLayer = self.input.nextLayer\n",
    "            while currentLayer:\n",
    "                lastW.append(currentLayer.w.copy())\n",
    "                lastB.append(currentLayer.b.copy())\n",
    "                currentLayer = currentLayer.nextLayer\n",
    "        for tr_i in range(trainingIterations):\n",
    "            self.predict(x, keepActiveProb)\n",
    "            self.head.propagate(y, trainingStep)\n",
    "            if x_dev is not None and tr_i % debugStep == 0:\n",
    "                self.predict(x_dev)\n",
    "                self.trainingData.loc[len(self.trainingData)] = ('ErrorDev', tr_i // debugStep, -np.mean(\n",
    "                    (y_dev * np.log(np.clip(self.head.a, 0.001, 1))) + (\n",
    "                            (1 - y_dev) * np.log(np.clip(1 - self.head.a, 0.001, 1)))))\n",
    "                self.trainingData.loc[len(self.trainingData)] = (\n",
    "                    'PrecisionDev', tr_i // debugStep, np.mean((y_dev == (self.head.a > 0.5)).astype(int)))\n",
    "            if tr_i % debugStep == 0:\n",
    "                self.predict(x)\n",
    "                self.trainingData.loc[len(self.trainingData)] = ('Error', tr_i // debugStep, -np.mean(\n",
    "                    (y * np.log(np.clip(self.head.a, 0.001, 1))) + (\n",
    "                            (1 - y) * np.log(np.clip(1 - self.head.a, 0.001, 1)))))\n",
    "                self.trainingData.loc[len(self.trainingData)] = (\n",
    "                    'Precision', tr_i // debugStep, np.mean((y == (self.head.a > 0.5)).astype(int)))\n"
   ],
   "metadata": {
    "collapsed": false,
    "ExecuteTime": {
     "start_time": "2023-08-05T17:47:49.865660Z",
     "end_time": "2023-08-05T17:47:49.884784Z"
    }
   }
  },
  {
   "cell_type": "code",
   "execution_count": 40,
   "outputs": [],
   "source": [
    "class Model:\n",
    "    class Layer:\n",
    "        def __init__(self, layerHeight, prevLayer, nextLayer, activationFunc=\"sigmoid\"):\n",
    "            self.layerHeight = layerHeight\n",
    "            self.w = np.random.randn(layerHeight, prevLayer.layerHeight) * np.sqrt(1 / prevLayer.layerHeight)\n",
    "            self.b = np.zeros((layerHeight, 1))\n",
    "            self.v_dw = np.zeros((layerHeight, prevLayer.layerHeight))\n",
    "            self.v_db = np.zeros((layerHeight, 1))\n",
    "            self.s_dw = np.zeros((layerHeight, prevLayer.layerHeight))\n",
    "            self.s_db = np.zeros((layerHeight, 1))\n",
    "            self.t = 1\n",
    "            self.a = None\n",
    "            self.d = None\n",
    "            if activationFunc == \"sigmoid\":\n",
    "                self.activation = sigmoid\n",
    "                self.da_dz = lambda a: np.multiply(a, (1 - a))\n",
    "            elif activationFunc == \"tanh\":\n",
    "                self.activation = np.tanh\n",
    "                self.da_dz = lambda a: (1 - np.square(a))\n",
    "            elif activationFunc == \"relu\":\n",
    "                self.activation = reLU\n",
    "                self.da_dz = lambda a: np.where(a > 0, 1,\n",
    "                                                0)  #just taking advantage of the fact a = z for positive and a = 0 for negative\n",
    "            elif activationFunc == \"leaky_relu\":\n",
    "                self.activation = leakyReLU\n",
    "                self.da_dz = lambda a: np.where(a > 0, 1, 0.01)\n",
    "            self.prevLayer = prevLayer if prevLayer else None\n",
    "            self.nextLayer = nextLayer if nextLayer else None\n",
    "\n",
    "        def predict(self, a_Prev: np.array, keepActiveProb: float):\n",
    "            self.d = np.random.random((self.layerHeight, a_Prev.shape[1])) < keepActiveProb\n",
    "            self.a = self.activation((self.w @ a_Prev) + self.b) * self.d\n",
    "            self.a /= keepActiveProb\n",
    "            # self.a = self.activation((self.w @ a_Prev) + self.b)\n",
    "            return self.nextLayer.predict(self.a, keepActiveProb)\n",
    "\n",
    "        def propagate(self, dz_Next: np.array, trainingStep: float, l2_lambda=0):\n",
    "            da = (self.nextLayer.w.T @ dz_Next) * self.d\n",
    "            dz = self.da_dz(self.a) * da\n",
    "            dw = ((dz @ self.prevLayer.a.T) / dz.shape[1]) + ((l2_lambda / dz.shape[1]) * self.w)\n",
    "            db = np.mean(dz, axis=1, keepdims=True)\n",
    "\n",
    "            beta1 = 0.9\n",
    "            beta2 = 0.99\n",
    "            self.v_dw = (beta1 * self.v_dw) + ((1 - beta1) * dw)\n",
    "            self.v_db = (beta1 * self.v_db) + ((1 - beta1) * db)\n",
    "            self.s_dw = (beta2 * self.s_dw) + ((1 - beta2) * np.square(dw))\n",
    "            self.s_db = (beta2 * self.s_db) + ((1 - beta2) * np.square(db))\n",
    "            v_dw_cor = self.v_dw / (1 - (beta1 ** self.t))\n",
    "            v_db_cor = self.v_db / (1 - (beta1 ** self.t))\n",
    "            s_dw_cor = self.s_dw / (1 - (beta2 ** self.t))\n",
    "            s_db_cor = self.s_db / (1 - (beta2 ** self.t))\n",
    "\n",
    "            self.prevLayer.propagate(dz, trainingStep, l2_lambda)\n",
    "            self.w -= trainingStep * (v_dw_cor / (np.sqrt(s_dw_cor) + (10 ** -8)))\n",
    "            self.b -= trainingStep * (v_db_cor / (np.sqrt(s_db_cor) + (10 ** -8)))\n",
    "            self.t += 1\n",
    "\n",
    "    class Head(Layer):\n",
    "        def predict(self, a_Prev: np.array, keepActiveProb: float):\n",
    "            self.a = sigmoid((self.w @ a_Prev) + self.b)\n",
    "            return self.a\n",
    "\n",
    "        def propagate(self, realY, trainingStep, l2_lambda=0):\n",
    "            dz = self.a - realY\n",
    "            dw = ((dz @ self.prevLayer.a.T) / dz.shape[1]) + ((l2_lambda / dz.shape[1]) * self.w)\n",
    "            db = np.mean(dz, axis=1, keepdims=True)\n",
    "\n",
    "            beta1 = 0.9\n",
    "            beta2 = 0.999\n",
    "            self.v_dw = (beta1 * self.v_dw) + ((1 - beta1) * dw)\n",
    "            self.v_db = (beta1 * self.v_db) + ((1 - beta1) * db)\n",
    "            self.s_dw = (beta2 * self.s_dw) + ((1 - beta2) * np.square(dw))\n",
    "            self.s_db = (beta2 * self.s_db) + ((1 - beta2) * np.square(db))\n",
    "            v_dw_cor = self.v_dw / (1 - (beta1 ** self.t))\n",
    "            v_db_cor = self.v_db / (1 - (beta1 ** self.t))\n",
    "            s_dw_cor = self.s_dw / (1 - (beta2 ** self.t))\n",
    "            s_db_cor = self.s_db / (1 - (beta2 ** self.t))\n",
    "\n",
    "            self.prevLayer.propagate(dz, trainingStep)\n",
    "            self.w -= trainingStep * (v_dw_cor / (np.sqrt(s_dw_cor) + (10 ** -8)))\n",
    "            self.b -= trainingStep * (v_db_cor / (np.sqrt(s_db_cor) + (10 ** -8)))\n",
    "            self.t += 1\n",
    "\n",
    "    class Input(Layer):\n",
    "        def __init__(self, layerHeight, nextLayer):\n",
    "            self.layerHeight = layerHeight\n",
    "            self.a = None\n",
    "            self.w = np.identity(self.layerHeight)\n",
    "            self.b = np.zeros((layerHeight, 1))\n",
    "            self.nextLayer = nextLayer if nextLayer else None\n",
    "\n",
    "        def predict(self, a_Prev: np.array, keepActiveProb: float):\n",
    "            self.a = (self.w @ a_Prev) + self.b\n",
    "            return self.nextLayer.predict(self.a, keepActiveProb)\n",
    "\n",
    "        def propagate(self, realY, trainingStep, l2_lambda=0):\n",
    "            return\n",
    "\n",
    "    def __init__(self, xSize, layers, activationFunc=\"sigmoid\"):\n",
    "        \"\"\"activationFunc = \"sigmoid\" | \"tanh\" | \"relu\" | \"leaky_relu\" \"\"\"\n",
    "        self.head = None\n",
    "\n",
    "        def createLayer(prevLayer, depth):\n",
    "            if depth >= len(layers):\n",
    "                layer = self.Head(1, prevLayer, None)\n",
    "                self.head = layer\n",
    "                return layer\n",
    "            else:\n",
    "                layer = self.Layer(layers[depth], prevLayer, None, activationFunc=activationFunc)\n",
    "                layer.nextLayer = createLayer(layer, depth + 1)\n",
    "                return layer\n",
    "\n",
    "        self.input = self.Input(xSize, None)\n",
    "        self.input.nextLayer = createLayer(self.input, 0)\n",
    "        self.trainingData = pd.DataFrame([], columns=['Name', 'Iteration', 'Value'])\n",
    "\n",
    "    def predict(self, a: np.array, keepActiveProb=1.0):\n",
    "        return self.input.predict(a, keepActiveProb)\n",
    "\n",
    "    def train(self, X: np.array, Y: np.array, trainingStep, trainingIterations,\n",
    "              debugStep=100, x_dev=None, y_dev=None, epochSize=1024, keepActiveProb=1.0, l2_reg_lambda=0):\n",
    "        \"\"\"\n",
    "        epochSize ~ 128 | 256 | 512 \\n\n",
    "        keepActiveProb ~ ratio of active neurons {>0.8} \\n\n",
    "        l2_reg_lambda ~ weight decay coefficient {<2.0} \\n\n",
    "        \"\"\"\n",
    "        trainSetMean = np.mean(X, axis=1, keepdims=True)\n",
    "        trainSetR2 = np.mean(np.square(X - trainSetMean), axis=1, keepdims=True)\n",
    "        self.input.w = self.input.w / np.sqrt(trainSetR2)\n",
    "        self.input.b = -trainSetMean / np.sqrt(trainSetR2)\n",
    "        epochs = X.shape[1] // epochSize\n",
    "        display('epochs Amount: ' + str(epochs))\n",
    "        for tr_i in range(trainingIterations):\n",
    "            perm_indices = np.random.permutation(X.shape[1])\n",
    "            x = X[:, perm_indices]\n",
    "            y = Y[:, perm_indices]\n",
    "            for e in range(epochs):\n",
    "                self.predict(x[:, epochSize * e: epochSize * (e + 1)], keepActiveProb)\n",
    "                self.head.propagate(y[:, epochSize * e: epochSize * (e + 1)], trainingStep, l2_reg_lambda)\n",
    "            if x_dev is not None and tr_i % debugStep == 0:\n",
    "                self.predict(x_dev)\n",
    "                self.trainingData.loc[len(self.trainingData)] = ('ErrorDev', tr_i // debugStep, -np.mean(\n",
    "                    (y_dev * np.log(np.clip(self.head.a, 0.001, 1))) + (\n",
    "                            (1 - y_dev) * np.log(np.clip(1 - self.head.a, 0.001, 1)))))\n",
    "                self.trainingData.loc[len(self.trainingData)] = (\n",
    "                    'PrecisionDev', tr_i // debugStep, np.mean((y_dev == (self.head.a > 0.5)).astype(int)))\n",
    "            if tr_i % debugStep == 0:\n",
    "                self.predict(x)\n",
    "                self.trainingData.loc[len(self.trainingData)] = ('Error', tr_i // debugStep, -np.mean(\n",
    "                    (y * np.log(np.clip(self.head.a, 0.001, 1))) + (\n",
    "                            (1 - y) * np.log(np.clip(1 - self.head.a, 0.001, 1)))))\n",
    "                self.trainingData.loc[len(self.trainingData)] = (\n",
    "                    'Precision', tr_i // debugStep, np.mean((y == (self.head.a > 0.5)).astype(int)))\n"
   ],
   "metadata": {
    "collapsed": false,
    "ExecuteTime": {
     "start_time": "2023-08-05T17:30:33.858069Z",
     "end_time": "2023-08-05T17:30:33.885020Z"
    }
   }
  },
  {
   "cell_type": "code",
   "execution_count": 80,
   "outputs": [
    {
     "name": "stderr",
     "output_type": "stream",
     "text": [
      "C:\\Users\\Admin\\AppData\\Local\\Temp\\ipykernel_10448\\3711709577.py:11: DeprecationWarning:\n",
      "\n",
      "Conversion of an array with ndim > 0 to a scalar is deprecated, and will error in future. Ensure you extract a single element from your array before performing this operation. (Deprecated NumPy 1.25.)\n",
      "\n",
      "C:\\Users\\Admin\\AppData\\Local\\Temp\\ipykernel_10448\\3711709577.py:18: DeprecationWarning:\n",
      "\n",
      "Conversion of an array with ndim > 0 to a scalar is deprecated, and will error in future. Ensure you extract a single element from your array before performing this operation. (Deprecated NumPy 1.25.)\n",
      "\n"
     ]
    }
   ],
   "source": [
    "#Prepare Training Set\n",
    "trainCasesAmount = 100000\n",
    "digitAmount = 10\n",
    "x = np.zeros((digitAmount, trainCasesAmount), dtype=float)\n",
    "y = np.zeros((1, trainCasesAmount), dtype=float)\n",
    "for j in range(trainCasesAmount):\n",
    "    if random.random() < 0.5:\n",
    "        startI = min(int(-10 * (random.random() - 1)), 8)\n",
    "        x[:startI, j] = [0]\n",
    "        for i in range(startI, digitAmount):\n",
    "            x[i, j] = np.random.randint(0 if i > startI else 1, 10, 1)\n",
    "        ch = random.randint(startI, 9)\n",
    "        x[ch, j] = x[-(ch - startI) - 1, j] + 1 if x[-(ch - startI) - 1, j] < 9 else x[-(ch - startI) - 1, j] - 1\n",
    "        y[0, j] = 0\n",
    "    else:\n",
    "        startI = min(int(-10 * (random.random() - 1)), 9)\n",
    "        for i in range(startI, startI + ((digitAmount - startI) // 2) + 1):\n",
    "            x[i, j] = np.random.randint(0 if i > startI else 1, 10, 1)\n",
    "            x[-(i - startI) - 1, j] = x[i, j]\n",
    "        y[0, j] = 1"
   ],
   "metadata": {
    "collapsed": false,
    "ExecuteTime": {
     "start_time": "2023-08-05T23:06:23.498767Z",
     "end_time": "2023-08-05T23:06:30.568810Z"
    }
   }
  },
  {
   "cell_type": "code",
   "execution_count": 81,
   "outputs": [
    {
     "name": "stderr",
     "output_type": "stream",
     "text": [
      "C:\\Users\\Admin\\AppData\\Local\\Temp\\ipykernel_10448\\927766409.py:19: DeprecationWarning:\n",
      "\n",
      "Conversion of an array with ndim > 0 to a scalar is deprecated, and will error in future. Ensure you extract a single element from your array before performing this operation. (Deprecated NumPy 1.25.)\n",
      "\n",
      "C:\\Users\\Admin\\AppData\\Local\\Temp\\ipykernel_10448\\927766409.py:11: DeprecationWarning:\n",
      "\n",
      "Conversion of an array with ndim > 0 to a scalar is deprecated, and will error in future. Ensure you extract a single element from your array before performing this operation. (Deprecated NumPy 1.25.)\n",
      "\n"
     ]
    }
   ],
   "source": [
    "#Prepare Dev Set\n",
    "devCasesAmount = 1000\n",
    "digitAmount = 10\n",
    "x_dev = np.zeros((digitAmount, trainCasesAmount), dtype=float)\n",
    "y_dev = np.zeros((1, trainCasesAmount), dtype=float)\n",
    "for j in range(trainCasesAmount):\n",
    "    if random.random() < 0.5:\n",
    "        startI = min(int(-10 * (random.random() - 1)), 8)\n",
    "        x_dev[:startI, j] = [0]\n",
    "        for i in range(startI, digitAmount):\n",
    "            x_dev[i, j] = np.random.randint(0 if i > startI else 1, 10, 1)\n",
    "        ch = random.randint(startI, 9)\n",
    "        x_dev[ch, j] = x_dev[-(ch - startI) - 1, j] + 1 if x_dev[-(ch - startI) - 1, j] < 9 else x_dev[-(\n",
    "                    ch - startI) - 1, j] - 1\n",
    "        y_dev[0, j] = 0\n",
    "    else:\n",
    "        startI = min(int(-10 * (random.random() - 1)), 9)\n",
    "        for i in range(startI, startI + ((digitAmount - startI) // 2) + 1):\n",
    "            x_dev[i, j] = np.random.randint(0 if i > startI else 1, 10, 1)\n",
    "            x_dev[-(i - startI) - 1, j] = x_dev[i, j]\n",
    "        y_dev[0, j] = 1"
   ],
   "metadata": {
    "collapsed": false,
    "ExecuteTime": {
     "start_time": "2023-08-05T23:06:30.569817Z",
     "end_time": "2023-08-05T23:06:37.452020Z"
    }
   }
  },
  {
   "cell_type": "code",
   "execution_count": 84,
   "outputs": [
    {
     "data": {
      "text/plain": "'epochs Amount: 195'"
     },
     "metadata": {},
     "output_type": "display_data"
    }
   ],
   "source": [
    "np.random.seed(69)\n",
    "model0 = Model(10, [20, 20], activationFunc=\"tanh\")\n",
    "model0.train(x, y, 0.01, 101, x_dev=x_dev, y_dev=y_dev, epochSize=512, debugStep=10)"
   ],
   "metadata": {
    "collapsed": false,
    "ExecuteTime": {
     "start_time": "2023-08-05T23:07:02.229476Z",
     "end_time": "2023-08-05T23:07:32.723060Z"
    }
   }
  },
  {
   "cell_type": "code",
   "execution_count": 70,
   "outputs": [],
   "source": [
    "np.random.seed(69)\n",
    "model0_minus = Model_Old(10, [20, 20], activationFunc=\"tanh\")\n",
    "model0_minus.train(x, y, 1, 2001, x_dev=x_dev, y_dev=y_dev, debugStep=10)"
   ],
   "metadata": {
    "collapsed": false,
    "ExecuteTime": {
     "start_time": "2023-08-05T18:16:53.725572Z",
     "end_time": "2023-08-05T18:23:59.557147Z"
    }
   }
  },
  {
   "cell_type": "code",
   "execution_count": 74,
   "outputs": [],
   "source": [
    "np.random.seed(69)\n",
    "model1 = Model(10, [5, 5, 5, 5, 5, 5, 5, 5, 5, 5], activationFunc=\"tanh\")\n",
    "model1.train(x, y, 0.5, 100000, 1, devSet=True, x_dev=x_dev, y_dev=y_dev)"
   ],
   "metadata": {
    "collapsed": false,
    "ExecuteTime": {
     "start_time": "2023-07-31T02:19:08.131671Z",
     "end_time": "2023-07-31T02:49:31.618491Z"
    }
   }
  },
  {
   "cell_type": "code",
   "execution_count": 66,
   "outputs": [],
   "source": [
    "np.random.seed(69)\n",
    "model2 = Model(10, [10, 10], activationFunc=\"tanh\")\n",
    "model2.train(x, y, 0.1, 200000, 0.95, devSet=True, x_dev=x_dev, y_dev=y_dev)"
   ],
   "metadata": {
    "collapsed": false,
    "ExecuteTime": {
     "start_time": "2023-07-31T01:35:28.933366Z",
     "end_time": "2023-07-31T01:46:36.513144Z"
    }
   }
  },
  {
   "cell_type": "code",
   "execution_count": 85,
   "outputs": [
    {
     "data": {
      "application/vnd.plotly.v1+json": {
       "data": [
        {
         "hovertemplate": "Name=ErrorDev<br>Iteration=%{x}<br>Value=%{y}<extra></extra>",
         "legendgroup": "ErrorDev",
         "line": {
          "color": "#636efa",
          "dash": "solid"
         },
         "marker": {
          "symbol": "circle"
         },
         "mode": "lines",
         "name": "ErrorDev",
         "orientation": "v",
         "showlegend": true,
         "x": [
          0,
          1,
          2,
          3,
          4,
          5,
          6,
          7,
          8,
          9,
          10
         ],
         "xaxis": "x",
         "y": [
          0.5095387515050348,
          0.10035380699384777,
          0.07447572543702748,
          0.05979990569181181,
          0.05465346548656199,
          0.04312721647914587,
          0.04240098171486853,
          0.04179112607448316,
          0.03699455987958757,
          0.03653791372515591,
          0.035849899175878004
         ],
         "yaxis": "y",
         "type": "scatter"
        },
        {
         "hovertemplate": "Name=PrecisionDev<br>Iteration=%{x}<br>Value=%{y}<extra></extra>",
         "legendgroup": "PrecisionDev",
         "line": {
          "color": "#EF553B",
          "dash": "solid"
         },
         "marker": {
          "symbol": "circle"
         },
         "mode": "lines",
         "name": "PrecisionDev",
         "orientation": "v",
         "showlegend": true,
         "x": [
          0,
          1,
          2,
          3,
          4,
          5,
          6,
          7,
          8,
          9,
          10
         ],
         "xaxis": "x",
         "y": [
          0.75093,
          0.96962,
          0.97872,
          0.98442,
          0.98408,
          0.98876,
          0.98871,
          0.98887,
          0.99035,
          0.99096,
          0.99095
         ],
         "yaxis": "y",
         "type": "scatter"
        },
        {
         "hovertemplate": "Name=Error<br>Iteration=%{x}<br>Value=%{y}<extra></extra>",
         "legendgroup": "Error",
         "line": {
          "color": "#00cc96",
          "dash": "solid"
         },
         "marker": {
          "symbol": "circle"
         },
         "mode": "lines",
         "name": "Error",
         "orientation": "v",
         "showlegend": true,
         "x": [
          0,
          1,
          2,
          3,
          4,
          5,
          6,
          7,
          8,
          9,
          10
         ],
         "xaxis": "x",
         "y": [
          0.5053495848955291,
          0.0946291108229096,
          0.06493791824990745,
          0.05133986287018255,
          0.04661570397635007,
          0.03350892443370949,
          0.03297580915594226,
          0.03299982375240889,
          0.028214008341778493,
          0.02830294193116005,
          0.02725222547179465
         ],
         "yaxis": "y",
         "type": "scatter"
        },
        {
         "hovertemplate": "Name=Precision<br>Iteration=%{x}<br>Value=%{y}<extra></extra>",
         "legendgroup": "Precision",
         "line": {
          "color": "#ab63fa",
          "dash": "solid"
         },
         "marker": {
          "symbol": "circle"
         },
         "mode": "lines",
         "name": "Precision",
         "orientation": "v",
         "showlegend": true,
         "x": [
          0,
          1,
          2,
          3,
          4,
          5,
          6,
          7,
          8,
          9,
          10
         ],
         "xaxis": "x",
         "y": [
          0.75523,
          0.97212,
          0.9811,
          0.98619,
          0.98673,
          0.9914,
          0.99108,
          0.99128,
          0.99262,
          0.99278,
          0.9927
         ],
         "yaxis": "y",
         "type": "scatter"
        }
       ],
       "layout": {
        "template": {
         "data": {
          "histogram2dcontour": [
           {
            "type": "histogram2dcontour",
            "colorbar": {
             "outlinewidth": 0,
             "ticks": ""
            },
            "colorscale": [
             [
              0.0,
              "#0d0887"
             ],
             [
              0.1111111111111111,
              "#46039f"
             ],
             [
              0.2222222222222222,
              "#7201a8"
             ],
             [
              0.3333333333333333,
              "#9c179e"
             ],
             [
              0.4444444444444444,
              "#bd3786"
             ],
             [
              0.5555555555555556,
              "#d8576b"
             ],
             [
              0.6666666666666666,
              "#ed7953"
             ],
             [
              0.7777777777777778,
              "#fb9f3a"
             ],
             [
              0.8888888888888888,
              "#fdca26"
             ],
             [
              1.0,
              "#f0f921"
             ]
            ]
           }
          ],
          "choropleth": [
           {
            "type": "choropleth",
            "colorbar": {
             "outlinewidth": 0,
             "ticks": ""
            }
           }
          ],
          "histogram2d": [
           {
            "type": "histogram2d",
            "colorbar": {
             "outlinewidth": 0,
             "ticks": ""
            },
            "colorscale": [
             [
              0.0,
              "#0d0887"
             ],
             [
              0.1111111111111111,
              "#46039f"
             ],
             [
              0.2222222222222222,
              "#7201a8"
             ],
             [
              0.3333333333333333,
              "#9c179e"
             ],
             [
              0.4444444444444444,
              "#bd3786"
             ],
             [
              0.5555555555555556,
              "#d8576b"
             ],
             [
              0.6666666666666666,
              "#ed7953"
             ],
             [
              0.7777777777777778,
              "#fb9f3a"
             ],
             [
              0.8888888888888888,
              "#fdca26"
             ],
             [
              1.0,
              "#f0f921"
             ]
            ]
           }
          ],
          "heatmap": [
           {
            "type": "heatmap",
            "colorbar": {
             "outlinewidth": 0,
             "ticks": ""
            },
            "colorscale": [
             [
              0.0,
              "#0d0887"
             ],
             [
              0.1111111111111111,
              "#46039f"
             ],
             [
              0.2222222222222222,
              "#7201a8"
             ],
             [
              0.3333333333333333,
              "#9c179e"
             ],
             [
              0.4444444444444444,
              "#bd3786"
             ],
             [
              0.5555555555555556,
              "#d8576b"
             ],
             [
              0.6666666666666666,
              "#ed7953"
             ],
             [
              0.7777777777777778,
              "#fb9f3a"
             ],
             [
              0.8888888888888888,
              "#fdca26"
             ],
             [
              1.0,
              "#f0f921"
             ]
            ]
           }
          ],
          "heatmapgl": [
           {
            "type": "heatmapgl",
            "colorbar": {
             "outlinewidth": 0,
             "ticks": ""
            },
            "colorscale": [
             [
              0.0,
              "#0d0887"
             ],
             [
              0.1111111111111111,
              "#46039f"
             ],
             [
              0.2222222222222222,
              "#7201a8"
             ],
             [
              0.3333333333333333,
              "#9c179e"
             ],
             [
              0.4444444444444444,
              "#bd3786"
             ],
             [
              0.5555555555555556,
              "#d8576b"
             ],
             [
              0.6666666666666666,
              "#ed7953"
             ],
             [
              0.7777777777777778,
              "#fb9f3a"
             ],
             [
              0.8888888888888888,
              "#fdca26"
             ],
             [
              1.0,
              "#f0f921"
             ]
            ]
           }
          ],
          "contourcarpet": [
           {
            "type": "contourcarpet",
            "colorbar": {
             "outlinewidth": 0,
             "ticks": ""
            }
           }
          ],
          "contour": [
           {
            "type": "contour",
            "colorbar": {
             "outlinewidth": 0,
             "ticks": ""
            },
            "colorscale": [
             [
              0.0,
              "#0d0887"
             ],
             [
              0.1111111111111111,
              "#46039f"
             ],
             [
              0.2222222222222222,
              "#7201a8"
             ],
             [
              0.3333333333333333,
              "#9c179e"
             ],
             [
              0.4444444444444444,
              "#bd3786"
             ],
             [
              0.5555555555555556,
              "#d8576b"
             ],
             [
              0.6666666666666666,
              "#ed7953"
             ],
             [
              0.7777777777777778,
              "#fb9f3a"
             ],
             [
              0.8888888888888888,
              "#fdca26"
             ],
             [
              1.0,
              "#f0f921"
             ]
            ]
           }
          ],
          "surface": [
           {
            "type": "surface",
            "colorbar": {
             "outlinewidth": 0,
             "ticks": ""
            },
            "colorscale": [
             [
              0.0,
              "#0d0887"
             ],
             [
              0.1111111111111111,
              "#46039f"
             ],
             [
              0.2222222222222222,
              "#7201a8"
             ],
             [
              0.3333333333333333,
              "#9c179e"
             ],
             [
              0.4444444444444444,
              "#bd3786"
             ],
             [
              0.5555555555555556,
              "#d8576b"
             ],
             [
              0.6666666666666666,
              "#ed7953"
             ],
             [
              0.7777777777777778,
              "#fb9f3a"
             ],
             [
              0.8888888888888888,
              "#fdca26"
             ],
             [
              1.0,
              "#f0f921"
             ]
            ]
           }
          ],
          "mesh3d": [
           {
            "type": "mesh3d",
            "colorbar": {
             "outlinewidth": 0,
             "ticks": ""
            }
           }
          ],
          "scatter": [
           {
            "marker": {
             "line": {
              "color": "#283442"
             }
            },
            "type": "scatter"
           }
          ],
          "parcoords": [
           {
            "type": "parcoords",
            "line": {
             "colorbar": {
              "outlinewidth": 0,
              "ticks": ""
             }
            }
           }
          ],
          "scatterpolargl": [
           {
            "type": "scatterpolargl",
            "marker": {
             "colorbar": {
              "outlinewidth": 0,
              "ticks": ""
             }
            }
           }
          ],
          "bar": [
           {
            "error_x": {
             "color": "#f2f5fa"
            },
            "error_y": {
             "color": "#f2f5fa"
            },
            "marker": {
             "line": {
              "color": "rgb(17,17,17)",
              "width": 0.5
             },
             "pattern": {
              "fillmode": "overlay",
              "size": 10,
              "solidity": 0.2
             }
            },
            "type": "bar"
           }
          ],
          "scattergeo": [
           {
            "type": "scattergeo",
            "marker": {
             "colorbar": {
              "outlinewidth": 0,
              "ticks": ""
             }
            }
           }
          ],
          "scatterpolar": [
           {
            "type": "scatterpolar",
            "marker": {
             "colorbar": {
              "outlinewidth": 0,
              "ticks": ""
             }
            }
           }
          ],
          "histogram": [
           {
            "marker": {
             "pattern": {
              "fillmode": "overlay",
              "size": 10,
              "solidity": 0.2
             }
            },
            "type": "histogram"
           }
          ],
          "scattergl": [
           {
            "marker": {
             "line": {
              "color": "#283442"
             }
            },
            "type": "scattergl"
           }
          ],
          "scatter3d": [
           {
            "type": "scatter3d",
            "line": {
             "colorbar": {
              "outlinewidth": 0,
              "ticks": ""
             }
            },
            "marker": {
             "colorbar": {
              "outlinewidth": 0,
              "ticks": ""
             }
            }
           }
          ],
          "scattermapbox": [
           {
            "type": "scattermapbox",
            "marker": {
             "colorbar": {
              "outlinewidth": 0,
              "ticks": ""
             }
            }
           }
          ],
          "scatterternary": [
           {
            "type": "scatterternary",
            "marker": {
             "colorbar": {
              "outlinewidth": 0,
              "ticks": ""
             }
            }
           }
          ],
          "scattercarpet": [
           {
            "type": "scattercarpet",
            "marker": {
             "colorbar": {
              "outlinewidth": 0,
              "ticks": ""
             }
            }
           }
          ],
          "carpet": [
           {
            "aaxis": {
             "endlinecolor": "#A2B1C6",
             "gridcolor": "#506784",
             "linecolor": "#506784",
             "minorgridcolor": "#506784",
             "startlinecolor": "#A2B1C6"
            },
            "baxis": {
             "endlinecolor": "#A2B1C6",
             "gridcolor": "#506784",
             "linecolor": "#506784",
             "minorgridcolor": "#506784",
             "startlinecolor": "#A2B1C6"
            },
            "type": "carpet"
           }
          ],
          "table": [
           {
            "cells": {
             "fill": {
              "color": "#506784"
             },
             "line": {
              "color": "rgb(17,17,17)"
             }
            },
            "header": {
             "fill": {
              "color": "#2a3f5f"
             },
             "line": {
              "color": "rgb(17,17,17)"
             }
            },
            "type": "table"
           }
          ],
          "barpolar": [
           {
            "marker": {
             "line": {
              "color": "rgb(17,17,17)",
              "width": 0.5
             },
             "pattern": {
              "fillmode": "overlay",
              "size": 10,
              "solidity": 0.2
             }
            },
            "type": "barpolar"
           }
          ],
          "pie": [
           {
            "automargin": true,
            "type": "pie"
           }
          ]
         },
         "layout": {
          "autotypenumbers": "strict",
          "colorway": [
           "#636efa",
           "#EF553B",
           "#00cc96",
           "#ab63fa",
           "#FFA15A",
           "#19d3f3",
           "#FF6692",
           "#B6E880",
           "#FF97FF",
           "#FECB52"
          ],
          "font": {
           "color": "#f2f5fa"
          },
          "hovermode": "closest",
          "hoverlabel": {
           "align": "left"
          },
          "paper_bgcolor": "rgb(17,17,17)",
          "plot_bgcolor": "rgb(17,17,17)",
          "polar": {
           "bgcolor": "rgb(17,17,17)",
           "angularaxis": {
            "gridcolor": "#506784",
            "linecolor": "#506784",
            "ticks": ""
           },
           "radialaxis": {
            "gridcolor": "#506784",
            "linecolor": "#506784",
            "ticks": ""
           }
          },
          "ternary": {
           "bgcolor": "rgb(17,17,17)",
           "aaxis": {
            "gridcolor": "#506784",
            "linecolor": "#506784",
            "ticks": ""
           },
           "baxis": {
            "gridcolor": "#506784",
            "linecolor": "#506784",
            "ticks": ""
           },
           "caxis": {
            "gridcolor": "#506784",
            "linecolor": "#506784",
            "ticks": ""
           }
          },
          "coloraxis": {
           "colorbar": {
            "outlinewidth": 0,
            "ticks": ""
           }
          },
          "colorscale": {
           "sequential": [
            [
             0.0,
             "#0d0887"
            ],
            [
             0.1111111111111111,
             "#46039f"
            ],
            [
             0.2222222222222222,
             "#7201a8"
            ],
            [
             0.3333333333333333,
             "#9c179e"
            ],
            [
             0.4444444444444444,
             "#bd3786"
            ],
            [
             0.5555555555555556,
             "#d8576b"
            ],
            [
             0.6666666666666666,
             "#ed7953"
            ],
            [
             0.7777777777777778,
             "#fb9f3a"
            ],
            [
             0.8888888888888888,
             "#fdca26"
            ],
            [
             1.0,
             "#f0f921"
            ]
           ],
           "sequentialminus": [
            [
             0.0,
             "#0d0887"
            ],
            [
             0.1111111111111111,
             "#46039f"
            ],
            [
             0.2222222222222222,
             "#7201a8"
            ],
            [
             0.3333333333333333,
             "#9c179e"
            ],
            [
             0.4444444444444444,
             "#bd3786"
            ],
            [
             0.5555555555555556,
             "#d8576b"
            ],
            [
             0.6666666666666666,
             "#ed7953"
            ],
            [
             0.7777777777777778,
             "#fb9f3a"
            ],
            [
             0.8888888888888888,
             "#fdca26"
            ],
            [
             1.0,
             "#f0f921"
            ]
           ],
           "diverging": [
            [
             0,
             "#8e0152"
            ],
            [
             0.1,
             "#c51b7d"
            ],
            [
             0.2,
             "#de77ae"
            ],
            [
             0.3,
             "#f1b6da"
            ],
            [
             0.4,
             "#fde0ef"
            ],
            [
             0.5,
             "#f7f7f7"
            ],
            [
             0.6,
             "#e6f5d0"
            ],
            [
             0.7,
             "#b8e186"
            ],
            [
             0.8,
             "#7fbc41"
            ],
            [
             0.9,
             "#4d9221"
            ],
            [
             1,
             "#276419"
            ]
           ]
          },
          "xaxis": {
           "gridcolor": "#283442",
           "linecolor": "#506784",
           "ticks": "",
           "title": {
            "standoff": 15
           },
           "zerolinecolor": "#283442",
           "automargin": true,
           "zerolinewidth": 2
          },
          "yaxis": {
           "gridcolor": "#283442",
           "linecolor": "#506784",
           "ticks": "",
           "title": {
            "standoff": 15
           },
           "zerolinecolor": "#283442",
           "automargin": true,
           "zerolinewidth": 2
          },
          "scene": {
           "xaxis": {
            "backgroundcolor": "rgb(17,17,17)",
            "gridcolor": "#506784",
            "linecolor": "#506784",
            "showbackground": true,
            "ticks": "",
            "zerolinecolor": "#C8D4E3",
            "gridwidth": 2
           },
           "yaxis": {
            "backgroundcolor": "rgb(17,17,17)",
            "gridcolor": "#506784",
            "linecolor": "#506784",
            "showbackground": true,
            "ticks": "",
            "zerolinecolor": "#C8D4E3",
            "gridwidth": 2
           },
           "zaxis": {
            "backgroundcolor": "rgb(17,17,17)",
            "gridcolor": "#506784",
            "linecolor": "#506784",
            "showbackground": true,
            "ticks": "",
            "zerolinecolor": "#C8D4E3",
            "gridwidth": 2
           }
          },
          "shapedefaults": {
           "line": {
            "color": "#f2f5fa"
           }
          },
          "annotationdefaults": {
           "arrowcolor": "#f2f5fa",
           "arrowhead": 0,
           "arrowwidth": 1
          },
          "geo": {
           "bgcolor": "rgb(17,17,17)",
           "landcolor": "rgb(17,17,17)",
           "subunitcolor": "#506784",
           "showland": true,
           "showlakes": true,
           "lakecolor": "rgb(17,17,17)"
          },
          "title": {
           "x": 0.05
          },
          "updatemenudefaults": {
           "bgcolor": "#506784",
           "borderwidth": 0
          },
          "sliderdefaults": {
           "bgcolor": "#C8D4E3",
           "borderwidth": 1,
           "bordercolor": "rgb(17,17,17)",
           "tickwidth": 0
          },
          "mapbox": {
           "style": "dark"
          }
         }
        },
        "xaxis": {
         "anchor": "y",
         "domain": [
          0.0,
          1.0
         ],
         "title": {
          "text": "Iteration"
         }
        },
        "yaxis": {
         "anchor": "x",
         "domain": [
          0.0,
          1.0
         ],
         "title": {
          "text": "Value"
         }
        },
        "legend": {
         "title": {
          "text": "Name"
         },
         "tracegroupgap": 0
        },
        "margin": {
         "t": 60
        }
       },
       "config": {
        "plotlyServerURL": "https://plot.ly"
       }
      },
      "text/html": "<div>                            <div id=\"09a6f962-6df4-474b-a70e-72099bddbf29\" class=\"plotly-graph-div\" style=\"height:525px; width:100%;\"></div>            <script type=\"text/javascript\">                require([\"plotly\"], function(Plotly) {                    window.PLOTLYENV=window.PLOTLYENV || {};                                    if (document.getElementById(\"09a6f962-6df4-474b-a70e-72099bddbf29\")) {                    Plotly.newPlot(                        \"09a6f962-6df4-474b-a70e-72099bddbf29\",                        [{\"hovertemplate\":\"Name=ErrorDev<br>Iteration=%{x}<br>Value=%{y}<extra></extra>\",\"legendgroup\":\"ErrorDev\",\"line\":{\"color\":\"#636efa\",\"dash\":\"solid\"},\"marker\":{\"symbol\":\"circle\"},\"mode\":\"lines\",\"name\":\"ErrorDev\",\"orientation\":\"v\",\"showlegend\":true,\"x\":[0,1,2,3,4,5,6,7,8,9,10],\"xaxis\":\"x\",\"y\":[0.5095387515050348,0.10035380699384777,0.07447572543702748,0.05979990569181181,0.05465346548656199,0.04312721647914587,0.04240098171486853,0.04179112607448316,0.03699455987958757,0.03653791372515591,0.035849899175878004],\"yaxis\":\"y\",\"type\":\"scatter\"},{\"hovertemplate\":\"Name=PrecisionDev<br>Iteration=%{x}<br>Value=%{y}<extra></extra>\",\"legendgroup\":\"PrecisionDev\",\"line\":{\"color\":\"#EF553B\",\"dash\":\"solid\"},\"marker\":{\"symbol\":\"circle\"},\"mode\":\"lines\",\"name\":\"PrecisionDev\",\"orientation\":\"v\",\"showlegend\":true,\"x\":[0,1,2,3,4,5,6,7,8,9,10],\"xaxis\":\"x\",\"y\":[0.75093,0.96962,0.97872,0.98442,0.98408,0.98876,0.98871,0.98887,0.99035,0.99096,0.99095],\"yaxis\":\"y\",\"type\":\"scatter\"},{\"hovertemplate\":\"Name=Error<br>Iteration=%{x}<br>Value=%{y}<extra></extra>\",\"legendgroup\":\"Error\",\"line\":{\"color\":\"#00cc96\",\"dash\":\"solid\"},\"marker\":{\"symbol\":\"circle\"},\"mode\":\"lines\",\"name\":\"Error\",\"orientation\":\"v\",\"showlegend\":true,\"x\":[0,1,2,3,4,5,6,7,8,9,10],\"xaxis\":\"x\",\"y\":[0.5053495848955291,0.0946291108229096,0.06493791824990745,0.05133986287018255,0.04661570397635007,0.03350892443370949,0.03297580915594226,0.03299982375240889,0.028214008341778493,0.02830294193116005,0.02725222547179465],\"yaxis\":\"y\",\"type\":\"scatter\"},{\"hovertemplate\":\"Name=Precision<br>Iteration=%{x}<br>Value=%{y}<extra></extra>\",\"legendgroup\":\"Precision\",\"line\":{\"color\":\"#ab63fa\",\"dash\":\"solid\"},\"marker\":{\"symbol\":\"circle\"},\"mode\":\"lines\",\"name\":\"Precision\",\"orientation\":\"v\",\"showlegend\":true,\"x\":[0,1,2,3,4,5,6,7,8,9,10],\"xaxis\":\"x\",\"y\":[0.75523,0.97212,0.9811,0.98619,0.98673,0.9914,0.99108,0.99128,0.99262,0.99278,0.9927],\"yaxis\":\"y\",\"type\":\"scatter\"}],                        {\"template\":{\"data\":{\"histogram2dcontour\":[{\"type\":\"histogram2dcontour\",\"colorbar\":{\"outlinewidth\":0,\"ticks\":\"\"},\"colorscale\":[[0.0,\"#0d0887\"],[0.1111111111111111,\"#46039f\"],[0.2222222222222222,\"#7201a8\"],[0.3333333333333333,\"#9c179e\"],[0.4444444444444444,\"#bd3786\"],[0.5555555555555556,\"#d8576b\"],[0.6666666666666666,\"#ed7953\"],[0.7777777777777778,\"#fb9f3a\"],[0.8888888888888888,\"#fdca26\"],[1.0,\"#f0f921\"]]}],\"choropleth\":[{\"type\":\"choropleth\",\"colorbar\":{\"outlinewidth\":0,\"ticks\":\"\"}}],\"histogram2d\":[{\"type\":\"histogram2d\",\"colorbar\":{\"outlinewidth\":0,\"ticks\":\"\"},\"colorscale\":[[0.0,\"#0d0887\"],[0.1111111111111111,\"#46039f\"],[0.2222222222222222,\"#7201a8\"],[0.3333333333333333,\"#9c179e\"],[0.4444444444444444,\"#bd3786\"],[0.5555555555555556,\"#d8576b\"],[0.6666666666666666,\"#ed7953\"],[0.7777777777777778,\"#fb9f3a\"],[0.8888888888888888,\"#fdca26\"],[1.0,\"#f0f921\"]]}],\"heatmap\":[{\"type\":\"heatmap\",\"colorbar\":{\"outlinewidth\":0,\"ticks\":\"\"},\"colorscale\":[[0.0,\"#0d0887\"],[0.1111111111111111,\"#46039f\"],[0.2222222222222222,\"#7201a8\"],[0.3333333333333333,\"#9c179e\"],[0.4444444444444444,\"#bd3786\"],[0.5555555555555556,\"#d8576b\"],[0.6666666666666666,\"#ed7953\"],[0.7777777777777778,\"#fb9f3a\"],[0.8888888888888888,\"#fdca26\"],[1.0,\"#f0f921\"]]}],\"heatmapgl\":[{\"type\":\"heatmapgl\",\"colorbar\":{\"outlinewidth\":0,\"ticks\":\"\"},\"colorscale\":[[0.0,\"#0d0887\"],[0.1111111111111111,\"#46039f\"],[0.2222222222222222,\"#7201a8\"],[0.3333333333333333,\"#9c179e\"],[0.4444444444444444,\"#bd3786\"],[0.5555555555555556,\"#d8576b\"],[0.6666666666666666,\"#ed7953\"],[0.7777777777777778,\"#fb9f3a\"],[0.8888888888888888,\"#fdca26\"],[1.0,\"#f0f921\"]]}],\"contourcarpet\":[{\"type\":\"contourcarpet\",\"colorbar\":{\"outlinewidth\":0,\"ticks\":\"\"}}],\"contour\":[{\"type\":\"contour\",\"colorbar\":{\"outlinewidth\":0,\"ticks\":\"\"},\"colorscale\":[[0.0,\"#0d0887\"],[0.1111111111111111,\"#46039f\"],[0.2222222222222222,\"#7201a8\"],[0.3333333333333333,\"#9c179e\"],[0.4444444444444444,\"#bd3786\"],[0.5555555555555556,\"#d8576b\"],[0.6666666666666666,\"#ed7953\"],[0.7777777777777778,\"#fb9f3a\"],[0.8888888888888888,\"#fdca26\"],[1.0,\"#f0f921\"]]}],\"surface\":[{\"type\":\"surface\",\"colorbar\":{\"outlinewidth\":0,\"ticks\":\"\"},\"colorscale\":[[0.0,\"#0d0887\"],[0.1111111111111111,\"#46039f\"],[0.2222222222222222,\"#7201a8\"],[0.3333333333333333,\"#9c179e\"],[0.4444444444444444,\"#bd3786\"],[0.5555555555555556,\"#d8576b\"],[0.6666666666666666,\"#ed7953\"],[0.7777777777777778,\"#fb9f3a\"],[0.8888888888888888,\"#fdca26\"],[1.0,\"#f0f921\"]]}],\"mesh3d\":[{\"type\":\"mesh3d\",\"colorbar\":{\"outlinewidth\":0,\"ticks\":\"\"}}],\"scatter\":[{\"marker\":{\"line\":{\"color\":\"#283442\"}},\"type\":\"scatter\"}],\"parcoords\":[{\"type\":\"parcoords\",\"line\":{\"colorbar\":{\"outlinewidth\":0,\"ticks\":\"\"}}}],\"scatterpolargl\":[{\"type\":\"scatterpolargl\",\"marker\":{\"colorbar\":{\"outlinewidth\":0,\"ticks\":\"\"}}}],\"bar\":[{\"error_x\":{\"color\":\"#f2f5fa\"},\"error_y\":{\"color\":\"#f2f5fa\"},\"marker\":{\"line\":{\"color\":\"rgb(17,17,17)\",\"width\":0.5},\"pattern\":{\"fillmode\":\"overlay\",\"size\":10,\"solidity\":0.2}},\"type\":\"bar\"}],\"scattergeo\":[{\"type\":\"scattergeo\",\"marker\":{\"colorbar\":{\"outlinewidth\":0,\"ticks\":\"\"}}}],\"scatterpolar\":[{\"type\":\"scatterpolar\",\"marker\":{\"colorbar\":{\"outlinewidth\":0,\"ticks\":\"\"}}}],\"histogram\":[{\"marker\":{\"pattern\":{\"fillmode\":\"overlay\",\"size\":10,\"solidity\":0.2}},\"type\":\"histogram\"}],\"scattergl\":[{\"marker\":{\"line\":{\"color\":\"#283442\"}},\"type\":\"scattergl\"}],\"scatter3d\":[{\"type\":\"scatter3d\",\"line\":{\"colorbar\":{\"outlinewidth\":0,\"ticks\":\"\"}},\"marker\":{\"colorbar\":{\"outlinewidth\":0,\"ticks\":\"\"}}}],\"scattermapbox\":[{\"type\":\"scattermapbox\",\"marker\":{\"colorbar\":{\"outlinewidth\":0,\"ticks\":\"\"}}}],\"scatterternary\":[{\"type\":\"scatterternary\",\"marker\":{\"colorbar\":{\"outlinewidth\":0,\"ticks\":\"\"}}}],\"scattercarpet\":[{\"type\":\"scattercarpet\",\"marker\":{\"colorbar\":{\"outlinewidth\":0,\"ticks\":\"\"}}}],\"carpet\":[{\"aaxis\":{\"endlinecolor\":\"#A2B1C6\",\"gridcolor\":\"#506784\",\"linecolor\":\"#506784\",\"minorgridcolor\":\"#506784\",\"startlinecolor\":\"#A2B1C6\"},\"baxis\":{\"endlinecolor\":\"#A2B1C6\",\"gridcolor\":\"#506784\",\"linecolor\":\"#506784\",\"minorgridcolor\":\"#506784\",\"startlinecolor\":\"#A2B1C6\"},\"type\":\"carpet\"}],\"table\":[{\"cells\":{\"fill\":{\"color\":\"#506784\"},\"line\":{\"color\":\"rgb(17,17,17)\"}},\"header\":{\"fill\":{\"color\":\"#2a3f5f\"},\"line\":{\"color\":\"rgb(17,17,17)\"}},\"type\":\"table\"}],\"barpolar\":[{\"marker\":{\"line\":{\"color\":\"rgb(17,17,17)\",\"width\":0.5},\"pattern\":{\"fillmode\":\"overlay\",\"size\":10,\"solidity\":0.2}},\"type\":\"barpolar\"}],\"pie\":[{\"automargin\":true,\"type\":\"pie\"}]},\"layout\":{\"autotypenumbers\":\"strict\",\"colorway\":[\"#636efa\",\"#EF553B\",\"#00cc96\",\"#ab63fa\",\"#FFA15A\",\"#19d3f3\",\"#FF6692\",\"#B6E880\",\"#FF97FF\",\"#FECB52\"],\"font\":{\"color\":\"#f2f5fa\"},\"hovermode\":\"closest\",\"hoverlabel\":{\"align\":\"left\"},\"paper_bgcolor\":\"rgb(17,17,17)\",\"plot_bgcolor\":\"rgb(17,17,17)\",\"polar\":{\"bgcolor\":\"rgb(17,17,17)\",\"angularaxis\":{\"gridcolor\":\"#506784\",\"linecolor\":\"#506784\",\"ticks\":\"\"},\"radialaxis\":{\"gridcolor\":\"#506784\",\"linecolor\":\"#506784\",\"ticks\":\"\"}},\"ternary\":{\"bgcolor\":\"rgb(17,17,17)\",\"aaxis\":{\"gridcolor\":\"#506784\",\"linecolor\":\"#506784\",\"ticks\":\"\"},\"baxis\":{\"gridcolor\":\"#506784\",\"linecolor\":\"#506784\",\"ticks\":\"\"},\"caxis\":{\"gridcolor\":\"#506784\",\"linecolor\":\"#506784\",\"ticks\":\"\"}},\"coloraxis\":{\"colorbar\":{\"outlinewidth\":0,\"ticks\":\"\"}},\"colorscale\":{\"sequential\":[[0.0,\"#0d0887\"],[0.1111111111111111,\"#46039f\"],[0.2222222222222222,\"#7201a8\"],[0.3333333333333333,\"#9c179e\"],[0.4444444444444444,\"#bd3786\"],[0.5555555555555556,\"#d8576b\"],[0.6666666666666666,\"#ed7953\"],[0.7777777777777778,\"#fb9f3a\"],[0.8888888888888888,\"#fdca26\"],[1.0,\"#f0f921\"]],\"sequentialminus\":[[0.0,\"#0d0887\"],[0.1111111111111111,\"#46039f\"],[0.2222222222222222,\"#7201a8\"],[0.3333333333333333,\"#9c179e\"],[0.4444444444444444,\"#bd3786\"],[0.5555555555555556,\"#d8576b\"],[0.6666666666666666,\"#ed7953\"],[0.7777777777777778,\"#fb9f3a\"],[0.8888888888888888,\"#fdca26\"],[1.0,\"#f0f921\"]],\"diverging\":[[0,\"#8e0152\"],[0.1,\"#c51b7d\"],[0.2,\"#de77ae\"],[0.3,\"#f1b6da\"],[0.4,\"#fde0ef\"],[0.5,\"#f7f7f7\"],[0.6,\"#e6f5d0\"],[0.7,\"#b8e186\"],[0.8,\"#7fbc41\"],[0.9,\"#4d9221\"],[1,\"#276419\"]]},\"xaxis\":{\"gridcolor\":\"#283442\",\"linecolor\":\"#506784\",\"ticks\":\"\",\"title\":{\"standoff\":15},\"zerolinecolor\":\"#283442\",\"automargin\":true,\"zerolinewidth\":2},\"yaxis\":{\"gridcolor\":\"#283442\",\"linecolor\":\"#506784\",\"ticks\":\"\",\"title\":{\"standoff\":15},\"zerolinecolor\":\"#283442\",\"automargin\":true,\"zerolinewidth\":2},\"scene\":{\"xaxis\":{\"backgroundcolor\":\"rgb(17,17,17)\",\"gridcolor\":\"#506784\",\"linecolor\":\"#506784\",\"showbackground\":true,\"ticks\":\"\",\"zerolinecolor\":\"#C8D4E3\",\"gridwidth\":2},\"yaxis\":{\"backgroundcolor\":\"rgb(17,17,17)\",\"gridcolor\":\"#506784\",\"linecolor\":\"#506784\",\"showbackground\":true,\"ticks\":\"\",\"zerolinecolor\":\"#C8D4E3\",\"gridwidth\":2},\"zaxis\":{\"backgroundcolor\":\"rgb(17,17,17)\",\"gridcolor\":\"#506784\",\"linecolor\":\"#506784\",\"showbackground\":true,\"ticks\":\"\",\"zerolinecolor\":\"#C8D4E3\",\"gridwidth\":2}},\"shapedefaults\":{\"line\":{\"color\":\"#f2f5fa\"}},\"annotationdefaults\":{\"arrowcolor\":\"#f2f5fa\",\"arrowhead\":0,\"arrowwidth\":1},\"geo\":{\"bgcolor\":\"rgb(17,17,17)\",\"landcolor\":\"rgb(17,17,17)\",\"subunitcolor\":\"#506784\",\"showland\":true,\"showlakes\":true,\"lakecolor\":\"rgb(17,17,17)\"},\"title\":{\"x\":0.05},\"updatemenudefaults\":{\"bgcolor\":\"#506784\",\"borderwidth\":0},\"sliderdefaults\":{\"bgcolor\":\"#C8D4E3\",\"borderwidth\":1,\"bordercolor\":\"rgb(17,17,17)\",\"tickwidth\":0},\"mapbox\":{\"style\":\"dark\"}}},\"xaxis\":{\"anchor\":\"y\",\"domain\":[0.0,1.0],\"title\":{\"text\":\"Iteration\"}},\"yaxis\":{\"anchor\":\"x\",\"domain\":[0.0,1.0],\"title\":{\"text\":\"Value\"}},\"legend\":{\"title\":{\"text\":\"Name\"},\"tracegroupgap\":0},\"margin\":{\"t\":60}},                        {\"responsive\": true}                    ).then(function(){\n                            \nvar gd = document.getElementById('09a6f962-6df4-474b-a70e-72099bddbf29');\nvar x = new MutationObserver(function (mutations, observer) {{\n        var display = window.getComputedStyle(gd).display;\n        if (!display || display === 'none') {{\n            console.log([gd, 'removed!']);\n            Plotly.purge(gd);\n            observer.disconnect();\n        }}\n}});\n\n// Listen for the removal of the full notebook cells\nvar notebookContainer = gd.closest('#notebook-container');\nif (notebookContainer) {{\n    x.observe(notebookContainer, {childList: true});\n}}\n\n// Listen for the clearing of the current output cell\nvar outputEl = gd.closest('.output');\nif (outputEl) {{\n    x.observe(outputEl, {childList: true});\n}}\n\n                        })                };                });            </script>        </div>"
     },
     "metadata": {},
     "output_type": "display_data"
    }
   ],
   "source": [
    "px.line(model0.trainingData, x='Iteration', y='Value', color='Name')"
   ],
   "metadata": {
    "collapsed": false,
    "ExecuteTime": {
     "start_time": "2023-08-05T23:08:21.163709Z",
     "end_time": "2023-08-05T23:08:21.251828Z"
    }
   }
  },
  {
   "cell_type": "code",
   "execution_count": 72,
   "outputs": [
    {
     "data": {
      "application/vnd.plotly.v1+json": {
       "data": [
        {
         "hovertemplate": "Name=ErrorDev<br>Iteration=%{x}<br>Value=%{y}<extra></extra>",
         "legendgroup": "ErrorDev",
         "line": {
          "color": "#636efa",
          "dash": "solid"
         },
         "marker": {
          "symbol": "circle"
         },
         "mode": "lines",
         "name": "ErrorDev",
         "orientation": "v",
         "showlegend": true,
         "x": [
          0,
          1,
          2,
          3,
          4,
          5,
          6,
          7,
          8,
          9,
          10,
          11,
          12,
          13,
          14,
          15,
          16,
          17,
          18,
          19,
          20,
          21,
          22,
          23,
          24,
          25,
          26,
          27,
          28,
          29,
          30,
          31,
          32,
          33,
          34,
          35,
          36,
          37,
          38,
          39,
          40,
          41,
          42,
          43,
          44,
          45,
          46,
          47,
          48,
          49,
          50,
          51,
          52,
          53,
          54,
          55,
          56,
          57,
          58,
          59,
          60,
          61,
          62,
          63,
          64,
          65,
          66,
          67,
          68,
          69,
          70,
          71,
          72,
          73,
          74,
          75,
          76,
          77,
          78,
          79,
          80,
          81,
          82,
          83,
          84,
          85,
          86,
          87,
          88,
          89,
          90,
          91,
          92,
          93,
          94,
          95,
          96,
          97,
          98,
          99,
          100,
          101,
          102,
          103,
          104,
          105,
          106,
          107,
          108,
          109,
          110,
          111,
          112,
          113,
          114,
          115,
          116,
          117,
          118,
          119,
          120,
          121,
          122,
          123,
          124,
          125,
          126,
          127,
          128,
          129,
          130,
          131,
          132,
          133,
          134,
          135,
          136,
          137,
          138,
          139,
          140,
          141,
          142,
          143,
          144,
          145,
          146,
          147,
          148,
          149,
          150,
          151,
          152,
          153,
          154,
          155,
          156,
          157,
          158,
          159,
          160,
          161,
          162,
          163,
          164,
          165,
          166,
          167,
          168,
          169,
          170,
          171,
          172,
          173,
          174,
          175,
          176,
          177,
          178,
          179,
          180,
          181,
          182,
          183,
          184,
          185,
          186,
          187,
          188,
          189,
          190,
          191,
          192,
          193,
          194,
          195,
          196,
          197,
          198,
          199,
          200
         ],
         "xaxis": "x",
         "y": [
          0.6931515091595535,
          0.6931503282821035,
          0.6931445212485446,
          0.6931270062314675,
          0.6931048672799232,
          0.6930710927454747,
          0.6930067364961588,
          0.6928729197010689,
          0.6925701361549798,
          0.6918159539269896,
          0.6898526755921959,
          0.6852474196770093,
          0.6761988527798203,
          0.6650056722738923,
          0.6571617590634308,
          0.6491394268489383,
          0.6397057220629359,
          0.6296242664667461,
          0.6186635361228432,
          0.6068396301893958,
          0.5929280074514052,
          0.5804444003658332,
          0.5665306238481966,
          0.5485435789876321,
          0.5294460959968527,
          0.5091093936271929,
          0.48957120175630126,
          0.47157365379202076,
          0.45330177808711264,
          0.4367366024525052,
          0.4212687408406265,
          0.47196609557066244,
          0.44603940405763803,
          0.3859629087530444,
          0.35866316777199864,
          0.3319919159476919,
          0.3094099648643967,
          0.32381442341458705,
          0.31450917327678524,
          0.2647294444672954,
          0.29011592796082186,
          0.24782493951217474,
          0.2938977434156852,
          0.2720394388969646,
          0.3067156783736427,
          0.2222726998516036,
          0.2070688361573315,
          0.22617867595893085,
          0.17230181111179482,
          0.17635156809047192,
          0.1994787305569696,
          0.16310310472850903,
          0.148707836650099,
          0.13397182410882366,
          0.12294188298184179,
          0.11794697647463495,
          0.11351808847234601,
          0.10967507569812879,
          0.10640082655253183,
          0.10339248351154307,
          0.10058820598767555,
          0.09799811046354016,
          0.0956025204293585,
          0.09338152817579845,
          0.09131572389744752,
          0.08937382470542894,
          0.08752621987545947,
          0.08576549591615269,
          0.08407719976854115,
          0.08245240577540508,
          0.08089350382686432,
          0.0794047638618545,
          0.07797988671165498,
          0.07660858811172669,
          0.07528276726983739,
          0.07399659424364824,
          0.0727462594102229,
          0.07152882555607401,
          0.07034615514150774,
          0.06919961158427823,
          0.06809048642688266,
          0.06702088805263544,
          0.06599004794854252,
          0.06499573534784597,
          0.06403472036321209,
          0.0631039285156391,
          0.062201502956447795,
          0.061325514884521044,
          0.06047457850478242,
          0.05964789165272913,
          0.05884514373204771,
          0.05806475358126955,
          0.057308710789944574,
          0.05657553883581932,
          0.05586550447449554,
          0.05517725765360709,
          0.05450912085574105,
          0.053859760573478625,
          0.05322845666845143,
          0.05261535530614845,
          0.052021452410733346,
          0.05144781617021127,
          0.0508948897444744,
          0.05036234209755389,
          0.04984882119775968,
          0.04935320861767382,
          0.04887427561559367,
          0.048410545792431856,
          0.04796042436930526,
          0.04752150376355582,
          0.04709256668991544,
          0.0466721687480175,
          0.04625842817813334,
          0.04584913781564574,
          0.04544149205320343,
          0.04503167334240486,
          0.04461450358119146,
          0.04418664589826536,
          0.0437456817388288,
          0.04328901313837332,
          0.04282329032784997,
          0.04235089917747828,
          0.041876061500416624,
          0.04139848223852915,
          0.04091837955937509,
          0.04043757084983031,
          0.03995956760801434,
          0.03948822811982406,
          0.039026486513016385,
          0.038576432392911725,
          0.038138272095887445,
          0.0377133098112594,
          0.03730225046834972,
          0.03690382191628796,
          0.03651801136140994,
          0.0361438543794971,
          0.03577988542593057,
          0.03542482692512311,
          0.035077750451902874,
          0.03473685836402324,
          0.03439155692815414,
          0.03417784403104201,
          0.03394182891794189,
          0.03394816476128191,
          1.1824260569731455,
          0.5797664499897612,
          0.44966446526238985,
          0.401269793702021,
          0.3266509439582152,
          0.28756038367170544,
          0.2517932303885674,
          0.22978786743156254,
          0.21601904472226582,
          0.20373211539721192,
          0.19159964011108296,
          0.17985900938970573,
          0.16846964388870977,
          0.1590453170463185,
          0.1514928162869369,
          0.14575738289946338,
          0.1404786753812216,
          0.13557404675644402,
          0.1316358276937399,
          0.12834273838486904,
          0.12522099338064713,
          0.12232661849265686,
          0.11966199779894,
          0.11707321891836553,
          0.11452687097025042,
          0.11205122430207799,
          0.10961487707264796,
          0.10726508942095285,
          0.1049192047692678,
          0.10252623216569795,
          0.09999506940648824,
          0.09752879879138607,
          0.09509579470585754,
          0.09257062702177207,
          0.09005519336490292,
          0.08757268997238347,
          0.08515136058188187,
          0.0826355996071644,
          0.07990721768868031,
          0.07639796492284118,
          0.07208909044830827,
          0.06944159952430869,
          0.0672719643473291,
          0.06524469410353585,
          0.06346901312428034,
          0.06181148079031812,
          0.06028407476479749,
          0.058918548814877375,
          0.057621226519714734,
          0.05635512406431611,
          0.05516801958877898,
          0.05413105991615033,
          0.05321143161183442,
          0.052378613704490644,
          0.0516242402801307,
          0.050887980504454644,
          0.05013323419740759
         ],
         "yaxis": "y",
         "type": "scatter"
        },
        {
         "hovertemplate": "Name=PrecisionDev<br>Iteration=%{x}<br>Value=%{y}<extra></extra>",
         "legendgroup": "PrecisionDev",
         "line": {
          "color": "#EF553B",
          "dash": "solid"
         },
         "marker": {
          "symbol": "circle"
         },
         "mode": "lines",
         "name": "PrecisionDev",
         "orientation": "v",
         "showlegend": true,
         "x": [
          0,
          1,
          2,
          3,
          4,
          5,
          6,
          7,
          8,
          9,
          10,
          11,
          12,
          13,
          14,
          15,
          16,
          17,
          18,
          19,
          20,
          21,
          22,
          23,
          24,
          25,
          26,
          27,
          28,
          29,
          30,
          31,
          32,
          33,
          34,
          35,
          36,
          37,
          38,
          39,
          40,
          41,
          42,
          43,
          44,
          45,
          46,
          47,
          48,
          49,
          50,
          51,
          52,
          53,
          54,
          55,
          56,
          57,
          58,
          59,
          60,
          61,
          62,
          63,
          64,
          65,
          66,
          67,
          68,
          69,
          70,
          71,
          72,
          73,
          74,
          75,
          76,
          77,
          78,
          79,
          80,
          81,
          82,
          83,
          84,
          85,
          86,
          87,
          88,
          89,
          90,
          91,
          92,
          93,
          94,
          95,
          96,
          97,
          98,
          99,
          100,
          101,
          102,
          103,
          104,
          105,
          106,
          107,
          108,
          109,
          110,
          111,
          112,
          113,
          114,
          115,
          116,
          117,
          118,
          119,
          120,
          121,
          122,
          123,
          124,
          125,
          126,
          127,
          128,
          129,
          130,
          131,
          132,
          133,
          134,
          135,
          136,
          137,
          138,
          139,
          140,
          141,
          142,
          143,
          144,
          145,
          146,
          147,
          148,
          149,
          150,
          151,
          152,
          153,
          154,
          155,
          156,
          157,
          158,
          159,
          160,
          161,
          162,
          163,
          164,
          165,
          166,
          167,
          168,
          169,
          170,
          171,
          172,
          173,
          174,
          175,
          176,
          177,
          178,
          179,
          180,
          181,
          182,
          183,
          184,
          185,
          186,
          187,
          188,
          189,
          190,
          191,
          192,
          193,
          194,
          195,
          196,
          197,
          198,
          199,
          200
         ],
         "xaxis": "x",
         "y": [
          0.47143,
          0.49983,
          0.49983,
          0.49983,
          0.49983,
          0.49983,
          0.49983,
          0.50815,
          0.5451,
          0.58994,
          0.59144,
          0.59585,
          0.59598,
          0.59843,
          0.60494,
          0.60907,
          0.62036,
          0.63481,
          0.64523,
          0.65585,
          0.65994,
          0.68879,
          0.70542,
          0.71284,
          0.72283,
          0.74006,
          0.75051,
          0.76423,
          0.77576,
          0.787,
          0.79829,
          0.75043,
          0.77484,
          0.82621,
          0.83738,
          0.84741,
          0.86241,
          0.8881,
          0.86976,
          0.90788,
          0.87752,
          0.92033,
          0.87083,
          0.8803,
          0.86427,
          0.93086,
          0.93276,
          0.92154,
          0.94594,
          0.94869,
          0.92743,
          0.95517,
          0.95559,
          0.96049,
          0.96292,
          0.96489,
          0.96616,
          0.96763,
          0.96886,
          0.96956,
          0.97055,
          0.97143,
          0.97233,
          0.9731,
          0.97398,
          0.9749,
          0.97558,
          0.97627,
          0.97686,
          0.97728,
          0.97776,
          0.97829,
          0.97862,
          0.97909,
          0.97947,
          0.97964,
          0.97991,
          0.98024,
          0.98059,
          0.98091,
          0.98133,
          0.98162,
          0.98188,
          0.98235,
          0.98263,
          0.98295,
          0.98345,
          0.98404,
          0.98457,
          0.98475,
          0.98506,
          0.98563,
          0.98572,
          0.98588,
          0.98599,
          0.98614,
          0.98639,
          0.98668,
          0.98681,
          0.9871,
          0.9873,
          0.98788,
          0.98793,
          0.98798,
          0.98814,
          0.98818,
          0.98836,
          0.98842,
          0.98851,
          0.98858,
          0.9886,
          0.98873,
          0.98882,
          0.98889,
          0.98898,
          0.98901,
          0.98912,
          0.98917,
          0.98928,
          0.98934,
          0.98936,
          0.98938,
          0.98946,
          0.98961,
          0.9897,
          0.98984,
          0.98996,
          0.99001,
          0.9901,
          0.99019,
          0.99033,
          0.99049,
          0.99055,
          0.99067,
          0.99078,
          0.99082,
          0.99096,
          0.99109,
          0.99119,
          0.99126,
          0.99163,
          0.9914,
          0.99212,
          0.99215,
          0.71217,
          0.7089,
          0.76825,
          0.80026,
          0.85648,
          0.87855,
          0.89196,
          0.89839,
          0.90658,
          0.91649,
          0.92166,
          0.92544,
          0.9339,
          0.94002,
          0.94367,
          0.94581,
          0.9487,
          0.95064,
          0.95229,
          0.95397,
          0.95599,
          0.95752,
          0.95877,
          0.96021,
          0.96163,
          0.96276,
          0.96395,
          0.96522,
          0.96642,
          0.96738,
          0.96886,
          0.96992,
          0.97093,
          0.9721,
          0.97285,
          0.97389,
          0.975,
          0.97572,
          0.9768,
          0.97796,
          0.97995,
          0.98109,
          0.98205,
          0.98274,
          0.98338,
          0.98392,
          0.98451,
          0.98493,
          0.98531,
          0.98573,
          0.98623,
          0.98661,
          0.98691,
          0.98733,
          0.98749,
          0.98776,
          0.98799
         ],
         "yaxis": "y",
         "type": "scatter"
        },
        {
         "hovertemplate": "Name=Error<br>Iteration=%{x}<br>Value=%{y}<extra></extra>",
         "legendgroup": "Error",
         "line": {
          "color": "#00cc96",
          "dash": "solid"
         },
         "marker": {
          "symbol": "circle"
         },
         "mode": "lines",
         "name": "Error",
         "orientation": "v",
         "showlegend": true,
         "x": [
          0,
          1,
          2,
          3,
          4,
          5,
          6,
          7,
          8,
          9,
          10,
          11,
          12,
          13,
          14,
          15,
          16,
          17,
          18,
          19,
          20,
          21,
          22,
          23,
          24,
          25,
          26,
          27,
          28,
          29,
          30,
          31,
          32,
          33,
          34,
          35,
          36,
          37,
          38,
          39,
          40,
          41,
          42,
          43,
          44,
          45,
          46,
          47,
          48,
          49,
          50,
          51,
          52,
          53,
          54,
          55,
          56,
          57,
          58,
          59,
          60,
          61,
          62,
          63,
          64,
          65,
          66,
          67,
          68,
          69,
          70,
          71,
          72,
          73,
          74,
          75,
          76,
          77,
          78,
          79,
          80,
          81,
          82,
          83,
          84,
          85,
          86,
          87,
          88,
          89,
          90,
          91,
          92,
          93,
          94,
          95,
          96,
          97,
          98,
          99,
          100,
          101,
          102,
          103,
          104,
          105,
          106,
          107,
          108,
          109,
          110,
          111,
          112,
          113,
          114,
          115,
          116,
          117,
          118,
          119,
          120,
          121,
          122,
          123,
          124,
          125,
          126,
          127,
          128,
          129,
          130,
          131,
          132,
          133,
          134,
          135,
          136,
          137,
          138,
          139,
          140,
          141,
          142,
          143,
          144,
          145,
          146,
          147,
          148,
          149,
          150,
          151,
          152,
          153,
          154,
          155,
          156,
          157,
          158,
          159,
          160,
          161,
          162,
          163,
          164,
          165,
          166,
          167,
          168,
          169,
          170,
          171,
          172,
          173,
          174,
          175,
          176,
          177,
          178,
          179,
          180,
          181,
          182,
          183,
          184,
          185,
          186,
          187,
          188,
          189,
          190,
          191,
          192,
          193,
          194,
          195,
          196,
          197,
          198,
          199,
          200
         ],
         "xaxis": "x",
         "y": [
          0.6931512139793388,
          0.6931408138747968,
          0.6931307279852488,
          0.6931162100087013,
          0.6930956913183056,
          0.6930611069578644,
          0.6929967140263577,
          0.6928647282889597,
          0.6925663683578469,
          0.6918245727921245,
          0.6898989047381671,
          0.6853907114870503,
          0.6765410382947291,
          0.6658453485955103,
          0.6581665636264364,
          0.6499027154669044,
          0.6407510768032469,
          0.6306812345062632,
          0.619699842609592,
          0.6078799753017823,
          0.5939882138251432,
          0.5814761684596472,
          0.5671340724771796,
          0.5490859314347273,
          0.529722828149124,
          0.5093204819412156,
          0.4898163501825001,
          0.47181698174453274,
          0.4536996086623611,
          0.4368700618075279,
          0.420866193543467,
          0.472189892660969,
          0.44706909542387746,
          0.3862120926662327,
          0.3586004355573106,
          0.3308646279639679,
          0.3078376708829771,
          0.3220158109447926,
          0.3120593438774852,
          0.26313602475470266,
          0.28692464594056377,
          0.24561577136920237,
          0.2917537522044643,
          0.2705580170810148,
          0.30592685220291455,
          0.22143493112608595,
          0.20656829409449712,
          0.22773218133506778,
          0.17135974157524617,
          0.17534639629623006,
          0.19724263728820543,
          0.16276541657493718,
          0.14720940217380404,
          0.13206672733740782,
          0.1208918135712026,
          0.11547394982886701,
          0.11090093278243737,
          0.10700475387006511,
          0.10364782738464663,
          0.10056482365211947,
          0.09771202822446996,
          0.09505620326173274,
          0.09259021225743325,
          0.09029595605932073,
          0.0881435550135734,
          0.08610210964320339,
          0.08415445755661836,
          0.08230049541861453,
          0.08054534461327363,
          0.07887584044530786,
          0.07727805227362879,
          0.07574398345002384,
          0.0742678938124646,
          0.07284571453614734,
          0.07147413371107549,
          0.07014935750653237,
          0.06886805392713631,
          0.06762643109588141,
          0.06642398161306103,
          0.06525977506161004,
          0.0641337945544108,
          0.06304490217825003,
          0.06199177768211579,
          0.0609734375787625,
          0.059988680535125724,
          0.05903542945030511,
          0.058112062798204946,
          0.05721720882797567,
          0.056349066496754203,
          0.05550571079001608,
          0.05468565913070791,
          0.05388677047196465,
          0.05310937011362354,
          0.0523540248433659,
          0.05162057089914019,
          0.05090845585319071,
          0.050217051110153725,
          0.04954512241809811,
          0.04889252353483057,
          0.048260422542346075,
          0.04764921526967606,
          0.047059030480879144,
          0.04648969781099284,
          0.04594047172441384,
          0.0454097573720699,
          0.04489657241282548,
          0.044399872744230615,
          0.043919336494412785,
          0.04345385975879853,
          0.043002325877943295,
          0.04256352348643908,
          0.04213581249101149,
          0.04171743069133625,
          0.041306777052172686,
          0.04090148316101833,
          0.04049896897165619,
          0.040095735493259024,
          0.03968693079565985,
          0.03926953065314443,
          0.038842304886439576,
          0.03840544771323329,
          0.037960222002557664,
          0.037508180797074055,
          0.03704972516567755,
          0.03658811216889309,
          0.036128194869784025,
          0.035674268354227844,
          0.03523017013500605,
          0.03479813530855518,
          0.03437835160528398,
          0.033970803941574056,
          0.033576463182213495,
          0.03319472285085221,
          0.03282486504705551,
          0.03246590920936209,
          0.03211622609443466,
          0.031773107192956146,
          0.03143499305390851,
          0.031101485621098626,
          0.03077186112007689,
          0.03047080183202245,
          0.03015393644418742,
          0.030121618351867434,
          0.030100119724465867,
          1.187335299372039,
          0.5786784849771923,
          0.45182479318736857,
          0.4035586115210542,
          0.3276049861268348,
          0.2877582805525547,
          0.24985221951911285,
          0.22767764151808237,
          0.21265959156188496,
          0.19945324443053333,
          0.18706285123931723,
          0.17524147842783164,
          0.16415543439003077,
          0.15484769341208598,
          0.147494591281552,
          0.1415762039147355,
          0.13595649288382042,
          0.1312575199813636,
          0.12738341375416068,
          0.1241619283011483,
          0.12117890897589201,
          0.11841724104214525,
          0.11574966285787107,
          0.11321302814482667,
          0.11090991445846865,
          0.10864831339546174,
          0.10637282821108406,
          0.10403496655565979,
          0.10167787805563434,
          0.09932631946944355,
          0.09702194682974698,
          0.09471386406061541,
          0.09238676292453149,
          0.09005776650692307,
          0.08766541861507741,
          0.08526520006596258,
          0.08270894325926628,
          0.0799570081546927,
          0.07706320627494653,
          0.07373888832084938,
          0.06972377275957177,
          0.06700818994392004,
          0.06484406961610008,
          0.06272871397173227,
          0.06072361330358231,
          0.05895486594205481,
          0.05752344219784313,
          0.056349687886191685,
          0.05526539313921146,
          0.05418996952846887,
          0.05315969610029208,
          0.052191992927703074,
          0.05128196689364773,
          0.05042889255029991,
          0.049661023248586254,
          0.04892465859735918,
          0.04813487429574909
         ],
         "yaxis": "y",
         "type": "scatter"
        },
        {
         "hovertemplate": "Name=Precision<br>Iteration=%{x}<br>Value=%{y}<extra></extra>",
         "legendgroup": "Precision",
         "line": {
          "color": "#ab63fa",
          "dash": "solid"
         },
         "marker": {
          "symbol": "circle"
         },
         "mode": "lines",
         "name": "Precision",
         "orientation": "v",
         "showlegend": true,
         "x": [
          0,
          1,
          2,
          3,
          4,
          5,
          6,
          7,
          8,
          9,
          10,
          11,
          12,
          13,
          14,
          15,
          16,
          17,
          18,
          19,
          20,
          21,
          22,
          23,
          24,
          25,
          26,
          27,
          28,
          29,
          30,
          31,
          32,
          33,
          34,
          35,
          36,
          37,
          38,
          39,
          40,
          41,
          42,
          43,
          44,
          45,
          46,
          47,
          48,
          49,
          50,
          51,
          52,
          53,
          54,
          55,
          56,
          57,
          58,
          59,
          60,
          61,
          62,
          63,
          64,
          65,
          66,
          67,
          68,
          69,
          70,
          71,
          72,
          73,
          74,
          75,
          76,
          77,
          78,
          79,
          80,
          81,
          82,
          83,
          84,
          85,
          86,
          87,
          88,
          89,
          90,
          91,
          92,
          93,
          94,
          95,
          96,
          97,
          98,
          99,
          100,
          101,
          102,
          103,
          104,
          105,
          106,
          107,
          108,
          109,
          110,
          111,
          112,
          113,
          114,
          115,
          116,
          117,
          118,
          119,
          120,
          121,
          122,
          123,
          124,
          125,
          126,
          127,
          128,
          129,
          130,
          131,
          132,
          133,
          134,
          135,
          136,
          137,
          138,
          139,
          140,
          141,
          142,
          143,
          144,
          145,
          146,
          147,
          148,
          149,
          150,
          151,
          152,
          153,
          154,
          155,
          156,
          157,
          158,
          159,
          160,
          161,
          162,
          163,
          164,
          165,
          166,
          167,
          168,
          169,
          170,
          171,
          172,
          173,
          174,
          175,
          176,
          177,
          178,
          179,
          180,
          181,
          182,
          183,
          184,
          185,
          186,
          187,
          188,
          189,
          190,
          191,
          192,
          193,
          194,
          195,
          196,
          197,
          198,
          199,
          200
         ],
         "xaxis": "x",
         "y": [
          0.47428,
          0.50152,
          0.50152,
          0.50152,
          0.50152,
          0.50152,
          0.50152,
          0.50929,
          0.54595,
          0.58879,
          0.59076,
          0.59449,
          0.59248,
          0.5958,
          0.60287,
          0.60731,
          0.61851,
          0.63321,
          0.64444,
          0.65532,
          0.65949,
          0.68754,
          0.70333,
          0.71246,
          0.72291,
          0.73984,
          0.7491,
          0.76276,
          0.77518,
          0.78646,
          0.79781,
          0.75053,
          0.77503,
          0.82561,
          0.83653,
          0.84736,
          0.86184,
          0.88809,
          0.87109,
          0.90914,
          0.87905,
          0.92187,
          0.87112,
          0.88094,
          0.86402,
          0.92964,
          0.93236,
          0.92155,
          0.94601,
          0.94963,
          0.92852,
          0.95643,
          0.95635,
          0.96159,
          0.96422,
          0.96604,
          0.96727,
          0.96828,
          0.96962,
          0.97055,
          0.97143,
          0.97238,
          0.97321,
          0.97395,
          0.97485,
          0.97567,
          0.97622,
          0.97683,
          0.97726,
          0.97771,
          0.97823,
          0.97872,
          0.97896,
          0.9794,
          0.97977,
          0.98008,
          0.98037,
          0.98073,
          0.98103,
          0.98133,
          0.98183,
          0.98208,
          0.9823,
          0.98279,
          0.98323,
          0.98358,
          0.98414,
          0.98472,
          0.98529,
          0.98542,
          0.98557,
          0.9863,
          0.98645,
          0.98669,
          0.98685,
          0.98699,
          0.98734,
          0.98761,
          0.98776,
          0.98799,
          0.98821,
          0.98862,
          0.98878,
          0.98892,
          0.98907,
          0.98924,
          0.98938,
          0.98953,
          0.98957,
          0.98966,
          0.98975,
          0.9899,
          0.99001,
          0.99012,
          0.99021,
          0.99024,
          0.99031,
          0.99038,
          0.99048,
          0.99059,
          0.99061,
          0.99076,
          0.99087,
          0.9909,
          0.99105,
          0.99112,
          0.99122,
          0.99135,
          0.99151,
          0.99159,
          0.99176,
          0.99184,
          0.99198,
          0.99203,
          0.9921,
          0.99224,
          0.99231,
          0.99238,
          0.99246,
          0.99257,
          0.99283,
          0.99277,
          0.99328,
          0.99341,
          0.70987,
          0.70785,
          0.76752,
          0.79843,
          0.8545,
          0.87924,
          0.89325,
          0.89962,
          0.9084,
          0.918,
          0.92342,
          0.92688,
          0.93478,
          0.94114,
          0.9454,
          0.94787,
          0.95069,
          0.95266,
          0.95412,
          0.95618,
          0.95812,
          0.95951,
          0.96081,
          0.96203,
          0.96341,
          0.96449,
          0.96522,
          0.96656,
          0.96762,
          0.96868,
          0.96995,
          0.97066,
          0.97175,
          0.9726,
          0.97357,
          0.97455,
          0.97566,
          0.97683,
          0.97805,
          0.97897,
          0.98055,
          0.98177,
          0.98272,
          0.98354,
          0.98431,
          0.98501,
          0.98577,
          0.98607,
          0.98637,
          0.98665,
          0.98698,
          0.98737,
          0.98768,
          0.9882,
          0.98844,
          0.98864,
          0.98882
         ],
         "yaxis": "y",
         "type": "scatter"
        }
       ],
       "layout": {
        "template": {
         "data": {
          "histogram2dcontour": [
           {
            "type": "histogram2dcontour",
            "colorbar": {
             "outlinewidth": 0,
             "ticks": ""
            },
            "colorscale": [
             [
              0.0,
              "#0d0887"
             ],
             [
              0.1111111111111111,
              "#46039f"
             ],
             [
              0.2222222222222222,
              "#7201a8"
             ],
             [
              0.3333333333333333,
              "#9c179e"
             ],
             [
              0.4444444444444444,
              "#bd3786"
             ],
             [
              0.5555555555555556,
              "#d8576b"
             ],
             [
              0.6666666666666666,
              "#ed7953"
             ],
             [
              0.7777777777777778,
              "#fb9f3a"
             ],
             [
              0.8888888888888888,
              "#fdca26"
             ],
             [
              1.0,
              "#f0f921"
             ]
            ]
           }
          ],
          "choropleth": [
           {
            "type": "choropleth",
            "colorbar": {
             "outlinewidth": 0,
             "ticks": ""
            }
           }
          ],
          "histogram2d": [
           {
            "type": "histogram2d",
            "colorbar": {
             "outlinewidth": 0,
             "ticks": ""
            },
            "colorscale": [
             [
              0.0,
              "#0d0887"
             ],
             [
              0.1111111111111111,
              "#46039f"
             ],
             [
              0.2222222222222222,
              "#7201a8"
             ],
             [
              0.3333333333333333,
              "#9c179e"
             ],
             [
              0.4444444444444444,
              "#bd3786"
             ],
             [
              0.5555555555555556,
              "#d8576b"
             ],
             [
              0.6666666666666666,
              "#ed7953"
             ],
             [
              0.7777777777777778,
              "#fb9f3a"
             ],
             [
              0.8888888888888888,
              "#fdca26"
             ],
             [
              1.0,
              "#f0f921"
             ]
            ]
           }
          ],
          "heatmap": [
           {
            "type": "heatmap",
            "colorbar": {
             "outlinewidth": 0,
             "ticks": ""
            },
            "colorscale": [
             [
              0.0,
              "#0d0887"
             ],
             [
              0.1111111111111111,
              "#46039f"
             ],
             [
              0.2222222222222222,
              "#7201a8"
             ],
             [
              0.3333333333333333,
              "#9c179e"
             ],
             [
              0.4444444444444444,
              "#bd3786"
             ],
             [
              0.5555555555555556,
              "#d8576b"
             ],
             [
              0.6666666666666666,
              "#ed7953"
             ],
             [
              0.7777777777777778,
              "#fb9f3a"
             ],
             [
              0.8888888888888888,
              "#fdca26"
             ],
             [
              1.0,
              "#f0f921"
             ]
            ]
           }
          ],
          "heatmapgl": [
           {
            "type": "heatmapgl",
            "colorbar": {
             "outlinewidth": 0,
             "ticks": ""
            },
            "colorscale": [
             [
              0.0,
              "#0d0887"
             ],
             [
              0.1111111111111111,
              "#46039f"
             ],
             [
              0.2222222222222222,
              "#7201a8"
             ],
             [
              0.3333333333333333,
              "#9c179e"
             ],
             [
              0.4444444444444444,
              "#bd3786"
             ],
             [
              0.5555555555555556,
              "#d8576b"
             ],
             [
              0.6666666666666666,
              "#ed7953"
             ],
             [
              0.7777777777777778,
              "#fb9f3a"
             ],
             [
              0.8888888888888888,
              "#fdca26"
             ],
             [
              1.0,
              "#f0f921"
             ]
            ]
           }
          ],
          "contourcarpet": [
           {
            "type": "contourcarpet",
            "colorbar": {
             "outlinewidth": 0,
             "ticks": ""
            }
           }
          ],
          "contour": [
           {
            "type": "contour",
            "colorbar": {
             "outlinewidth": 0,
             "ticks": ""
            },
            "colorscale": [
             [
              0.0,
              "#0d0887"
             ],
             [
              0.1111111111111111,
              "#46039f"
             ],
             [
              0.2222222222222222,
              "#7201a8"
             ],
             [
              0.3333333333333333,
              "#9c179e"
             ],
             [
              0.4444444444444444,
              "#bd3786"
             ],
             [
              0.5555555555555556,
              "#d8576b"
             ],
             [
              0.6666666666666666,
              "#ed7953"
             ],
             [
              0.7777777777777778,
              "#fb9f3a"
             ],
             [
              0.8888888888888888,
              "#fdca26"
             ],
             [
              1.0,
              "#f0f921"
             ]
            ]
           }
          ],
          "surface": [
           {
            "type": "surface",
            "colorbar": {
             "outlinewidth": 0,
             "ticks": ""
            },
            "colorscale": [
             [
              0.0,
              "#0d0887"
             ],
             [
              0.1111111111111111,
              "#46039f"
             ],
             [
              0.2222222222222222,
              "#7201a8"
             ],
             [
              0.3333333333333333,
              "#9c179e"
             ],
             [
              0.4444444444444444,
              "#bd3786"
             ],
             [
              0.5555555555555556,
              "#d8576b"
             ],
             [
              0.6666666666666666,
              "#ed7953"
             ],
             [
              0.7777777777777778,
              "#fb9f3a"
             ],
             [
              0.8888888888888888,
              "#fdca26"
             ],
             [
              1.0,
              "#f0f921"
             ]
            ]
           }
          ],
          "mesh3d": [
           {
            "type": "mesh3d",
            "colorbar": {
             "outlinewidth": 0,
             "ticks": ""
            }
           }
          ],
          "scatter": [
           {
            "marker": {
             "line": {
              "color": "#283442"
             }
            },
            "type": "scatter"
           }
          ],
          "parcoords": [
           {
            "type": "parcoords",
            "line": {
             "colorbar": {
              "outlinewidth": 0,
              "ticks": ""
             }
            }
           }
          ],
          "scatterpolargl": [
           {
            "type": "scatterpolargl",
            "marker": {
             "colorbar": {
              "outlinewidth": 0,
              "ticks": ""
             }
            }
           }
          ],
          "bar": [
           {
            "error_x": {
             "color": "#f2f5fa"
            },
            "error_y": {
             "color": "#f2f5fa"
            },
            "marker": {
             "line": {
              "color": "rgb(17,17,17)",
              "width": 0.5
             },
             "pattern": {
              "fillmode": "overlay",
              "size": 10,
              "solidity": 0.2
             }
            },
            "type": "bar"
           }
          ],
          "scattergeo": [
           {
            "type": "scattergeo",
            "marker": {
             "colorbar": {
              "outlinewidth": 0,
              "ticks": ""
             }
            }
           }
          ],
          "scatterpolar": [
           {
            "type": "scatterpolar",
            "marker": {
             "colorbar": {
              "outlinewidth": 0,
              "ticks": ""
             }
            }
           }
          ],
          "histogram": [
           {
            "marker": {
             "pattern": {
              "fillmode": "overlay",
              "size": 10,
              "solidity": 0.2
             }
            },
            "type": "histogram"
           }
          ],
          "scattergl": [
           {
            "marker": {
             "line": {
              "color": "#283442"
             }
            },
            "type": "scattergl"
           }
          ],
          "scatter3d": [
           {
            "type": "scatter3d",
            "line": {
             "colorbar": {
              "outlinewidth": 0,
              "ticks": ""
             }
            },
            "marker": {
             "colorbar": {
              "outlinewidth": 0,
              "ticks": ""
             }
            }
           }
          ],
          "scattermapbox": [
           {
            "type": "scattermapbox",
            "marker": {
             "colorbar": {
              "outlinewidth": 0,
              "ticks": ""
             }
            }
           }
          ],
          "scatterternary": [
           {
            "type": "scatterternary",
            "marker": {
             "colorbar": {
              "outlinewidth": 0,
              "ticks": ""
             }
            }
           }
          ],
          "scattercarpet": [
           {
            "type": "scattercarpet",
            "marker": {
             "colorbar": {
              "outlinewidth": 0,
              "ticks": ""
             }
            }
           }
          ],
          "carpet": [
           {
            "aaxis": {
             "endlinecolor": "#A2B1C6",
             "gridcolor": "#506784",
             "linecolor": "#506784",
             "minorgridcolor": "#506784",
             "startlinecolor": "#A2B1C6"
            },
            "baxis": {
             "endlinecolor": "#A2B1C6",
             "gridcolor": "#506784",
             "linecolor": "#506784",
             "minorgridcolor": "#506784",
             "startlinecolor": "#A2B1C6"
            },
            "type": "carpet"
           }
          ],
          "table": [
           {
            "cells": {
             "fill": {
              "color": "#506784"
             },
             "line": {
              "color": "rgb(17,17,17)"
             }
            },
            "header": {
             "fill": {
              "color": "#2a3f5f"
             },
             "line": {
              "color": "rgb(17,17,17)"
             }
            },
            "type": "table"
           }
          ],
          "barpolar": [
           {
            "marker": {
             "line": {
              "color": "rgb(17,17,17)",
              "width": 0.5
             },
             "pattern": {
              "fillmode": "overlay",
              "size": 10,
              "solidity": 0.2
             }
            },
            "type": "barpolar"
           }
          ],
          "pie": [
           {
            "automargin": true,
            "type": "pie"
           }
          ]
         },
         "layout": {
          "autotypenumbers": "strict",
          "colorway": [
           "#636efa",
           "#EF553B",
           "#00cc96",
           "#ab63fa",
           "#FFA15A",
           "#19d3f3",
           "#FF6692",
           "#B6E880",
           "#FF97FF",
           "#FECB52"
          ],
          "font": {
           "color": "#f2f5fa"
          },
          "hovermode": "closest",
          "hoverlabel": {
           "align": "left"
          },
          "paper_bgcolor": "rgb(17,17,17)",
          "plot_bgcolor": "rgb(17,17,17)",
          "polar": {
           "bgcolor": "rgb(17,17,17)",
           "angularaxis": {
            "gridcolor": "#506784",
            "linecolor": "#506784",
            "ticks": ""
           },
           "radialaxis": {
            "gridcolor": "#506784",
            "linecolor": "#506784",
            "ticks": ""
           }
          },
          "ternary": {
           "bgcolor": "rgb(17,17,17)",
           "aaxis": {
            "gridcolor": "#506784",
            "linecolor": "#506784",
            "ticks": ""
           },
           "baxis": {
            "gridcolor": "#506784",
            "linecolor": "#506784",
            "ticks": ""
           },
           "caxis": {
            "gridcolor": "#506784",
            "linecolor": "#506784",
            "ticks": ""
           }
          },
          "coloraxis": {
           "colorbar": {
            "outlinewidth": 0,
            "ticks": ""
           }
          },
          "colorscale": {
           "sequential": [
            [
             0.0,
             "#0d0887"
            ],
            [
             0.1111111111111111,
             "#46039f"
            ],
            [
             0.2222222222222222,
             "#7201a8"
            ],
            [
             0.3333333333333333,
             "#9c179e"
            ],
            [
             0.4444444444444444,
             "#bd3786"
            ],
            [
             0.5555555555555556,
             "#d8576b"
            ],
            [
             0.6666666666666666,
             "#ed7953"
            ],
            [
             0.7777777777777778,
             "#fb9f3a"
            ],
            [
             0.8888888888888888,
             "#fdca26"
            ],
            [
             1.0,
             "#f0f921"
            ]
           ],
           "sequentialminus": [
            [
             0.0,
             "#0d0887"
            ],
            [
             0.1111111111111111,
             "#46039f"
            ],
            [
             0.2222222222222222,
             "#7201a8"
            ],
            [
             0.3333333333333333,
             "#9c179e"
            ],
            [
             0.4444444444444444,
             "#bd3786"
            ],
            [
             0.5555555555555556,
             "#d8576b"
            ],
            [
             0.6666666666666666,
             "#ed7953"
            ],
            [
             0.7777777777777778,
             "#fb9f3a"
            ],
            [
             0.8888888888888888,
             "#fdca26"
            ],
            [
             1.0,
             "#f0f921"
            ]
           ],
           "diverging": [
            [
             0,
             "#8e0152"
            ],
            [
             0.1,
             "#c51b7d"
            ],
            [
             0.2,
             "#de77ae"
            ],
            [
             0.3,
             "#f1b6da"
            ],
            [
             0.4,
             "#fde0ef"
            ],
            [
             0.5,
             "#f7f7f7"
            ],
            [
             0.6,
             "#e6f5d0"
            ],
            [
             0.7,
             "#b8e186"
            ],
            [
             0.8,
             "#7fbc41"
            ],
            [
             0.9,
             "#4d9221"
            ],
            [
             1,
             "#276419"
            ]
           ]
          },
          "xaxis": {
           "gridcolor": "#283442",
           "linecolor": "#506784",
           "ticks": "",
           "title": {
            "standoff": 15
           },
           "zerolinecolor": "#283442",
           "automargin": true,
           "zerolinewidth": 2
          },
          "yaxis": {
           "gridcolor": "#283442",
           "linecolor": "#506784",
           "ticks": "",
           "title": {
            "standoff": 15
           },
           "zerolinecolor": "#283442",
           "automargin": true,
           "zerolinewidth": 2
          },
          "scene": {
           "xaxis": {
            "backgroundcolor": "rgb(17,17,17)",
            "gridcolor": "#506784",
            "linecolor": "#506784",
            "showbackground": true,
            "ticks": "",
            "zerolinecolor": "#C8D4E3",
            "gridwidth": 2
           },
           "yaxis": {
            "backgroundcolor": "rgb(17,17,17)",
            "gridcolor": "#506784",
            "linecolor": "#506784",
            "showbackground": true,
            "ticks": "",
            "zerolinecolor": "#C8D4E3",
            "gridwidth": 2
           },
           "zaxis": {
            "backgroundcolor": "rgb(17,17,17)",
            "gridcolor": "#506784",
            "linecolor": "#506784",
            "showbackground": true,
            "ticks": "",
            "zerolinecolor": "#C8D4E3",
            "gridwidth": 2
           }
          },
          "shapedefaults": {
           "line": {
            "color": "#f2f5fa"
           }
          },
          "annotationdefaults": {
           "arrowcolor": "#f2f5fa",
           "arrowhead": 0,
           "arrowwidth": 1
          },
          "geo": {
           "bgcolor": "rgb(17,17,17)",
           "landcolor": "rgb(17,17,17)",
           "subunitcolor": "#506784",
           "showland": true,
           "showlakes": true,
           "lakecolor": "rgb(17,17,17)"
          },
          "title": {
           "x": 0.05
          },
          "updatemenudefaults": {
           "bgcolor": "#506784",
           "borderwidth": 0
          },
          "sliderdefaults": {
           "bgcolor": "#C8D4E3",
           "borderwidth": 1,
           "bordercolor": "rgb(17,17,17)",
           "tickwidth": 0
          },
          "mapbox": {
           "style": "dark"
          }
         }
        },
        "xaxis": {
         "anchor": "y",
         "domain": [
          0.0,
          1.0
         ],
         "title": {
          "text": "Iteration"
         }
        },
        "yaxis": {
         "anchor": "x",
         "domain": [
          0.0,
          1.0
         ],
         "title": {
          "text": "Value"
         }
        },
        "legend": {
         "title": {
          "text": "Name"
         },
         "tracegroupgap": 0
        },
        "margin": {
         "t": 60
        }
       },
       "config": {
        "plotlyServerURL": "https://plot.ly"
       }
      },
      "text/html": "<div>                            <div id=\"226114ad-cad7-42e5-aaf8-88f0e6eb65cc\" class=\"plotly-graph-div\" style=\"height:525px; width:100%;\"></div>            <script type=\"text/javascript\">                require([\"plotly\"], function(Plotly) {                    window.PLOTLYENV=window.PLOTLYENV || {};                                    if (document.getElementById(\"226114ad-cad7-42e5-aaf8-88f0e6eb65cc\")) {                    Plotly.newPlot(                        \"226114ad-cad7-42e5-aaf8-88f0e6eb65cc\",                        [{\"hovertemplate\":\"Name=ErrorDev<br>Iteration=%{x}<br>Value=%{y}<extra></extra>\",\"legendgroup\":\"ErrorDev\",\"line\":{\"color\":\"#636efa\",\"dash\":\"solid\"},\"marker\":{\"symbol\":\"circle\"},\"mode\":\"lines\",\"name\":\"ErrorDev\",\"orientation\":\"v\",\"showlegend\":true,\"x\":[0,1,2,3,4,5,6,7,8,9,10,11,12,13,14,15,16,17,18,19,20,21,22,23,24,25,26,27,28,29,30,31,32,33,34,35,36,37,38,39,40,41,42,43,44,45,46,47,48,49,50,51,52,53,54,55,56,57,58,59,60,61,62,63,64,65,66,67,68,69,70,71,72,73,74,75,76,77,78,79,80,81,82,83,84,85,86,87,88,89,90,91,92,93,94,95,96,97,98,99,100,101,102,103,104,105,106,107,108,109,110,111,112,113,114,115,116,117,118,119,120,121,122,123,124,125,126,127,128,129,130,131,132,133,134,135,136,137,138,139,140,141,142,143,144,145,146,147,148,149,150,151,152,153,154,155,156,157,158,159,160,161,162,163,164,165,166,167,168,169,170,171,172,173,174,175,176,177,178,179,180,181,182,183,184,185,186,187,188,189,190,191,192,193,194,195,196,197,198,199,200],\"xaxis\":\"x\",\"y\":[0.6931515091595535,0.6931503282821035,0.6931445212485446,0.6931270062314675,0.6931048672799232,0.6930710927454747,0.6930067364961588,0.6928729197010689,0.6925701361549798,0.6918159539269896,0.6898526755921959,0.6852474196770093,0.6761988527798203,0.6650056722738923,0.6571617590634308,0.6491394268489383,0.6397057220629359,0.6296242664667461,0.6186635361228432,0.6068396301893958,0.5929280074514052,0.5804444003658332,0.5665306238481966,0.5485435789876321,0.5294460959968527,0.5091093936271929,0.48957120175630126,0.47157365379202076,0.45330177808711264,0.4367366024525052,0.4212687408406265,0.47196609557066244,0.44603940405763803,0.3859629087530444,0.35866316777199864,0.3319919159476919,0.3094099648643967,0.32381442341458705,0.31450917327678524,0.2647294444672954,0.29011592796082186,0.24782493951217474,0.2938977434156852,0.2720394388969646,0.3067156783736427,0.2222726998516036,0.2070688361573315,0.22617867595893085,0.17230181111179482,0.17635156809047192,0.1994787305569696,0.16310310472850903,0.148707836650099,0.13397182410882366,0.12294188298184179,0.11794697647463495,0.11351808847234601,0.10967507569812879,0.10640082655253183,0.10339248351154307,0.10058820598767555,0.09799811046354016,0.0956025204293585,0.09338152817579845,0.09131572389744752,0.08937382470542894,0.08752621987545947,0.08576549591615269,0.08407719976854115,0.08245240577540508,0.08089350382686432,0.0794047638618545,0.07797988671165498,0.07660858811172669,0.07528276726983739,0.07399659424364824,0.0727462594102229,0.07152882555607401,0.07034615514150774,0.06919961158427823,0.06809048642688266,0.06702088805263544,0.06599004794854252,0.06499573534784597,0.06403472036321209,0.0631039285156391,0.062201502956447795,0.061325514884521044,0.06047457850478242,0.05964789165272913,0.05884514373204771,0.05806475358126955,0.057308710789944574,0.05657553883581932,0.05586550447449554,0.05517725765360709,0.05450912085574105,0.053859760573478625,0.05322845666845143,0.05261535530614845,0.052021452410733346,0.05144781617021127,0.0508948897444744,0.05036234209755389,0.04984882119775968,0.04935320861767382,0.04887427561559367,0.048410545792431856,0.04796042436930526,0.04752150376355582,0.04709256668991544,0.0466721687480175,0.04625842817813334,0.04584913781564574,0.04544149205320343,0.04503167334240486,0.04461450358119146,0.04418664589826536,0.0437456817388288,0.04328901313837332,0.04282329032784997,0.04235089917747828,0.041876061500416624,0.04139848223852915,0.04091837955937509,0.04043757084983031,0.03995956760801434,0.03948822811982406,0.039026486513016385,0.038576432392911725,0.038138272095887445,0.0377133098112594,0.03730225046834972,0.03690382191628796,0.03651801136140994,0.0361438543794971,0.03577988542593057,0.03542482692512311,0.035077750451902874,0.03473685836402324,0.03439155692815414,0.03417784403104201,0.03394182891794189,0.03394816476128191,1.1824260569731455,0.5797664499897612,0.44966446526238985,0.401269793702021,0.3266509439582152,0.28756038367170544,0.2517932303885674,0.22978786743156254,0.21601904472226582,0.20373211539721192,0.19159964011108296,0.17985900938970573,0.16846964388870977,0.1590453170463185,0.1514928162869369,0.14575738289946338,0.1404786753812216,0.13557404675644402,0.1316358276937399,0.12834273838486904,0.12522099338064713,0.12232661849265686,0.11966199779894,0.11707321891836553,0.11452687097025042,0.11205122430207799,0.10961487707264796,0.10726508942095285,0.1049192047692678,0.10252623216569795,0.09999506940648824,0.09752879879138607,0.09509579470585754,0.09257062702177207,0.09005519336490292,0.08757268997238347,0.08515136058188187,0.0826355996071644,0.07990721768868031,0.07639796492284118,0.07208909044830827,0.06944159952430869,0.0672719643473291,0.06524469410353585,0.06346901312428034,0.06181148079031812,0.06028407476479749,0.058918548814877375,0.057621226519714734,0.05635512406431611,0.05516801958877898,0.05413105991615033,0.05321143161183442,0.052378613704490644,0.0516242402801307,0.050887980504454644,0.05013323419740759],\"yaxis\":\"y\",\"type\":\"scatter\"},{\"hovertemplate\":\"Name=PrecisionDev<br>Iteration=%{x}<br>Value=%{y}<extra></extra>\",\"legendgroup\":\"PrecisionDev\",\"line\":{\"color\":\"#EF553B\",\"dash\":\"solid\"},\"marker\":{\"symbol\":\"circle\"},\"mode\":\"lines\",\"name\":\"PrecisionDev\",\"orientation\":\"v\",\"showlegend\":true,\"x\":[0,1,2,3,4,5,6,7,8,9,10,11,12,13,14,15,16,17,18,19,20,21,22,23,24,25,26,27,28,29,30,31,32,33,34,35,36,37,38,39,40,41,42,43,44,45,46,47,48,49,50,51,52,53,54,55,56,57,58,59,60,61,62,63,64,65,66,67,68,69,70,71,72,73,74,75,76,77,78,79,80,81,82,83,84,85,86,87,88,89,90,91,92,93,94,95,96,97,98,99,100,101,102,103,104,105,106,107,108,109,110,111,112,113,114,115,116,117,118,119,120,121,122,123,124,125,126,127,128,129,130,131,132,133,134,135,136,137,138,139,140,141,142,143,144,145,146,147,148,149,150,151,152,153,154,155,156,157,158,159,160,161,162,163,164,165,166,167,168,169,170,171,172,173,174,175,176,177,178,179,180,181,182,183,184,185,186,187,188,189,190,191,192,193,194,195,196,197,198,199,200],\"xaxis\":\"x\",\"y\":[0.47143,0.49983,0.49983,0.49983,0.49983,0.49983,0.49983,0.50815,0.5451,0.58994,0.59144,0.59585,0.59598,0.59843,0.60494,0.60907,0.62036,0.63481,0.64523,0.65585,0.65994,0.68879,0.70542,0.71284,0.72283,0.74006,0.75051,0.76423,0.77576,0.787,0.79829,0.75043,0.77484,0.82621,0.83738,0.84741,0.86241,0.8881,0.86976,0.90788,0.87752,0.92033,0.87083,0.8803,0.86427,0.93086,0.93276,0.92154,0.94594,0.94869,0.92743,0.95517,0.95559,0.96049,0.96292,0.96489,0.96616,0.96763,0.96886,0.96956,0.97055,0.97143,0.97233,0.9731,0.97398,0.9749,0.97558,0.97627,0.97686,0.97728,0.97776,0.97829,0.97862,0.97909,0.97947,0.97964,0.97991,0.98024,0.98059,0.98091,0.98133,0.98162,0.98188,0.98235,0.98263,0.98295,0.98345,0.98404,0.98457,0.98475,0.98506,0.98563,0.98572,0.98588,0.98599,0.98614,0.98639,0.98668,0.98681,0.9871,0.9873,0.98788,0.98793,0.98798,0.98814,0.98818,0.98836,0.98842,0.98851,0.98858,0.9886,0.98873,0.98882,0.98889,0.98898,0.98901,0.98912,0.98917,0.98928,0.98934,0.98936,0.98938,0.98946,0.98961,0.9897,0.98984,0.98996,0.99001,0.9901,0.99019,0.99033,0.99049,0.99055,0.99067,0.99078,0.99082,0.99096,0.99109,0.99119,0.99126,0.99163,0.9914,0.99212,0.99215,0.71217,0.7089,0.76825,0.80026,0.85648,0.87855,0.89196,0.89839,0.90658,0.91649,0.92166,0.92544,0.9339,0.94002,0.94367,0.94581,0.9487,0.95064,0.95229,0.95397,0.95599,0.95752,0.95877,0.96021,0.96163,0.96276,0.96395,0.96522,0.96642,0.96738,0.96886,0.96992,0.97093,0.9721,0.97285,0.97389,0.975,0.97572,0.9768,0.97796,0.97995,0.98109,0.98205,0.98274,0.98338,0.98392,0.98451,0.98493,0.98531,0.98573,0.98623,0.98661,0.98691,0.98733,0.98749,0.98776,0.98799],\"yaxis\":\"y\",\"type\":\"scatter\"},{\"hovertemplate\":\"Name=Error<br>Iteration=%{x}<br>Value=%{y}<extra></extra>\",\"legendgroup\":\"Error\",\"line\":{\"color\":\"#00cc96\",\"dash\":\"solid\"},\"marker\":{\"symbol\":\"circle\"},\"mode\":\"lines\",\"name\":\"Error\",\"orientation\":\"v\",\"showlegend\":true,\"x\":[0,1,2,3,4,5,6,7,8,9,10,11,12,13,14,15,16,17,18,19,20,21,22,23,24,25,26,27,28,29,30,31,32,33,34,35,36,37,38,39,40,41,42,43,44,45,46,47,48,49,50,51,52,53,54,55,56,57,58,59,60,61,62,63,64,65,66,67,68,69,70,71,72,73,74,75,76,77,78,79,80,81,82,83,84,85,86,87,88,89,90,91,92,93,94,95,96,97,98,99,100,101,102,103,104,105,106,107,108,109,110,111,112,113,114,115,116,117,118,119,120,121,122,123,124,125,126,127,128,129,130,131,132,133,134,135,136,137,138,139,140,141,142,143,144,145,146,147,148,149,150,151,152,153,154,155,156,157,158,159,160,161,162,163,164,165,166,167,168,169,170,171,172,173,174,175,176,177,178,179,180,181,182,183,184,185,186,187,188,189,190,191,192,193,194,195,196,197,198,199,200],\"xaxis\":\"x\",\"y\":[0.6931512139793388,0.6931408138747968,0.6931307279852488,0.6931162100087013,0.6930956913183056,0.6930611069578644,0.6929967140263577,0.6928647282889597,0.6925663683578469,0.6918245727921245,0.6898989047381671,0.6853907114870503,0.6765410382947291,0.6658453485955103,0.6581665636264364,0.6499027154669044,0.6407510768032469,0.6306812345062632,0.619699842609592,0.6078799753017823,0.5939882138251432,0.5814761684596472,0.5671340724771796,0.5490859314347273,0.529722828149124,0.5093204819412156,0.4898163501825001,0.47181698174453274,0.4536996086623611,0.4368700618075279,0.420866193543467,0.472189892660969,0.44706909542387746,0.3862120926662327,0.3586004355573106,0.3308646279639679,0.3078376708829771,0.3220158109447926,0.3120593438774852,0.26313602475470266,0.28692464594056377,0.24561577136920237,0.2917537522044643,0.2705580170810148,0.30592685220291455,0.22143493112608595,0.20656829409449712,0.22773218133506778,0.17135974157524617,0.17534639629623006,0.19724263728820543,0.16276541657493718,0.14720940217380404,0.13206672733740782,0.1208918135712026,0.11547394982886701,0.11090093278243737,0.10700475387006511,0.10364782738464663,0.10056482365211947,0.09771202822446996,0.09505620326173274,0.09259021225743325,0.09029595605932073,0.0881435550135734,0.08610210964320339,0.08415445755661836,0.08230049541861453,0.08054534461327363,0.07887584044530786,0.07727805227362879,0.07574398345002384,0.0742678938124646,0.07284571453614734,0.07147413371107549,0.07014935750653237,0.06886805392713631,0.06762643109588141,0.06642398161306103,0.06525977506161004,0.0641337945544108,0.06304490217825003,0.06199177768211579,0.0609734375787625,0.059988680535125724,0.05903542945030511,0.058112062798204946,0.05721720882797567,0.056349066496754203,0.05550571079001608,0.05468565913070791,0.05388677047196465,0.05310937011362354,0.0523540248433659,0.05162057089914019,0.05090845585319071,0.050217051110153725,0.04954512241809811,0.04889252353483057,0.048260422542346075,0.04764921526967606,0.047059030480879144,0.04648969781099284,0.04594047172441384,0.0454097573720699,0.04489657241282548,0.044399872744230615,0.043919336494412785,0.04345385975879853,0.043002325877943295,0.04256352348643908,0.04213581249101149,0.04171743069133625,0.041306777052172686,0.04090148316101833,0.04049896897165619,0.040095735493259024,0.03968693079565985,0.03926953065314443,0.038842304886439576,0.03840544771323329,0.037960222002557664,0.037508180797074055,0.03704972516567755,0.03658811216889309,0.036128194869784025,0.035674268354227844,0.03523017013500605,0.03479813530855518,0.03437835160528398,0.033970803941574056,0.033576463182213495,0.03319472285085221,0.03282486504705551,0.03246590920936209,0.03211622609443466,0.031773107192956146,0.03143499305390851,0.031101485621098626,0.03077186112007689,0.03047080183202245,0.03015393644418742,0.030121618351867434,0.030100119724465867,1.187335299372039,0.5786784849771923,0.45182479318736857,0.4035586115210542,0.3276049861268348,0.2877582805525547,0.24985221951911285,0.22767764151808237,0.21265959156188496,0.19945324443053333,0.18706285123931723,0.17524147842783164,0.16415543439003077,0.15484769341208598,0.147494591281552,0.1415762039147355,0.13595649288382042,0.1312575199813636,0.12738341375416068,0.1241619283011483,0.12117890897589201,0.11841724104214525,0.11574966285787107,0.11321302814482667,0.11090991445846865,0.10864831339546174,0.10637282821108406,0.10403496655565979,0.10167787805563434,0.09932631946944355,0.09702194682974698,0.09471386406061541,0.09238676292453149,0.09005776650692307,0.08766541861507741,0.08526520006596258,0.08270894325926628,0.0799570081546927,0.07706320627494653,0.07373888832084938,0.06972377275957177,0.06700818994392004,0.06484406961610008,0.06272871397173227,0.06072361330358231,0.05895486594205481,0.05752344219784313,0.056349687886191685,0.05526539313921146,0.05418996952846887,0.05315969610029208,0.052191992927703074,0.05128196689364773,0.05042889255029991,0.049661023248586254,0.04892465859735918,0.04813487429574909],\"yaxis\":\"y\",\"type\":\"scatter\"},{\"hovertemplate\":\"Name=Precision<br>Iteration=%{x}<br>Value=%{y}<extra></extra>\",\"legendgroup\":\"Precision\",\"line\":{\"color\":\"#ab63fa\",\"dash\":\"solid\"},\"marker\":{\"symbol\":\"circle\"},\"mode\":\"lines\",\"name\":\"Precision\",\"orientation\":\"v\",\"showlegend\":true,\"x\":[0,1,2,3,4,5,6,7,8,9,10,11,12,13,14,15,16,17,18,19,20,21,22,23,24,25,26,27,28,29,30,31,32,33,34,35,36,37,38,39,40,41,42,43,44,45,46,47,48,49,50,51,52,53,54,55,56,57,58,59,60,61,62,63,64,65,66,67,68,69,70,71,72,73,74,75,76,77,78,79,80,81,82,83,84,85,86,87,88,89,90,91,92,93,94,95,96,97,98,99,100,101,102,103,104,105,106,107,108,109,110,111,112,113,114,115,116,117,118,119,120,121,122,123,124,125,126,127,128,129,130,131,132,133,134,135,136,137,138,139,140,141,142,143,144,145,146,147,148,149,150,151,152,153,154,155,156,157,158,159,160,161,162,163,164,165,166,167,168,169,170,171,172,173,174,175,176,177,178,179,180,181,182,183,184,185,186,187,188,189,190,191,192,193,194,195,196,197,198,199,200],\"xaxis\":\"x\",\"y\":[0.47428,0.50152,0.50152,0.50152,0.50152,0.50152,0.50152,0.50929,0.54595,0.58879,0.59076,0.59449,0.59248,0.5958,0.60287,0.60731,0.61851,0.63321,0.64444,0.65532,0.65949,0.68754,0.70333,0.71246,0.72291,0.73984,0.7491,0.76276,0.77518,0.78646,0.79781,0.75053,0.77503,0.82561,0.83653,0.84736,0.86184,0.88809,0.87109,0.90914,0.87905,0.92187,0.87112,0.88094,0.86402,0.92964,0.93236,0.92155,0.94601,0.94963,0.92852,0.95643,0.95635,0.96159,0.96422,0.96604,0.96727,0.96828,0.96962,0.97055,0.97143,0.97238,0.97321,0.97395,0.97485,0.97567,0.97622,0.97683,0.97726,0.97771,0.97823,0.97872,0.97896,0.9794,0.97977,0.98008,0.98037,0.98073,0.98103,0.98133,0.98183,0.98208,0.9823,0.98279,0.98323,0.98358,0.98414,0.98472,0.98529,0.98542,0.98557,0.9863,0.98645,0.98669,0.98685,0.98699,0.98734,0.98761,0.98776,0.98799,0.98821,0.98862,0.98878,0.98892,0.98907,0.98924,0.98938,0.98953,0.98957,0.98966,0.98975,0.9899,0.99001,0.99012,0.99021,0.99024,0.99031,0.99038,0.99048,0.99059,0.99061,0.99076,0.99087,0.9909,0.99105,0.99112,0.99122,0.99135,0.99151,0.99159,0.99176,0.99184,0.99198,0.99203,0.9921,0.99224,0.99231,0.99238,0.99246,0.99257,0.99283,0.99277,0.99328,0.99341,0.70987,0.70785,0.76752,0.79843,0.8545,0.87924,0.89325,0.89962,0.9084,0.918,0.92342,0.92688,0.93478,0.94114,0.9454,0.94787,0.95069,0.95266,0.95412,0.95618,0.95812,0.95951,0.96081,0.96203,0.96341,0.96449,0.96522,0.96656,0.96762,0.96868,0.96995,0.97066,0.97175,0.9726,0.97357,0.97455,0.97566,0.97683,0.97805,0.97897,0.98055,0.98177,0.98272,0.98354,0.98431,0.98501,0.98577,0.98607,0.98637,0.98665,0.98698,0.98737,0.98768,0.9882,0.98844,0.98864,0.98882],\"yaxis\":\"y\",\"type\":\"scatter\"}],                        {\"template\":{\"data\":{\"histogram2dcontour\":[{\"type\":\"histogram2dcontour\",\"colorbar\":{\"outlinewidth\":0,\"ticks\":\"\"},\"colorscale\":[[0.0,\"#0d0887\"],[0.1111111111111111,\"#46039f\"],[0.2222222222222222,\"#7201a8\"],[0.3333333333333333,\"#9c179e\"],[0.4444444444444444,\"#bd3786\"],[0.5555555555555556,\"#d8576b\"],[0.6666666666666666,\"#ed7953\"],[0.7777777777777778,\"#fb9f3a\"],[0.8888888888888888,\"#fdca26\"],[1.0,\"#f0f921\"]]}],\"choropleth\":[{\"type\":\"choropleth\",\"colorbar\":{\"outlinewidth\":0,\"ticks\":\"\"}}],\"histogram2d\":[{\"type\":\"histogram2d\",\"colorbar\":{\"outlinewidth\":0,\"ticks\":\"\"},\"colorscale\":[[0.0,\"#0d0887\"],[0.1111111111111111,\"#46039f\"],[0.2222222222222222,\"#7201a8\"],[0.3333333333333333,\"#9c179e\"],[0.4444444444444444,\"#bd3786\"],[0.5555555555555556,\"#d8576b\"],[0.6666666666666666,\"#ed7953\"],[0.7777777777777778,\"#fb9f3a\"],[0.8888888888888888,\"#fdca26\"],[1.0,\"#f0f921\"]]}],\"heatmap\":[{\"type\":\"heatmap\",\"colorbar\":{\"outlinewidth\":0,\"ticks\":\"\"},\"colorscale\":[[0.0,\"#0d0887\"],[0.1111111111111111,\"#46039f\"],[0.2222222222222222,\"#7201a8\"],[0.3333333333333333,\"#9c179e\"],[0.4444444444444444,\"#bd3786\"],[0.5555555555555556,\"#d8576b\"],[0.6666666666666666,\"#ed7953\"],[0.7777777777777778,\"#fb9f3a\"],[0.8888888888888888,\"#fdca26\"],[1.0,\"#f0f921\"]]}],\"heatmapgl\":[{\"type\":\"heatmapgl\",\"colorbar\":{\"outlinewidth\":0,\"ticks\":\"\"},\"colorscale\":[[0.0,\"#0d0887\"],[0.1111111111111111,\"#46039f\"],[0.2222222222222222,\"#7201a8\"],[0.3333333333333333,\"#9c179e\"],[0.4444444444444444,\"#bd3786\"],[0.5555555555555556,\"#d8576b\"],[0.6666666666666666,\"#ed7953\"],[0.7777777777777778,\"#fb9f3a\"],[0.8888888888888888,\"#fdca26\"],[1.0,\"#f0f921\"]]}],\"contourcarpet\":[{\"type\":\"contourcarpet\",\"colorbar\":{\"outlinewidth\":0,\"ticks\":\"\"}}],\"contour\":[{\"type\":\"contour\",\"colorbar\":{\"outlinewidth\":0,\"ticks\":\"\"},\"colorscale\":[[0.0,\"#0d0887\"],[0.1111111111111111,\"#46039f\"],[0.2222222222222222,\"#7201a8\"],[0.3333333333333333,\"#9c179e\"],[0.4444444444444444,\"#bd3786\"],[0.5555555555555556,\"#d8576b\"],[0.6666666666666666,\"#ed7953\"],[0.7777777777777778,\"#fb9f3a\"],[0.8888888888888888,\"#fdca26\"],[1.0,\"#f0f921\"]]}],\"surface\":[{\"type\":\"surface\",\"colorbar\":{\"outlinewidth\":0,\"ticks\":\"\"},\"colorscale\":[[0.0,\"#0d0887\"],[0.1111111111111111,\"#46039f\"],[0.2222222222222222,\"#7201a8\"],[0.3333333333333333,\"#9c179e\"],[0.4444444444444444,\"#bd3786\"],[0.5555555555555556,\"#d8576b\"],[0.6666666666666666,\"#ed7953\"],[0.7777777777777778,\"#fb9f3a\"],[0.8888888888888888,\"#fdca26\"],[1.0,\"#f0f921\"]]}],\"mesh3d\":[{\"type\":\"mesh3d\",\"colorbar\":{\"outlinewidth\":0,\"ticks\":\"\"}}],\"scatter\":[{\"marker\":{\"line\":{\"color\":\"#283442\"}},\"type\":\"scatter\"}],\"parcoords\":[{\"type\":\"parcoords\",\"line\":{\"colorbar\":{\"outlinewidth\":0,\"ticks\":\"\"}}}],\"scatterpolargl\":[{\"type\":\"scatterpolargl\",\"marker\":{\"colorbar\":{\"outlinewidth\":0,\"ticks\":\"\"}}}],\"bar\":[{\"error_x\":{\"color\":\"#f2f5fa\"},\"error_y\":{\"color\":\"#f2f5fa\"},\"marker\":{\"line\":{\"color\":\"rgb(17,17,17)\",\"width\":0.5},\"pattern\":{\"fillmode\":\"overlay\",\"size\":10,\"solidity\":0.2}},\"type\":\"bar\"}],\"scattergeo\":[{\"type\":\"scattergeo\",\"marker\":{\"colorbar\":{\"outlinewidth\":0,\"ticks\":\"\"}}}],\"scatterpolar\":[{\"type\":\"scatterpolar\",\"marker\":{\"colorbar\":{\"outlinewidth\":0,\"ticks\":\"\"}}}],\"histogram\":[{\"marker\":{\"pattern\":{\"fillmode\":\"overlay\",\"size\":10,\"solidity\":0.2}},\"type\":\"histogram\"}],\"scattergl\":[{\"marker\":{\"line\":{\"color\":\"#283442\"}},\"type\":\"scattergl\"}],\"scatter3d\":[{\"type\":\"scatter3d\",\"line\":{\"colorbar\":{\"outlinewidth\":0,\"ticks\":\"\"}},\"marker\":{\"colorbar\":{\"outlinewidth\":0,\"ticks\":\"\"}}}],\"scattermapbox\":[{\"type\":\"scattermapbox\",\"marker\":{\"colorbar\":{\"outlinewidth\":0,\"ticks\":\"\"}}}],\"scatterternary\":[{\"type\":\"scatterternary\",\"marker\":{\"colorbar\":{\"outlinewidth\":0,\"ticks\":\"\"}}}],\"scattercarpet\":[{\"type\":\"scattercarpet\",\"marker\":{\"colorbar\":{\"outlinewidth\":0,\"ticks\":\"\"}}}],\"carpet\":[{\"aaxis\":{\"endlinecolor\":\"#A2B1C6\",\"gridcolor\":\"#506784\",\"linecolor\":\"#506784\",\"minorgridcolor\":\"#506784\",\"startlinecolor\":\"#A2B1C6\"},\"baxis\":{\"endlinecolor\":\"#A2B1C6\",\"gridcolor\":\"#506784\",\"linecolor\":\"#506784\",\"minorgridcolor\":\"#506784\",\"startlinecolor\":\"#A2B1C6\"},\"type\":\"carpet\"}],\"table\":[{\"cells\":{\"fill\":{\"color\":\"#506784\"},\"line\":{\"color\":\"rgb(17,17,17)\"}},\"header\":{\"fill\":{\"color\":\"#2a3f5f\"},\"line\":{\"color\":\"rgb(17,17,17)\"}},\"type\":\"table\"}],\"barpolar\":[{\"marker\":{\"line\":{\"color\":\"rgb(17,17,17)\",\"width\":0.5},\"pattern\":{\"fillmode\":\"overlay\",\"size\":10,\"solidity\":0.2}},\"type\":\"barpolar\"}],\"pie\":[{\"automargin\":true,\"type\":\"pie\"}]},\"layout\":{\"autotypenumbers\":\"strict\",\"colorway\":[\"#636efa\",\"#EF553B\",\"#00cc96\",\"#ab63fa\",\"#FFA15A\",\"#19d3f3\",\"#FF6692\",\"#B6E880\",\"#FF97FF\",\"#FECB52\"],\"font\":{\"color\":\"#f2f5fa\"},\"hovermode\":\"closest\",\"hoverlabel\":{\"align\":\"left\"},\"paper_bgcolor\":\"rgb(17,17,17)\",\"plot_bgcolor\":\"rgb(17,17,17)\",\"polar\":{\"bgcolor\":\"rgb(17,17,17)\",\"angularaxis\":{\"gridcolor\":\"#506784\",\"linecolor\":\"#506784\",\"ticks\":\"\"},\"radialaxis\":{\"gridcolor\":\"#506784\",\"linecolor\":\"#506784\",\"ticks\":\"\"}},\"ternary\":{\"bgcolor\":\"rgb(17,17,17)\",\"aaxis\":{\"gridcolor\":\"#506784\",\"linecolor\":\"#506784\",\"ticks\":\"\"},\"baxis\":{\"gridcolor\":\"#506784\",\"linecolor\":\"#506784\",\"ticks\":\"\"},\"caxis\":{\"gridcolor\":\"#506784\",\"linecolor\":\"#506784\",\"ticks\":\"\"}},\"coloraxis\":{\"colorbar\":{\"outlinewidth\":0,\"ticks\":\"\"}},\"colorscale\":{\"sequential\":[[0.0,\"#0d0887\"],[0.1111111111111111,\"#46039f\"],[0.2222222222222222,\"#7201a8\"],[0.3333333333333333,\"#9c179e\"],[0.4444444444444444,\"#bd3786\"],[0.5555555555555556,\"#d8576b\"],[0.6666666666666666,\"#ed7953\"],[0.7777777777777778,\"#fb9f3a\"],[0.8888888888888888,\"#fdca26\"],[1.0,\"#f0f921\"]],\"sequentialminus\":[[0.0,\"#0d0887\"],[0.1111111111111111,\"#46039f\"],[0.2222222222222222,\"#7201a8\"],[0.3333333333333333,\"#9c179e\"],[0.4444444444444444,\"#bd3786\"],[0.5555555555555556,\"#d8576b\"],[0.6666666666666666,\"#ed7953\"],[0.7777777777777778,\"#fb9f3a\"],[0.8888888888888888,\"#fdca26\"],[1.0,\"#f0f921\"]],\"diverging\":[[0,\"#8e0152\"],[0.1,\"#c51b7d\"],[0.2,\"#de77ae\"],[0.3,\"#f1b6da\"],[0.4,\"#fde0ef\"],[0.5,\"#f7f7f7\"],[0.6,\"#e6f5d0\"],[0.7,\"#b8e186\"],[0.8,\"#7fbc41\"],[0.9,\"#4d9221\"],[1,\"#276419\"]]},\"xaxis\":{\"gridcolor\":\"#283442\",\"linecolor\":\"#506784\",\"ticks\":\"\",\"title\":{\"standoff\":15},\"zerolinecolor\":\"#283442\",\"automargin\":true,\"zerolinewidth\":2},\"yaxis\":{\"gridcolor\":\"#283442\",\"linecolor\":\"#506784\",\"ticks\":\"\",\"title\":{\"standoff\":15},\"zerolinecolor\":\"#283442\",\"automargin\":true,\"zerolinewidth\":2},\"scene\":{\"xaxis\":{\"backgroundcolor\":\"rgb(17,17,17)\",\"gridcolor\":\"#506784\",\"linecolor\":\"#506784\",\"showbackground\":true,\"ticks\":\"\",\"zerolinecolor\":\"#C8D4E3\",\"gridwidth\":2},\"yaxis\":{\"backgroundcolor\":\"rgb(17,17,17)\",\"gridcolor\":\"#506784\",\"linecolor\":\"#506784\",\"showbackground\":true,\"ticks\":\"\",\"zerolinecolor\":\"#C8D4E3\",\"gridwidth\":2},\"zaxis\":{\"backgroundcolor\":\"rgb(17,17,17)\",\"gridcolor\":\"#506784\",\"linecolor\":\"#506784\",\"showbackground\":true,\"ticks\":\"\",\"zerolinecolor\":\"#C8D4E3\",\"gridwidth\":2}},\"shapedefaults\":{\"line\":{\"color\":\"#f2f5fa\"}},\"annotationdefaults\":{\"arrowcolor\":\"#f2f5fa\",\"arrowhead\":0,\"arrowwidth\":1},\"geo\":{\"bgcolor\":\"rgb(17,17,17)\",\"landcolor\":\"rgb(17,17,17)\",\"subunitcolor\":\"#506784\",\"showland\":true,\"showlakes\":true,\"lakecolor\":\"rgb(17,17,17)\"},\"title\":{\"x\":0.05},\"updatemenudefaults\":{\"bgcolor\":\"#506784\",\"borderwidth\":0},\"sliderdefaults\":{\"bgcolor\":\"#C8D4E3\",\"borderwidth\":1,\"bordercolor\":\"rgb(17,17,17)\",\"tickwidth\":0},\"mapbox\":{\"style\":\"dark\"}}},\"xaxis\":{\"anchor\":\"y\",\"domain\":[0.0,1.0],\"title\":{\"text\":\"Iteration\"}},\"yaxis\":{\"anchor\":\"x\",\"domain\":[0.0,1.0],\"title\":{\"text\":\"Value\"}},\"legend\":{\"title\":{\"text\":\"Name\"},\"tracegroupgap\":0},\"margin\":{\"t\":60}},                        {\"responsive\": true}                    ).then(function(){\n                            \nvar gd = document.getElementById('226114ad-cad7-42e5-aaf8-88f0e6eb65cc');\nvar x = new MutationObserver(function (mutations, observer) {{\n        var display = window.getComputedStyle(gd).display;\n        if (!display || display === 'none') {{\n            console.log([gd, 'removed!']);\n            Plotly.purge(gd);\n            observer.disconnect();\n        }}\n}});\n\n// Listen for the removal of the full notebook cells\nvar notebookContainer = gd.closest('#notebook-container');\nif (notebookContainer) {{\n    x.observe(notebookContainer, {childList: true});\n}}\n\n// Listen for the clearing of the current output cell\nvar outputEl = gd.closest('.output');\nif (outputEl) {{\n    x.observe(outputEl, {childList: true});\n}}\n\n                        })                };                });            </script>        </div>"
     },
     "metadata": {},
     "output_type": "display_data"
    }
   ],
   "source": [
    "px.line(model0_minus.trainingData, x='Iteration', y='Value', color='Name')"
   ],
   "metadata": {
    "collapsed": false,
    "ExecuteTime": {
     "start_time": "2023-08-05T18:28:24.988034Z",
     "end_time": "2023-08-05T18:28:25.088337Z"
    }
   }
  },
  {
   "cell_type": "code",
   "execution_count": 86,
   "outputs": [
    {
     "name": "stdout",
     "output_type": "stream",
     "text": [
      "0000012321 is 0.9990021579224168\n",
      "0001230321 is 0.9997475021556602\n",
      "0000123321 is 0.9719768613909314\n",
      "0000987789 is 0.99987919977332\n",
      "0009877789 is 0.9999456915073768\n",
      "0009871789 is 0.9998252622405971\n",
      "0000123345 is 4.192842101716593e-11\n",
      "0000014326 is 0.00010593673523073125\n"
     ]
    }
   ],
   "source": [
    "inp = input()\n",
    "while inp != 'stop':\n",
    "    if len(inp) < 10:\n",
    "        inp = \"0\" * (10 - len(inp)) + inp\n",
    "    print(inp + ' is ' + str(model0.predict(np.array([[int(i)] for i in inp])).item()))\n",
    "    inp = input()"
   ],
   "metadata": {
    "collapsed": false,
    "ExecuteTime": {
     "start_time": "2023-08-05T23:08:29.904599Z",
     "end_time": "2023-08-05T23:09:00.366040Z"
    }
   }
  },
  {
   "cell_type": "code",
   "execution_count": 87,
   "outputs": [
    {
     "data": {
      "text/plain": "array([[1.01927915e-02, 2.88419880e-04, 2.98866777e-04, ...,\n        9.99264029e-01, 6.86984466e-04, 9.99999825e-01]])"
     },
     "execution_count": 87,
     "metadata": {},
     "output_type": "execute_result"
    }
   ],
   "source": [
    "model0.predict(x)"
   ],
   "metadata": {
    "collapsed": false,
    "ExecuteTime": {
     "start_time": "2023-08-05T23:13:54.162559Z",
     "end_time": "2023-08-05T23:13:54.324386Z"
    }
   }
  },
  {
   "cell_type": "code",
   "execution_count": null,
   "outputs": [],
   "source": [],
   "metadata": {
    "collapsed": false
   }
  }
 ],
 "metadata": {
  "kernelspec": {
   "display_name": "Python 3",
   "language": "python",
   "name": "python3"
  },
  "language_info": {
   "codemirror_mode": {
    "name": "ipython",
    "version": 2
   },
   "file_extension": ".py",
   "mimetype": "text/x-python",
   "name": "python",
   "nbconvert_exporter": "python",
   "pygments_lexer": "ipython2",
   "version": "2.7.6"
  }
 },
 "nbformat": 4,
 "nbformat_minor": 0
}
