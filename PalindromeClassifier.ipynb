{
 "cells": [
  {
   "cell_type": "code",
   "execution_count": 1,
   "metadata": {
    "collapsed": true,
    "ExecuteTime": {
     "start_time": "2023-08-22T00:56:21.348906Z",
     "end_time": "2023-08-22T00:56:24.545868Z"
    }
   },
   "outputs": [],
   "source": [
    "import numpy as np\n",
    "import math\n",
    "import random\n",
    "import pandas as pd\n",
    "import plotly.express as px\n",
    "import multiprocessing\n",
    "\n",
    "\n",
    "def sigmoid(z: np.array):\n",
    "    return 1 / (1 + np.exp(-np.clip(z, -100, 100)))\n",
    "\n",
    "\n",
    "def tanh(z: np.array):\n",
    "    z = np.clip(z, -100, 100)\n",
    "    expZ = np.exp(z)\n",
    "    expZ_minus = np.exp(-z)\n",
    "    return (expZ - expZ_minus) / (expZ + expZ_minus)\n",
    "\n",
    "\n",
    "def reLU(z: np.array):\n",
    "    return np.maximum(0.0, z)\n",
    "\n",
    "\n",
    "def leakyReLU(z: np.array):\n",
    "    return np.maximum(0.01 * z, z)"
   ]
  },
  {
   "cell_type": "code",
   "execution_count": 10,
   "outputs": [],
   "source": [
    "class Model:\n",
    "    class Layer:\n",
    "        def __init__(self, layerHeight, prevLayer, nextLayer, activationFunc=\"sigmoid\"):\n",
    "            self.layerHeight = layerHeight\n",
    "            self.w = np.random.randn(layerHeight, prevLayer.layerHeight) * np.sqrt(1 / prevLayer.layerHeight)\n",
    "            self.b = np.zeros((layerHeight, 1))\n",
    "            self.v_dw = np.zeros((layerHeight, prevLayer.layerHeight))\n",
    "            self.v_db = np.zeros((layerHeight, 1))\n",
    "            self.s_dw = np.zeros((layerHeight, prevLayer.layerHeight))\n",
    "            self.s_db = np.zeros((layerHeight, 1))\n",
    "            self.t = 1\n",
    "            self.a = None\n",
    "            self.d = None\n",
    "            if activationFunc == \"sigmoid\":\n",
    "                self.activation = sigmoid\n",
    "                self.da_dz = lambda a: np.multiply(a, (1 - a))\n",
    "            elif activationFunc == \"tanh\":\n",
    "                self.activation = np.tanh\n",
    "                self.da_dz = lambda a: (1 - np.square(a))\n",
    "            elif activationFunc == \"relu\":\n",
    "                self.activation = reLU\n",
    "                self.da_dz = lambda a: np.where(a > 0, 1,\n",
    "                                                0)  #just taking advantage of the fact a = z for positive and a = 0 for negative\n",
    "            elif activationFunc == \"leaky_relu\":\n",
    "                self.activation = leakyReLU\n",
    "                self.da_dz = lambda a: np.where(a > 0, 1, 0.01)\n",
    "            self.prevLayer = prevLayer if prevLayer else None\n",
    "            self.nextLayer = nextLayer if nextLayer else None\n",
    "\n",
    "        def predict(self, a_Prev: np.array, keepActiveProb: float):\n",
    "            self.d = np.random.random((self.layerHeight, a_Prev.shape[1])) < keepActiveProb\n",
    "            self.a = self.activation((self.w @ a_Prev) + self.b) * self.d\n",
    "            self.a /= keepActiveProb\n",
    "            # self.a = self.activation((self.w @ a_Prev) + self.b)\n",
    "            return self.nextLayer.predict(self.a, keepActiveProb)\n",
    "\n",
    "        def propagate(self, dz_Next: np.array, trainingStep: float, l2_lambda=0):\n",
    "            da = (self.nextLayer.w.T @ dz_Next) * self.d\n",
    "            dz = self.da_dz(self.a) * da\n",
    "            dw = ((dz @ self.prevLayer.a.T) / dz.shape[1]) + ((l2_lambda / dz.shape[1]) * self.w)\n",
    "            db = np.mean(dz, axis=1, keepdims=True)\n",
    "\n",
    "            beta1 = 0.9\n",
    "            beta2 = 0.999\n",
    "            self.v_dw = (beta1 * self.v_dw) + ((1 - beta1) * dw)\n",
    "            self.v_db = (beta1 * self.v_db) + ((1 - beta1) * db)\n",
    "            self.s_dw = (beta2 * self.s_dw) + ((1 - beta2) * np.square(dw))\n",
    "            self.s_db = (beta2 * self.s_db) + ((1 - beta2) * np.square(db))\n",
    "            v_dw_cor = self.v_dw / (1 - (beta1 ** self.t))\n",
    "            v_db_cor = self.v_db / (1 - (beta1 ** self.t))\n",
    "            s_dw_cor = self.s_dw / (1 - (beta2 ** self.t))\n",
    "            s_db_cor = self.s_db / (1 - (beta2 ** self.t))\n",
    "\n",
    "            self.prevLayer.propagate(dz, trainingStep, l2_lambda)\n",
    "            self.w -= trainingStep * (v_dw_cor / (np.sqrt(s_dw_cor) + (10 ** -8)))\n",
    "            self.b -= trainingStep * (v_db_cor / (np.sqrt(s_db_cor) + (10 ** -8)))\n",
    "            self.t += 1\n",
    "\n",
    "    class Head(Layer):\n",
    "        def predict(self, a_Prev: np.array, keepActiveProb: float):\n",
    "            self.a = sigmoid((self.w @ a_Prev) + self.b)\n",
    "            return self.a\n",
    "\n",
    "        def propagate(self, realY, trainingStep, l2_lambda=0):\n",
    "            dz = self.a - realY\n",
    "            dw = ((dz @ self.prevLayer.a.T) / dz.shape[1]) + ((l2_lambda / dz.shape[1]) * self.w)\n",
    "            db = np.mean(dz, axis=1, keepdims=True)\n",
    "\n",
    "            beta1 = 0.9\n",
    "            beta2 = 0.999\n",
    "            self.v_dw = (beta1 * self.v_dw) + ((1 - beta1) * dw)\n",
    "            self.v_db = (beta1 * self.v_db) + ((1 - beta1) * db)\n",
    "            self.s_dw = (beta2 * self.s_dw) + ((1 - beta2) * np.square(dw))\n",
    "            self.s_db = (beta2 * self.s_db) + ((1 - beta2) * np.square(db))\n",
    "            v_dw_cor = self.v_dw / (1 - (beta1 ** self.t))\n",
    "            v_db_cor = self.v_db / (1 - (beta1 ** self.t))\n",
    "            s_dw_cor = self.s_dw / (1 - (beta2 ** self.t))\n",
    "            s_db_cor = self.s_db / (1 - (beta2 ** self.t))\n",
    "\n",
    "            self.prevLayer.propagate(dz, trainingStep)\n",
    "            self.w -= trainingStep * (v_dw_cor / (np.sqrt(s_dw_cor) + (10 ** -8)))\n",
    "            self.b -= trainingStep * (v_db_cor / (np.sqrt(s_db_cor) + (10 ** -8)))\n",
    "            self.t += 1\n",
    "\n",
    "    class Input(Layer):\n",
    "        def __init__(self, layerHeight, nextLayer):\n",
    "            self.layerHeight = layerHeight\n",
    "            self.a = None\n",
    "            self.w = np.identity(self.layerHeight)\n",
    "            self.b = np.zeros((layerHeight, 1))\n",
    "            self.nextLayer = nextLayer if nextLayer else None\n",
    "\n",
    "        def predict(self, a_Prev: np.array, keepActiveProb: float):\n",
    "            self.a = (self.w @ a_Prev) + self.b\n",
    "            return self.nextLayer.predict(self.a, keepActiveProb)\n",
    "\n",
    "        def propagate(self, realY, trainingStep, l2_lambda=0):\n",
    "            return\n",
    "\n",
    "    def __init__(self, xSize, layers, activationFunc=\"sigmoid\"):\n",
    "        \"\"\"activationFunc = \"sigmoid\" | \"tanh\" | \"relu\" | \"leaky_relu\" \"\"\"\n",
    "        self.head = None\n",
    "\n",
    "        def createLayer(prevLayer, depth):\n",
    "            if depth >= len(layers):\n",
    "                layer = self.Head(1, prevLayer, None)\n",
    "                self.head = layer\n",
    "                return layer\n",
    "            else:\n",
    "                layer = self.Layer(layers[depth], prevLayer, None, activationFunc=activationFunc)\n",
    "                layer.nextLayer = createLayer(layer, depth + 1)\n",
    "                return layer\n",
    "\n",
    "        self.input = self.Input(xSize, None)\n",
    "        self.input.nextLayer = createLayer(self.input, 0)\n",
    "        self.trainingData = pd.DataFrame([], columns=['Name', 'Iteration', 'Value'])\n",
    "\n",
    "    def predict(self, a: np.array, keepActiveProb=1.0):\n",
    "        return self.input.predict(a, keepActiveProb)\n",
    "\n",
    "    def train(self, X: np.array, Y: np.array, trainingStep, trainingIterations,\n",
    "              debugStep=100, x_dev=None, y_dev=None, epochSize=1024, keepActiveProb=1.0, l2_reg_lambda=0):\n",
    "        \"\"\"\n",
    "        epochSize ~ 128 | 256 | 512 \\n\n",
    "        keepActiveProb ~ ratio of active neurons {>0.8} \\n\n",
    "        l2_reg_lambda ~ weight decay coefficient {<2.0} \\n\n",
    "        \"\"\"\n",
    "        trainSetMean = np.mean(X, axis=1, keepdims=True)\n",
    "        trainSetR2 = np.mean(np.square(X - trainSetMean), axis=1, keepdims=True)\n",
    "        self.input.w = self.input.w / np.sqrt(trainSetR2)\n",
    "        self.input.b = -trainSetMean / np.sqrt(trainSetR2)\n",
    "        epochs = X.shape[1] // epochSize\n",
    "        display('epochs Amount: ' + str(epochs))\n",
    "        for tr_i in range(trainingIterations):\n",
    "            perm_indices = np.random.permutation(X.shape[1])\n",
    "            x = X[:, perm_indices]\n",
    "            y = Y[:, perm_indices]\n",
    "            for e in range(epochs):\n",
    "                self.predict(x[:, epochSize * e: epochSize * (e + 1)], keepActiveProb)\n",
    "                self.head.propagate(y[:, epochSize * e: epochSize * (e + 1)], trainingStep, l2_reg_lambda)\n",
    "            if x_dev is not None and tr_i % debugStep == 0:\n",
    "                self.predict(x_dev)\n",
    "                self.trainingData.loc[len(self.trainingData)] = ('ErrorDev', tr_i // debugStep, -np.mean(\n",
    "                    (y_dev * np.log(np.clip(self.head.a, 0.001, 1))) + (\n",
    "                            (1 - y_dev) * np.log(np.clip(1 - self.head.a, 0.001, 1)))))\n",
    "                self.trainingData.loc[len(self.trainingData)] = (\n",
    "                    'PrecisionDev', tr_i // debugStep, np.mean((y_dev == (self.head.a > 0.5)).astype(int)))\n",
    "            if tr_i % debugStep == 0:\n",
    "                self.predict(x)\n",
    "                self.trainingData.loc[len(self.trainingData)] = ('Error', tr_i // debugStep, -np.mean(\n",
    "                    (y * np.log(np.clip(self.head.a, 0.001, 1))) + (\n",
    "                            (1 - y) * np.log(np.clip(1 - self.head.a, 0.001, 1)))))\n",
    "                self.trainingData.loc[len(self.trainingData)] = (\n",
    "                    'Precision', tr_i // debugStep, np.mean((y == (self.head.a > 0.5)).astype(int)))\n"
   ],
   "metadata": {
    "collapsed": false,
    "ExecuteTime": {
     "start_time": "2023-08-22T01:00:14.666254Z",
     "end_time": "2023-08-22T01:00:14.771599Z"
    }
   }
  },
  {
   "cell_type": "code",
   "execution_count": 3,
   "outputs": [],
   "source": [
    "class Model_Concise:\n",
    "    class Layer:\n",
    "        def __init__(self, layerHeight, prevLayer, nextLayer, activationFunc=\"tanh\"):\n",
    "            self.layerHeight = layerHeight\n",
    "            self.w = np.random.randn(layerHeight, prevLayer.layerHeight) * np.sqrt(1 / prevLayer.layerHeight)\n",
    "            self.b = np.zeros((layerHeight, 1))\n",
    "            self.v_dw = np.zeros((layerHeight, prevLayer.layerHeight))\n",
    "            self.v_db = np.zeros((layerHeight, 1))\n",
    "            self.s_dw = np.zeros((layerHeight, prevLayer.layerHeight))\n",
    "            self.s_db = np.zeros((layerHeight, 1))\n",
    "            self.t = 1\n",
    "            self.a, self.z = None, None\n",
    "            self.d = 1\n",
    "\n",
    "            # self.dy_dz = lambda nextL, dz_Next, a, z: (nextL.w.T @ dz_Next)\n",
    "            if activationFunc == \"sigmoid\":\n",
    "                self.activation = sigmoid\n",
    "                # self.da_dz = lambda a, z: np.multiply(a, (1 - a))\n",
    "                self.dy_dz = lambda nextL, dz_Next, a, z: (nextL.w.T @ dz_Next) * (a - np.square(a))\n",
    "            elif activationFunc == \"tanh\":\n",
    "                self.activation = np.tanh\n",
    "                # self.da_dz = lambda a, z: (1 - np.square(a))\n",
    "                self.dy_dz = lambda nextL, dz_Next, a, z: (nextL.w.T @ dz_Next) * (1 - np.square(a))\n",
    "            elif activationFunc == \"relu\":\n",
    "                self.activation = reLU\n",
    "                # self.da_dz = lambda a, z: np.where(z > 0, 1, 0)\n",
    "                self.dy_dz = lambda nextL, dz_Next, a, z: (nextL.w.T @ dz_Next) * (np.where(z > 0, 1, 0))\n",
    "            elif activationFunc == \"leaky_relu\":\n",
    "                self.activation = leakyReLU\n",
    "                # self.da_dz = lambda a, z: np.where(z > 0, 1, 0.01)\n",
    "                self.dy_dz = lambda nextL, dz_Next, a, z: (nextL.w.T @ dz_Next) * (np.where(z > 0, 1, 0.01))\n",
    "            elif activationFunc == \"softmax\":\n",
    "                self.activation = softMax\n",
    "                # self.da_dz = lambda a, z: a - np.square(a)\n",
    "                self.dy_dz = lambda nextL, dz_Next, a, z: ValueError(\"softmax shouldn't be used for hidden layers\")\n",
    "            self.prevLayer = prevLayer if prevLayer else None\n",
    "            self.nextLayer = nextLayer if nextLayer else None\n",
    "\n",
    "        def predict(self, a_Prev: np.array, keepActiveProb: float):\n",
    "            self.d = np.random.random((self.layerHeight, a_Prev.shape[1])) < keepActiveProb\n",
    "            self.z = (self.w @ a_Prev) + self.b\n",
    "            self.a = self.activation(self.z) * self.d\n",
    "            self.a /= keepActiveProb\n",
    "            # self.a = self.activation((self.w @ a_Prev) + self.b)\n",
    "            return self.nextLayer.predict(self.a, keepActiveProb)\n",
    "\n",
    "        def propagate(self, dz_Next: np.array, trainingStep: float, l2_lambda=0):\n",
    "            # da = self.dy_da(self.a, dz_Next, self.nextLayer) * self.d\n",
    "            # dz = self.da_dz(self.a, self.z) @ da\n",
    "            dz = self.dy_dz(self.nextLayer, dz_Next, self.a, self.z) * self.d\n",
    "            dw = ((dz @ self.prevLayer.a.T) / dz.shape[1]) + ((l2_lambda / dz.shape[1]) * self.w)\n",
    "            db = np.mean(dz, axis=1, keepdims=True)\n",
    "\n",
    "            beta1 = 0.9\n",
    "            beta2 = 0.999\n",
    "            self.v_dw = (beta1 * self.v_dw) + ((1 - beta1) * dw)\n",
    "            self.v_db = (beta1 * self.v_db) + ((1 - beta1) * db)\n",
    "            self.s_dw = (beta2 * self.s_dw) + ((1 - beta2) * np.square(dw))\n",
    "            self.s_db = (beta2 * self.s_db) + ((1 - beta2) * np.square(db))\n",
    "            v_dw_cor = self.v_dw / (1 - (beta1 ** self.t))\n",
    "            v_db_cor = self.v_db / (1 - (beta1 ** self.t))\n",
    "            s_dw_cor = self.s_dw / (1 - (beta2 ** self.t))\n",
    "            s_db_cor = self.s_db / (1 - (beta2 ** self.t))\n",
    "\n",
    "            self.prevLayer.propagate(dz, trainingStep, l2_lambda)\n",
    "            self.w -= trainingStep * (v_dw_cor / (np.sqrt(s_dw_cor) + (10 ** -8)))\n",
    "            self.b -= trainingStep * (v_db_cor / (np.sqrt(s_db_cor) + (10 ** -8)))\n",
    "            self.t += 1\n",
    "\n",
    "    class Head(Layer):\n",
    "        def __init__(self, layerHeight, prevLayer, nextLayer, activationFunc=\"sigmoid-logistic\"):\n",
    "            super().__init__(layerHeight, prevLayer, nextLayer)\n",
    "            if activationFunc == \"sigmoid-logistic\":\n",
    "                self.activation = sigmoid\n",
    "                self.dy_dz = lambda nextL, y, a, z: a - y\n",
    "                self.error = lambda y_hat, y: np.sum(-np.mean(\n",
    "                    (y * np.log(np.clip(y_hat, 0.001, 1))) + (\n",
    "                            (1 - y) * np.log(np.clip(1 - y_hat, 0.001, 1))), axis=1, keepdims=True))\n",
    "            elif activationFunc == \"sigmoid-r2\":\n",
    "                self.activation = sigmoid\n",
    "                self.dy_dz = lambda nextL, y, a, z: 2 * (a - y) * (a - np.square(a))\n",
    "                self.error = lambda y_hat, y: np.mean(np.square(y - y_hat))\n",
    "            elif activationFunc == \"relu-r2\":\n",
    "                self.activation = reLU\n",
    "                self.dy_dz = lambda nextL, y, a, z: 2 * (a - y) * (np.where(z > 0, 1, 0))\n",
    "                self.error = lambda y_hat, y: np.mean(np.square(y - y_hat))\n",
    "            elif activationFunc == \"softmax-logistic\":\n",
    "                self.activation = softMax\n",
    "                self.dy_dz = lambda nextL, y, a, z: a - y\n",
    "                self.error = lambda y_hat, y: np.sum(-np.mean(\n",
    "                    y * np.log(np.clip(y_hat, 0.001, 1)), axis=1, keepdims=True))\n",
    "\n",
    "        def predict(self, a_Prev: np.array, keepActiveProb: float):\n",
    "            self.z = (self.w @ a_Prev) + self.b\n",
    "            self.a = self.activation(self.z)\n",
    "            return self.a\n",
    "\n",
    "    class Input(Layer):\n",
    "        def __init__(self, layerHeight, nextLayer):\n",
    "            self.layerHeight = layerHeight\n",
    "            self.a = None\n",
    "            self.w = np.identity(self.layerHeight)\n",
    "            self.b = np.zeros((layerHeight, 1))\n",
    "            self.nextLayer = nextLayer if nextLayer else None\n",
    "\n",
    "        def predict(self, a_Prev: np.array, keepActiveProb: float):\n",
    "            self.a = (self.w @ a_Prev) + self.b\n",
    "            return self.nextLayer.predict(self.a, keepActiveProb)\n",
    "\n",
    "        def propagate(self, realY, trainingStep, l2_lambda=0):\n",
    "            return\n",
    "\n",
    "    def __init__(self, xSize, ySize, layers, activationFunc=\"tanh\", headActivation=\"sigmoid-logistic\"):\n",
    "        \"\"\"\n",
    "        activationFunc = \"sigmoid\" | \"tanh\" | \"relu\" | \"leaky_relu\" | \"softmax\" \\n\n",
    "        headActivation = \"sigmoid-logistic\" | \"sigmoid-r2\" | \"relu-r2\" | \"softmax-logistic\"\n",
    "        \"\"\"\n",
    "        self.head = None\n",
    "\n",
    "        def createLayer(prevLayer, depth):\n",
    "            if depth >= len(layers):\n",
    "                layer = self.Head(ySize, prevLayer, None, activationFunc=headActivation)\n",
    "                self.head = layer\n",
    "                return layer\n",
    "            else:\n",
    "                layer = self.Layer(layers[depth], prevLayer, None, activationFunc=activationFunc)\n",
    "                layer.nextLayer = createLayer(layer, depth + 1)\n",
    "                return layer\n",
    "\n",
    "        self.input = self.Input(xSize, None)\n",
    "        self.input.nextLayer = createLayer(self.input, 0)\n",
    "        self.trainingData = pd.DataFrame([], columns=['Name', 'Iteration', 'Value'])\n",
    "\n",
    "    def predict(self, a: np.array, keepActiveProb=1.0):\n",
    "        return self.input.predict(a, keepActiveProb)\n",
    "\n",
    "    def train(self, X: np.array, Y: np.array, trainingStep, trainingIterations,\n",
    "              debugStep=100, x_dev=None, y_dev=None, epochSize=1024, keepActiveProb=1.0, l2_reg_lambda=0):\n",
    "        \"\"\"\n",
    "        epochSize ~ 128 | 256 | 512 \\n\n",
    "        keepActiveProb ~ ratio of active neurons {>0.8} \\n\n",
    "        l2_reg_lambda ~ weight decay coefficient {<2.0} \\n\n",
    "        \"\"\"\n",
    "        trainSetMean = np.mean(X, axis=1, keepdims=True)\n",
    "        trainSetR2 = np.mean(np.square(X - trainSetMean), axis=1, keepdims=True)\n",
    "        self.input.w = self.input.w / np.sqrt(trainSetR2)\n",
    "        self.input.b = -trainSetMean / np.sqrt(trainSetR2)\n",
    "        epochs = X.shape[1] // epochSize\n",
    "        display('epochs Amount: ' + str(epochs))\n",
    "        for tr_i in range(trainingIterations):\n",
    "            perm_indices = np.random.permutation(X.shape[1])\n",
    "            x = X[:, perm_indices]\n",
    "            y = Y[:, perm_indices]\n",
    "            for e in range(epochs):\n",
    "                self.predict(x[:, epochSize * e: epochSize * (e + 1)], keepActiveProb)\n",
    "                self.head.propagate(y[:, epochSize * e: epochSize * (e + 1)], trainingStep, l2_reg_lambda)\n",
    "            if x_dev is not None and tr_i % debugStep == 0:\n",
    "                self.predict(x_dev)\n",
    "                self.trainingData.loc[len(self.trainingData)] = (\n",
    "                    'ErrorDev', tr_i // debugStep, self.head.error(self.head.a, y_dev))\n",
    "                self.trainingData.loc[len(self.trainingData)] = (\n",
    "                    'PrecisionDev', tr_i // debugStep, np.mean((y_dev == (self.head.a > 0.5)).astype(int)))\n",
    "            if tr_i % debugStep == 0:\n",
    "                self.predict(x)\n",
    "                self.trainingData.loc[len(self.trainingData)] = (\n",
    "                    'Error', tr_i // debugStep, self.head.error(self.head.a, y))\n",
    "                self.trainingData.loc[len(self.trainingData)] = (\n",
    "                    'Precision', tr_i // debugStep, np.mean((y == (self.head.a > 0.5)).astype(int)))\n"
   ],
   "metadata": {
    "collapsed": false,
    "ExecuteTime": {
     "start_time": "2023-08-22T00:56:24.618426Z",
     "end_time": "2023-08-22T00:56:24.654252Z"
    }
   }
  },
  {
   "cell_type": "code",
   "execution_count": 4,
   "outputs": [
    {
     "name": "stderr",
     "output_type": "stream",
     "text": [
      "C:\\Users\\Admin\\AppData\\Local\\Temp\\ipykernel_9532\\3711709577.py:11: DeprecationWarning: Conversion of an array with ndim > 0 to a scalar is deprecated, and will error in future. Ensure you extract a single element from your array before performing this operation. (Deprecated NumPy 1.25.)\n",
      "  x[i, j] = np.random.randint(0 if i > startI else 1, 10, 1)\n",
      "C:\\Users\\Admin\\AppData\\Local\\Temp\\ipykernel_9532\\3711709577.py:18: DeprecationWarning: Conversion of an array with ndim > 0 to a scalar is deprecated, and will error in future. Ensure you extract a single element from your array before performing this operation. (Deprecated NumPy 1.25.)\n",
      "  x[i, j] = np.random.randint(0 if i > startI else 1, 10, 1)\n"
     ]
    }
   ],
   "source": [
    "#Prepare Training Set\n",
    "trainCasesAmount = 100000\n",
    "digitAmount = 10\n",
    "x = np.zeros((digitAmount, trainCasesAmount), dtype=float)\n",
    "y = np.zeros((1, trainCasesAmount), dtype=float)\n",
    "for j in range(trainCasesAmount):\n",
    "    if random.random() < 0.5:\n",
    "        startI = min(int(-10 * (random.random() - 1)), 8)\n",
    "        x[:startI, j] = [0]\n",
    "        for i in range(startI, digitAmount):\n",
    "            x[i, j] = np.random.randint(0 if i > startI else 1, 10, 1)\n",
    "        ch = random.randint(startI, 9)\n",
    "        x[ch, j] = x[-(ch - startI) - 1, j] + 1 if x[-(ch - startI) - 1, j] < 9 else x[-(ch - startI) - 1, j] - 1\n",
    "        y[0, j] = 0\n",
    "    else:\n",
    "        startI = min(int(-10 * (random.random() - 1)), 9)\n",
    "        for i in range(startI, startI + ((digitAmount - startI) // 2) + 1):\n",
    "            x[i, j] = np.random.randint(0 if i > startI else 1, 10, 1)\n",
    "            x[-(i - startI) - 1, j] = x[i, j]\n",
    "        y[0, j] = 1"
   ],
   "metadata": {
    "collapsed": false,
    "ExecuteTime": {
     "start_time": "2023-08-22T00:56:24.648252Z",
     "end_time": "2023-08-22T00:56:35.663474Z"
    }
   }
  },
  {
   "cell_type": "code",
   "execution_count": 5,
   "outputs": [
    {
     "name": "stderr",
     "output_type": "stream",
     "text": [
      "C:\\Users\\Admin\\AppData\\Local\\Temp\\ipykernel_9532\\927766409.py:11: DeprecationWarning: Conversion of an array with ndim > 0 to a scalar is deprecated, and will error in future. Ensure you extract a single element from your array before performing this operation. (Deprecated NumPy 1.25.)\n",
      "  x_dev[i, j] = np.random.randint(0 if i > startI else 1, 10, 1)\n",
      "C:\\Users\\Admin\\AppData\\Local\\Temp\\ipykernel_9532\\927766409.py:19: DeprecationWarning: Conversion of an array with ndim > 0 to a scalar is deprecated, and will error in future. Ensure you extract a single element from your array before performing this operation. (Deprecated NumPy 1.25.)\n",
      "  x_dev[i, j] = np.random.randint(0 if i > startI else 1, 10, 1)\n"
     ]
    }
   ],
   "source": [
    "#Prepare Dev Set\n",
    "devCasesAmount = 1000\n",
    "digitAmount = 10\n",
    "x_dev = np.zeros((digitAmount, trainCasesAmount), dtype=float)\n",
    "y_dev = np.zeros((1, trainCasesAmount), dtype=float)\n",
    "for j in range(trainCasesAmount):\n",
    "    if random.random() < 0.5:\n",
    "        startI = min(int(-10 * (random.random() - 1)), 8)\n",
    "        x_dev[:startI, j] = [0]\n",
    "        for i in range(startI, digitAmount):\n",
    "            x_dev[i, j] = np.random.randint(0 if i > startI else 1, 10, 1)\n",
    "        ch = random.randint(startI, 9)\n",
    "        x_dev[ch, j] = x_dev[-(ch - startI) - 1, j] + 1 if x_dev[-(ch - startI) - 1, j] < 9 else x_dev[-(\n",
    "                    ch - startI) - 1, j] - 1\n",
    "        y_dev[0, j] = 0\n",
    "    else:\n",
    "        startI = min(int(-10 * (random.random() - 1)), 9)\n",
    "        for i in range(startI, startI + ((digitAmount - startI) // 2) + 1):\n",
    "            x_dev[i, j] = np.random.randint(0 if i > startI else 1, 10, 1)\n",
    "            x_dev[-(i - startI) - 1, j] = x_dev[i, j]\n",
    "        y_dev[0, j] = 1"
   ],
   "metadata": {
    "collapsed": false,
    "ExecuteTime": {
     "start_time": "2023-08-22T00:56:35.671044Z",
     "end_time": "2023-08-22T00:56:43.354491Z"
    }
   }
  },
  {
   "cell_type": "code",
   "execution_count": 11,
   "outputs": [
    {
     "data": {
      "text/plain": "'epochs Amount: 195'"
     },
     "metadata": {},
     "output_type": "display_data"
    }
   ],
   "source": [
    "np.random.seed(69)\n",
    "model0 = Model(10, [20, 20], activationFunc=\"tanh\")\n",
    "model0.train(x, y, 0.01, 101, x_dev=x_dev, y_dev=y_dev, epochSize=512, debugStep=10)"
   ],
   "metadata": {
    "collapsed": false,
    "ExecuteTime": {
     "start_time": "2023-08-22T01:00:23.513129Z",
     "end_time": "2023-08-22T01:01:00.412441Z"
    }
   }
  },
  {
   "cell_type": "code",
   "execution_count": null,
   "outputs": [],
   "source": [
    "np.random.seed(69)\n",
    "model0_minus = Model_Old(10, [20, 20], activationFunc=\"tanh\")\n",
    "model0_minus.train(x, y, 1, 2001, x_dev=x_dev, y_dev=y_dev, debugStep=10)"
   ],
   "metadata": {
    "collapsed": false,
    "ExecuteTime": {
     "start_time": "2023-08-05T18:16:53.725572Z",
     "end_time": "2023-08-05T18:23:59.557147Z"
    }
   }
  },
  {
   "cell_type": "code",
   "execution_count": 7,
   "outputs": [
    {
     "data": {
      "text/plain": "'epochs Amount: 195'"
     },
     "metadata": {},
     "output_type": "display_data"
    }
   ],
   "source": [
    "np.random.seed(69)\n",
    "model_small = Model_Concise(10, 1, [20, 20], activationFunc=\"tanh\", headActivation=\"sigmoid-logistic\")\n",
    "model_small.train(x, y, 0.01, 101, x_dev=x_dev, y_dev=y_dev, epochSize=512, debugStep=10)"
   ],
   "metadata": {
    "collapsed": false,
    "ExecuteTime": {
     "start_time": "2023-08-22T00:57:16.009120Z",
     "end_time": "2023-08-22T00:57:47.956409Z"
    }
   }
  },
  {
   "cell_type": "code",
   "execution_count": null,
   "outputs": [],
   "source": [
    "np.random.seed(69)\n",
    "model2 = Model(10, [10, 10], activationFunc=\"tanh\")\n",
    "model2.train(x, y, 0.1, 200000, 0.95, devSet=True, x_dev=x_dev, y_dev=y_dev)"
   ],
   "metadata": {
    "collapsed": false,
    "ExecuteTime": {
     "start_time": "2023-07-31T01:35:28.933366Z",
     "end_time": "2023-07-31T01:46:36.513144Z"
    }
   }
  },
  {
   "cell_type": "code",
   "execution_count": 12,
   "outputs": [
    {
     "data": {
      "application/vnd.plotly.v1+json": {
       "data": [
        {
         "hovertemplate": "Name=ErrorDev<br>Iteration=%{x}<br>Value=%{y}<extra></extra>",
         "legendgroup": "ErrorDev",
         "line": {
          "color": "#636efa",
          "dash": "solid"
         },
         "marker": {
          "symbol": "circle"
         },
         "mode": "lines",
         "name": "ErrorDev",
         "orientation": "v",
         "showlegend": true,
         "x": [
          0,
          1,
          2,
          3,
          4,
          5,
          6,
          7,
          8,
          9,
          10
         ],
         "xaxis": "x",
         "y": [
          0.5140924379884695,
          0.11382083813942119,
          0.06694355125032847,
          0.04800300996679652,
          0.045159579583751476,
          0.03895041232314385,
          0.03365622064265373,
          0.03108486714225981,
          0.02992419366268094,
          0.02762638804640958,
          0.02580066468606532
         ],
         "yaxis": "y",
         "type": "scatter"
        },
        {
         "hovertemplate": "Name=PrecisionDev<br>Iteration=%{x}<br>Value=%{y}<extra></extra>",
         "legendgroup": "PrecisionDev",
         "line": {
          "color": "#EF553B",
          "dash": "solid"
         },
         "marker": {
          "symbol": "circle"
         },
         "mode": "lines",
         "name": "PrecisionDev",
         "orientation": "v",
         "showlegend": true,
         "x": [
          0,
          1,
          2,
          3,
          4,
          5,
          6,
          7,
          8,
          9,
          10
         ],
         "xaxis": "x",
         "y": [
          0.7553,
          0.96394,
          0.98157,
          0.98776,
          0.98686,
          0.98979,
          0.99152,
          0.99254,
          0.99281,
          0.99354,
          0.99387
         ],
         "yaxis": "y",
         "type": "scatter"
        },
        {
         "hovertemplate": "Name=Error<br>Iteration=%{x}<br>Value=%{y}<extra></extra>",
         "legendgroup": "Error",
         "line": {
          "color": "#00cc96",
          "dash": "solid"
         },
         "marker": {
          "symbol": "circle"
         },
         "mode": "lines",
         "name": "Error",
         "orientation": "v",
         "showlegend": true,
         "x": [
          0,
          1,
          2,
          3,
          4,
          5,
          6,
          7,
          8,
          9,
          10
         ],
         "xaxis": "x",
         "y": [
          0.513199444393665,
          0.1053301806406431,
          0.05892708641505706,
          0.040160258307254365,
          0.0373880066404642,
          0.0313681906832996,
          0.025934432136271487,
          0.02468476312803773,
          0.022279474892111226,
          0.021720105841493715,
          0.01964172902884197
         ],
         "yaxis": "y",
         "type": "scatter"
        },
        {
         "hovertemplate": "Name=Precision<br>Iteration=%{x}<br>Value=%{y}<extra></extra>",
         "legendgroup": "Precision",
         "line": {
          "color": "#ab63fa",
          "dash": "solid"
         },
         "marker": {
          "symbol": "circle"
         },
         "mode": "lines",
         "name": "Precision",
         "orientation": "v",
         "showlegend": true,
         "x": [
          0,
          1,
          2,
          3,
          4,
          5,
          6,
          7,
          8,
          9,
          10
         ],
         "xaxis": "x",
         "y": [
          0.7544,
          0.96686,
          0.9842,
          0.9898,
          0.98884,
          0.99197,
          0.99338,
          0.994,
          0.99449,
          0.99464,
          0.99541
         ],
         "yaxis": "y",
         "type": "scatter"
        }
       ],
       "layout": {
        "template": {
         "data": {
          "histogram2dcontour": [
           {
            "type": "histogram2dcontour",
            "colorbar": {
             "outlinewidth": 0,
             "ticks": ""
            },
            "colorscale": [
             [
              0.0,
              "#0d0887"
             ],
             [
              0.1111111111111111,
              "#46039f"
             ],
             [
              0.2222222222222222,
              "#7201a8"
             ],
             [
              0.3333333333333333,
              "#9c179e"
             ],
             [
              0.4444444444444444,
              "#bd3786"
             ],
             [
              0.5555555555555556,
              "#d8576b"
             ],
             [
              0.6666666666666666,
              "#ed7953"
             ],
             [
              0.7777777777777778,
              "#fb9f3a"
             ],
             [
              0.8888888888888888,
              "#fdca26"
             ],
             [
              1.0,
              "#f0f921"
             ]
            ]
           }
          ],
          "choropleth": [
           {
            "type": "choropleth",
            "colorbar": {
             "outlinewidth": 0,
             "ticks": ""
            }
           }
          ],
          "histogram2d": [
           {
            "type": "histogram2d",
            "colorbar": {
             "outlinewidth": 0,
             "ticks": ""
            },
            "colorscale": [
             [
              0.0,
              "#0d0887"
             ],
             [
              0.1111111111111111,
              "#46039f"
             ],
             [
              0.2222222222222222,
              "#7201a8"
             ],
             [
              0.3333333333333333,
              "#9c179e"
             ],
             [
              0.4444444444444444,
              "#bd3786"
             ],
             [
              0.5555555555555556,
              "#d8576b"
             ],
             [
              0.6666666666666666,
              "#ed7953"
             ],
             [
              0.7777777777777778,
              "#fb9f3a"
             ],
             [
              0.8888888888888888,
              "#fdca26"
             ],
             [
              1.0,
              "#f0f921"
             ]
            ]
           }
          ],
          "heatmap": [
           {
            "type": "heatmap",
            "colorbar": {
             "outlinewidth": 0,
             "ticks": ""
            },
            "colorscale": [
             [
              0.0,
              "#0d0887"
             ],
             [
              0.1111111111111111,
              "#46039f"
             ],
             [
              0.2222222222222222,
              "#7201a8"
             ],
             [
              0.3333333333333333,
              "#9c179e"
             ],
             [
              0.4444444444444444,
              "#bd3786"
             ],
             [
              0.5555555555555556,
              "#d8576b"
             ],
             [
              0.6666666666666666,
              "#ed7953"
             ],
             [
              0.7777777777777778,
              "#fb9f3a"
             ],
             [
              0.8888888888888888,
              "#fdca26"
             ],
             [
              1.0,
              "#f0f921"
             ]
            ]
           }
          ],
          "heatmapgl": [
           {
            "type": "heatmapgl",
            "colorbar": {
             "outlinewidth": 0,
             "ticks": ""
            },
            "colorscale": [
             [
              0.0,
              "#0d0887"
             ],
             [
              0.1111111111111111,
              "#46039f"
             ],
             [
              0.2222222222222222,
              "#7201a8"
             ],
             [
              0.3333333333333333,
              "#9c179e"
             ],
             [
              0.4444444444444444,
              "#bd3786"
             ],
             [
              0.5555555555555556,
              "#d8576b"
             ],
             [
              0.6666666666666666,
              "#ed7953"
             ],
             [
              0.7777777777777778,
              "#fb9f3a"
             ],
             [
              0.8888888888888888,
              "#fdca26"
             ],
             [
              1.0,
              "#f0f921"
             ]
            ]
           }
          ],
          "contourcarpet": [
           {
            "type": "contourcarpet",
            "colorbar": {
             "outlinewidth": 0,
             "ticks": ""
            }
           }
          ],
          "contour": [
           {
            "type": "contour",
            "colorbar": {
             "outlinewidth": 0,
             "ticks": ""
            },
            "colorscale": [
             [
              0.0,
              "#0d0887"
             ],
             [
              0.1111111111111111,
              "#46039f"
             ],
             [
              0.2222222222222222,
              "#7201a8"
             ],
             [
              0.3333333333333333,
              "#9c179e"
             ],
             [
              0.4444444444444444,
              "#bd3786"
             ],
             [
              0.5555555555555556,
              "#d8576b"
             ],
             [
              0.6666666666666666,
              "#ed7953"
             ],
             [
              0.7777777777777778,
              "#fb9f3a"
             ],
             [
              0.8888888888888888,
              "#fdca26"
             ],
             [
              1.0,
              "#f0f921"
             ]
            ]
           }
          ],
          "surface": [
           {
            "type": "surface",
            "colorbar": {
             "outlinewidth": 0,
             "ticks": ""
            },
            "colorscale": [
             [
              0.0,
              "#0d0887"
             ],
             [
              0.1111111111111111,
              "#46039f"
             ],
             [
              0.2222222222222222,
              "#7201a8"
             ],
             [
              0.3333333333333333,
              "#9c179e"
             ],
             [
              0.4444444444444444,
              "#bd3786"
             ],
             [
              0.5555555555555556,
              "#d8576b"
             ],
             [
              0.6666666666666666,
              "#ed7953"
             ],
             [
              0.7777777777777778,
              "#fb9f3a"
             ],
             [
              0.8888888888888888,
              "#fdca26"
             ],
             [
              1.0,
              "#f0f921"
             ]
            ]
           }
          ],
          "mesh3d": [
           {
            "type": "mesh3d",
            "colorbar": {
             "outlinewidth": 0,
             "ticks": ""
            }
           }
          ],
          "scatter": [
           {
            "marker": {
             "line": {
              "color": "#283442"
             }
            },
            "type": "scatter"
           }
          ],
          "parcoords": [
           {
            "type": "parcoords",
            "line": {
             "colorbar": {
              "outlinewidth": 0,
              "ticks": ""
             }
            }
           }
          ],
          "scatterpolargl": [
           {
            "type": "scatterpolargl",
            "marker": {
             "colorbar": {
              "outlinewidth": 0,
              "ticks": ""
             }
            }
           }
          ],
          "bar": [
           {
            "error_x": {
             "color": "#f2f5fa"
            },
            "error_y": {
             "color": "#f2f5fa"
            },
            "marker": {
             "line": {
              "color": "rgb(17,17,17)",
              "width": 0.5
             },
             "pattern": {
              "fillmode": "overlay",
              "size": 10,
              "solidity": 0.2
             }
            },
            "type": "bar"
           }
          ],
          "scattergeo": [
           {
            "type": "scattergeo",
            "marker": {
             "colorbar": {
              "outlinewidth": 0,
              "ticks": ""
             }
            }
           }
          ],
          "scatterpolar": [
           {
            "type": "scatterpolar",
            "marker": {
             "colorbar": {
              "outlinewidth": 0,
              "ticks": ""
             }
            }
           }
          ],
          "histogram": [
           {
            "marker": {
             "pattern": {
              "fillmode": "overlay",
              "size": 10,
              "solidity": 0.2
             }
            },
            "type": "histogram"
           }
          ],
          "scattergl": [
           {
            "marker": {
             "line": {
              "color": "#283442"
             }
            },
            "type": "scattergl"
           }
          ],
          "scatter3d": [
           {
            "type": "scatter3d",
            "line": {
             "colorbar": {
              "outlinewidth": 0,
              "ticks": ""
             }
            },
            "marker": {
             "colorbar": {
              "outlinewidth": 0,
              "ticks": ""
             }
            }
           }
          ],
          "scattermapbox": [
           {
            "type": "scattermapbox",
            "marker": {
             "colorbar": {
              "outlinewidth": 0,
              "ticks": ""
             }
            }
           }
          ],
          "scatterternary": [
           {
            "type": "scatterternary",
            "marker": {
             "colorbar": {
              "outlinewidth": 0,
              "ticks": ""
             }
            }
           }
          ],
          "scattercarpet": [
           {
            "type": "scattercarpet",
            "marker": {
             "colorbar": {
              "outlinewidth": 0,
              "ticks": ""
             }
            }
           }
          ],
          "carpet": [
           {
            "aaxis": {
             "endlinecolor": "#A2B1C6",
             "gridcolor": "#506784",
             "linecolor": "#506784",
             "minorgridcolor": "#506784",
             "startlinecolor": "#A2B1C6"
            },
            "baxis": {
             "endlinecolor": "#A2B1C6",
             "gridcolor": "#506784",
             "linecolor": "#506784",
             "minorgridcolor": "#506784",
             "startlinecolor": "#A2B1C6"
            },
            "type": "carpet"
           }
          ],
          "table": [
           {
            "cells": {
             "fill": {
              "color": "#506784"
             },
             "line": {
              "color": "rgb(17,17,17)"
             }
            },
            "header": {
             "fill": {
              "color": "#2a3f5f"
             },
             "line": {
              "color": "rgb(17,17,17)"
             }
            },
            "type": "table"
           }
          ],
          "barpolar": [
           {
            "marker": {
             "line": {
              "color": "rgb(17,17,17)",
              "width": 0.5
             },
             "pattern": {
              "fillmode": "overlay",
              "size": 10,
              "solidity": 0.2
             }
            },
            "type": "barpolar"
           }
          ],
          "pie": [
           {
            "automargin": true,
            "type": "pie"
           }
          ]
         },
         "layout": {
          "autotypenumbers": "strict",
          "colorway": [
           "#636efa",
           "#EF553B",
           "#00cc96",
           "#ab63fa",
           "#FFA15A",
           "#19d3f3",
           "#FF6692",
           "#B6E880",
           "#FF97FF",
           "#FECB52"
          ],
          "font": {
           "color": "#f2f5fa"
          },
          "hovermode": "closest",
          "hoverlabel": {
           "align": "left"
          },
          "paper_bgcolor": "rgb(17,17,17)",
          "plot_bgcolor": "rgb(17,17,17)",
          "polar": {
           "bgcolor": "rgb(17,17,17)",
           "angularaxis": {
            "gridcolor": "#506784",
            "linecolor": "#506784",
            "ticks": ""
           },
           "radialaxis": {
            "gridcolor": "#506784",
            "linecolor": "#506784",
            "ticks": ""
           }
          },
          "ternary": {
           "bgcolor": "rgb(17,17,17)",
           "aaxis": {
            "gridcolor": "#506784",
            "linecolor": "#506784",
            "ticks": ""
           },
           "baxis": {
            "gridcolor": "#506784",
            "linecolor": "#506784",
            "ticks": ""
           },
           "caxis": {
            "gridcolor": "#506784",
            "linecolor": "#506784",
            "ticks": ""
           }
          },
          "coloraxis": {
           "colorbar": {
            "outlinewidth": 0,
            "ticks": ""
           }
          },
          "colorscale": {
           "sequential": [
            [
             0.0,
             "#0d0887"
            ],
            [
             0.1111111111111111,
             "#46039f"
            ],
            [
             0.2222222222222222,
             "#7201a8"
            ],
            [
             0.3333333333333333,
             "#9c179e"
            ],
            [
             0.4444444444444444,
             "#bd3786"
            ],
            [
             0.5555555555555556,
             "#d8576b"
            ],
            [
             0.6666666666666666,
             "#ed7953"
            ],
            [
             0.7777777777777778,
             "#fb9f3a"
            ],
            [
             0.8888888888888888,
             "#fdca26"
            ],
            [
             1.0,
             "#f0f921"
            ]
           ],
           "sequentialminus": [
            [
             0.0,
             "#0d0887"
            ],
            [
             0.1111111111111111,
             "#46039f"
            ],
            [
             0.2222222222222222,
             "#7201a8"
            ],
            [
             0.3333333333333333,
             "#9c179e"
            ],
            [
             0.4444444444444444,
             "#bd3786"
            ],
            [
             0.5555555555555556,
             "#d8576b"
            ],
            [
             0.6666666666666666,
             "#ed7953"
            ],
            [
             0.7777777777777778,
             "#fb9f3a"
            ],
            [
             0.8888888888888888,
             "#fdca26"
            ],
            [
             1.0,
             "#f0f921"
            ]
           ],
           "diverging": [
            [
             0,
             "#8e0152"
            ],
            [
             0.1,
             "#c51b7d"
            ],
            [
             0.2,
             "#de77ae"
            ],
            [
             0.3,
             "#f1b6da"
            ],
            [
             0.4,
             "#fde0ef"
            ],
            [
             0.5,
             "#f7f7f7"
            ],
            [
             0.6,
             "#e6f5d0"
            ],
            [
             0.7,
             "#b8e186"
            ],
            [
             0.8,
             "#7fbc41"
            ],
            [
             0.9,
             "#4d9221"
            ],
            [
             1,
             "#276419"
            ]
           ]
          },
          "xaxis": {
           "gridcolor": "#283442",
           "linecolor": "#506784",
           "ticks": "",
           "title": {
            "standoff": 15
           },
           "zerolinecolor": "#283442",
           "automargin": true,
           "zerolinewidth": 2
          },
          "yaxis": {
           "gridcolor": "#283442",
           "linecolor": "#506784",
           "ticks": "",
           "title": {
            "standoff": 15
           },
           "zerolinecolor": "#283442",
           "automargin": true,
           "zerolinewidth": 2
          },
          "scene": {
           "xaxis": {
            "backgroundcolor": "rgb(17,17,17)",
            "gridcolor": "#506784",
            "linecolor": "#506784",
            "showbackground": true,
            "ticks": "",
            "zerolinecolor": "#C8D4E3",
            "gridwidth": 2
           },
           "yaxis": {
            "backgroundcolor": "rgb(17,17,17)",
            "gridcolor": "#506784",
            "linecolor": "#506784",
            "showbackground": true,
            "ticks": "",
            "zerolinecolor": "#C8D4E3",
            "gridwidth": 2
           },
           "zaxis": {
            "backgroundcolor": "rgb(17,17,17)",
            "gridcolor": "#506784",
            "linecolor": "#506784",
            "showbackground": true,
            "ticks": "",
            "zerolinecolor": "#C8D4E3",
            "gridwidth": 2
           }
          },
          "shapedefaults": {
           "line": {
            "color": "#f2f5fa"
           }
          },
          "annotationdefaults": {
           "arrowcolor": "#f2f5fa",
           "arrowhead": 0,
           "arrowwidth": 1
          },
          "geo": {
           "bgcolor": "rgb(17,17,17)",
           "landcolor": "rgb(17,17,17)",
           "subunitcolor": "#506784",
           "showland": true,
           "showlakes": true,
           "lakecolor": "rgb(17,17,17)"
          },
          "title": {
           "x": 0.05
          },
          "updatemenudefaults": {
           "bgcolor": "#506784",
           "borderwidth": 0
          },
          "sliderdefaults": {
           "bgcolor": "#C8D4E3",
           "borderwidth": 1,
           "bordercolor": "rgb(17,17,17)",
           "tickwidth": 0
          },
          "mapbox": {
           "style": "dark"
          }
         }
        },
        "xaxis": {
         "anchor": "y",
         "domain": [
          0.0,
          1.0
         ],
         "title": {
          "text": "Iteration"
         }
        },
        "yaxis": {
         "anchor": "x",
         "domain": [
          0.0,
          1.0
         ],
         "title": {
          "text": "Value"
         }
        },
        "legend": {
         "title": {
          "text": "Name"
         },
         "tracegroupgap": 0
        },
        "margin": {
         "t": 60
        }
       },
       "config": {
        "plotlyServerURL": "https://plot.ly"
       }
      },
      "text/html": "<div>                            <div id=\"64ab29d9-f898-4b3b-afa8-8f95406a5f6f\" class=\"plotly-graph-div\" style=\"height:525px; width:100%;\"></div>            <script type=\"text/javascript\">                require([\"plotly\"], function(Plotly) {                    window.PLOTLYENV=window.PLOTLYENV || {};                                    if (document.getElementById(\"64ab29d9-f898-4b3b-afa8-8f95406a5f6f\")) {                    Plotly.newPlot(                        \"64ab29d9-f898-4b3b-afa8-8f95406a5f6f\",                        [{\"hovertemplate\":\"Name=ErrorDev<br>Iteration=%{x}<br>Value=%{y}<extra></extra>\",\"legendgroup\":\"ErrorDev\",\"line\":{\"color\":\"#636efa\",\"dash\":\"solid\"},\"marker\":{\"symbol\":\"circle\"},\"mode\":\"lines\",\"name\":\"ErrorDev\",\"orientation\":\"v\",\"showlegend\":true,\"x\":[0,1,2,3,4,5,6,7,8,9,10],\"xaxis\":\"x\",\"y\":[0.5140924379884695,0.11382083813942119,0.06694355125032847,0.04800300996679652,0.045159579583751476,0.03895041232314385,0.03365622064265373,0.03108486714225981,0.02992419366268094,0.02762638804640958,0.02580066468606532],\"yaxis\":\"y\",\"type\":\"scatter\"},{\"hovertemplate\":\"Name=PrecisionDev<br>Iteration=%{x}<br>Value=%{y}<extra></extra>\",\"legendgroup\":\"PrecisionDev\",\"line\":{\"color\":\"#EF553B\",\"dash\":\"solid\"},\"marker\":{\"symbol\":\"circle\"},\"mode\":\"lines\",\"name\":\"PrecisionDev\",\"orientation\":\"v\",\"showlegend\":true,\"x\":[0,1,2,3,4,5,6,7,8,9,10],\"xaxis\":\"x\",\"y\":[0.7553,0.96394,0.98157,0.98776,0.98686,0.98979,0.99152,0.99254,0.99281,0.99354,0.99387],\"yaxis\":\"y\",\"type\":\"scatter\"},{\"hovertemplate\":\"Name=Error<br>Iteration=%{x}<br>Value=%{y}<extra></extra>\",\"legendgroup\":\"Error\",\"line\":{\"color\":\"#00cc96\",\"dash\":\"solid\"},\"marker\":{\"symbol\":\"circle\"},\"mode\":\"lines\",\"name\":\"Error\",\"orientation\":\"v\",\"showlegend\":true,\"x\":[0,1,2,3,4,5,6,7,8,9,10],\"xaxis\":\"x\",\"y\":[0.513199444393665,0.1053301806406431,0.05892708641505706,0.040160258307254365,0.0373880066404642,0.0313681906832996,0.025934432136271487,0.02468476312803773,0.022279474892111226,0.021720105841493715,0.01964172902884197],\"yaxis\":\"y\",\"type\":\"scatter\"},{\"hovertemplate\":\"Name=Precision<br>Iteration=%{x}<br>Value=%{y}<extra></extra>\",\"legendgroup\":\"Precision\",\"line\":{\"color\":\"#ab63fa\",\"dash\":\"solid\"},\"marker\":{\"symbol\":\"circle\"},\"mode\":\"lines\",\"name\":\"Precision\",\"orientation\":\"v\",\"showlegend\":true,\"x\":[0,1,2,3,4,5,6,7,8,9,10],\"xaxis\":\"x\",\"y\":[0.7544,0.96686,0.9842,0.9898,0.98884,0.99197,0.99338,0.994,0.99449,0.99464,0.99541],\"yaxis\":\"y\",\"type\":\"scatter\"}],                        {\"template\":{\"data\":{\"histogram2dcontour\":[{\"type\":\"histogram2dcontour\",\"colorbar\":{\"outlinewidth\":0,\"ticks\":\"\"},\"colorscale\":[[0.0,\"#0d0887\"],[0.1111111111111111,\"#46039f\"],[0.2222222222222222,\"#7201a8\"],[0.3333333333333333,\"#9c179e\"],[0.4444444444444444,\"#bd3786\"],[0.5555555555555556,\"#d8576b\"],[0.6666666666666666,\"#ed7953\"],[0.7777777777777778,\"#fb9f3a\"],[0.8888888888888888,\"#fdca26\"],[1.0,\"#f0f921\"]]}],\"choropleth\":[{\"type\":\"choropleth\",\"colorbar\":{\"outlinewidth\":0,\"ticks\":\"\"}}],\"histogram2d\":[{\"type\":\"histogram2d\",\"colorbar\":{\"outlinewidth\":0,\"ticks\":\"\"},\"colorscale\":[[0.0,\"#0d0887\"],[0.1111111111111111,\"#46039f\"],[0.2222222222222222,\"#7201a8\"],[0.3333333333333333,\"#9c179e\"],[0.4444444444444444,\"#bd3786\"],[0.5555555555555556,\"#d8576b\"],[0.6666666666666666,\"#ed7953\"],[0.7777777777777778,\"#fb9f3a\"],[0.8888888888888888,\"#fdca26\"],[1.0,\"#f0f921\"]]}],\"heatmap\":[{\"type\":\"heatmap\",\"colorbar\":{\"outlinewidth\":0,\"ticks\":\"\"},\"colorscale\":[[0.0,\"#0d0887\"],[0.1111111111111111,\"#46039f\"],[0.2222222222222222,\"#7201a8\"],[0.3333333333333333,\"#9c179e\"],[0.4444444444444444,\"#bd3786\"],[0.5555555555555556,\"#d8576b\"],[0.6666666666666666,\"#ed7953\"],[0.7777777777777778,\"#fb9f3a\"],[0.8888888888888888,\"#fdca26\"],[1.0,\"#f0f921\"]]}],\"heatmapgl\":[{\"type\":\"heatmapgl\",\"colorbar\":{\"outlinewidth\":0,\"ticks\":\"\"},\"colorscale\":[[0.0,\"#0d0887\"],[0.1111111111111111,\"#46039f\"],[0.2222222222222222,\"#7201a8\"],[0.3333333333333333,\"#9c179e\"],[0.4444444444444444,\"#bd3786\"],[0.5555555555555556,\"#d8576b\"],[0.6666666666666666,\"#ed7953\"],[0.7777777777777778,\"#fb9f3a\"],[0.8888888888888888,\"#fdca26\"],[1.0,\"#f0f921\"]]}],\"contourcarpet\":[{\"type\":\"contourcarpet\",\"colorbar\":{\"outlinewidth\":0,\"ticks\":\"\"}}],\"contour\":[{\"type\":\"contour\",\"colorbar\":{\"outlinewidth\":0,\"ticks\":\"\"},\"colorscale\":[[0.0,\"#0d0887\"],[0.1111111111111111,\"#46039f\"],[0.2222222222222222,\"#7201a8\"],[0.3333333333333333,\"#9c179e\"],[0.4444444444444444,\"#bd3786\"],[0.5555555555555556,\"#d8576b\"],[0.6666666666666666,\"#ed7953\"],[0.7777777777777778,\"#fb9f3a\"],[0.8888888888888888,\"#fdca26\"],[1.0,\"#f0f921\"]]}],\"surface\":[{\"type\":\"surface\",\"colorbar\":{\"outlinewidth\":0,\"ticks\":\"\"},\"colorscale\":[[0.0,\"#0d0887\"],[0.1111111111111111,\"#46039f\"],[0.2222222222222222,\"#7201a8\"],[0.3333333333333333,\"#9c179e\"],[0.4444444444444444,\"#bd3786\"],[0.5555555555555556,\"#d8576b\"],[0.6666666666666666,\"#ed7953\"],[0.7777777777777778,\"#fb9f3a\"],[0.8888888888888888,\"#fdca26\"],[1.0,\"#f0f921\"]]}],\"mesh3d\":[{\"type\":\"mesh3d\",\"colorbar\":{\"outlinewidth\":0,\"ticks\":\"\"}}],\"scatter\":[{\"marker\":{\"line\":{\"color\":\"#283442\"}},\"type\":\"scatter\"}],\"parcoords\":[{\"type\":\"parcoords\",\"line\":{\"colorbar\":{\"outlinewidth\":0,\"ticks\":\"\"}}}],\"scatterpolargl\":[{\"type\":\"scatterpolargl\",\"marker\":{\"colorbar\":{\"outlinewidth\":0,\"ticks\":\"\"}}}],\"bar\":[{\"error_x\":{\"color\":\"#f2f5fa\"},\"error_y\":{\"color\":\"#f2f5fa\"},\"marker\":{\"line\":{\"color\":\"rgb(17,17,17)\",\"width\":0.5},\"pattern\":{\"fillmode\":\"overlay\",\"size\":10,\"solidity\":0.2}},\"type\":\"bar\"}],\"scattergeo\":[{\"type\":\"scattergeo\",\"marker\":{\"colorbar\":{\"outlinewidth\":0,\"ticks\":\"\"}}}],\"scatterpolar\":[{\"type\":\"scatterpolar\",\"marker\":{\"colorbar\":{\"outlinewidth\":0,\"ticks\":\"\"}}}],\"histogram\":[{\"marker\":{\"pattern\":{\"fillmode\":\"overlay\",\"size\":10,\"solidity\":0.2}},\"type\":\"histogram\"}],\"scattergl\":[{\"marker\":{\"line\":{\"color\":\"#283442\"}},\"type\":\"scattergl\"}],\"scatter3d\":[{\"type\":\"scatter3d\",\"line\":{\"colorbar\":{\"outlinewidth\":0,\"ticks\":\"\"}},\"marker\":{\"colorbar\":{\"outlinewidth\":0,\"ticks\":\"\"}}}],\"scattermapbox\":[{\"type\":\"scattermapbox\",\"marker\":{\"colorbar\":{\"outlinewidth\":0,\"ticks\":\"\"}}}],\"scatterternary\":[{\"type\":\"scatterternary\",\"marker\":{\"colorbar\":{\"outlinewidth\":0,\"ticks\":\"\"}}}],\"scattercarpet\":[{\"type\":\"scattercarpet\",\"marker\":{\"colorbar\":{\"outlinewidth\":0,\"ticks\":\"\"}}}],\"carpet\":[{\"aaxis\":{\"endlinecolor\":\"#A2B1C6\",\"gridcolor\":\"#506784\",\"linecolor\":\"#506784\",\"minorgridcolor\":\"#506784\",\"startlinecolor\":\"#A2B1C6\"},\"baxis\":{\"endlinecolor\":\"#A2B1C6\",\"gridcolor\":\"#506784\",\"linecolor\":\"#506784\",\"minorgridcolor\":\"#506784\",\"startlinecolor\":\"#A2B1C6\"},\"type\":\"carpet\"}],\"table\":[{\"cells\":{\"fill\":{\"color\":\"#506784\"},\"line\":{\"color\":\"rgb(17,17,17)\"}},\"header\":{\"fill\":{\"color\":\"#2a3f5f\"},\"line\":{\"color\":\"rgb(17,17,17)\"}},\"type\":\"table\"}],\"barpolar\":[{\"marker\":{\"line\":{\"color\":\"rgb(17,17,17)\",\"width\":0.5},\"pattern\":{\"fillmode\":\"overlay\",\"size\":10,\"solidity\":0.2}},\"type\":\"barpolar\"}],\"pie\":[{\"automargin\":true,\"type\":\"pie\"}]},\"layout\":{\"autotypenumbers\":\"strict\",\"colorway\":[\"#636efa\",\"#EF553B\",\"#00cc96\",\"#ab63fa\",\"#FFA15A\",\"#19d3f3\",\"#FF6692\",\"#B6E880\",\"#FF97FF\",\"#FECB52\"],\"font\":{\"color\":\"#f2f5fa\"},\"hovermode\":\"closest\",\"hoverlabel\":{\"align\":\"left\"},\"paper_bgcolor\":\"rgb(17,17,17)\",\"plot_bgcolor\":\"rgb(17,17,17)\",\"polar\":{\"bgcolor\":\"rgb(17,17,17)\",\"angularaxis\":{\"gridcolor\":\"#506784\",\"linecolor\":\"#506784\",\"ticks\":\"\"},\"radialaxis\":{\"gridcolor\":\"#506784\",\"linecolor\":\"#506784\",\"ticks\":\"\"}},\"ternary\":{\"bgcolor\":\"rgb(17,17,17)\",\"aaxis\":{\"gridcolor\":\"#506784\",\"linecolor\":\"#506784\",\"ticks\":\"\"},\"baxis\":{\"gridcolor\":\"#506784\",\"linecolor\":\"#506784\",\"ticks\":\"\"},\"caxis\":{\"gridcolor\":\"#506784\",\"linecolor\":\"#506784\",\"ticks\":\"\"}},\"coloraxis\":{\"colorbar\":{\"outlinewidth\":0,\"ticks\":\"\"}},\"colorscale\":{\"sequential\":[[0.0,\"#0d0887\"],[0.1111111111111111,\"#46039f\"],[0.2222222222222222,\"#7201a8\"],[0.3333333333333333,\"#9c179e\"],[0.4444444444444444,\"#bd3786\"],[0.5555555555555556,\"#d8576b\"],[0.6666666666666666,\"#ed7953\"],[0.7777777777777778,\"#fb9f3a\"],[0.8888888888888888,\"#fdca26\"],[1.0,\"#f0f921\"]],\"sequentialminus\":[[0.0,\"#0d0887\"],[0.1111111111111111,\"#46039f\"],[0.2222222222222222,\"#7201a8\"],[0.3333333333333333,\"#9c179e\"],[0.4444444444444444,\"#bd3786\"],[0.5555555555555556,\"#d8576b\"],[0.6666666666666666,\"#ed7953\"],[0.7777777777777778,\"#fb9f3a\"],[0.8888888888888888,\"#fdca26\"],[1.0,\"#f0f921\"]],\"diverging\":[[0,\"#8e0152\"],[0.1,\"#c51b7d\"],[0.2,\"#de77ae\"],[0.3,\"#f1b6da\"],[0.4,\"#fde0ef\"],[0.5,\"#f7f7f7\"],[0.6,\"#e6f5d0\"],[0.7,\"#b8e186\"],[0.8,\"#7fbc41\"],[0.9,\"#4d9221\"],[1,\"#276419\"]]},\"xaxis\":{\"gridcolor\":\"#283442\",\"linecolor\":\"#506784\",\"ticks\":\"\",\"title\":{\"standoff\":15},\"zerolinecolor\":\"#283442\",\"automargin\":true,\"zerolinewidth\":2},\"yaxis\":{\"gridcolor\":\"#283442\",\"linecolor\":\"#506784\",\"ticks\":\"\",\"title\":{\"standoff\":15},\"zerolinecolor\":\"#283442\",\"automargin\":true,\"zerolinewidth\":2},\"scene\":{\"xaxis\":{\"backgroundcolor\":\"rgb(17,17,17)\",\"gridcolor\":\"#506784\",\"linecolor\":\"#506784\",\"showbackground\":true,\"ticks\":\"\",\"zerolinecolor\":\"#C8D4E3\",\"gridwidth\":2},\"yaxis\":{\"backgroundcolor\":\"rgb(17,17,17)\",\"gridcolor\":\"#506784\",\"linecolor\":\"#506784\",\"showbackground\":true,\"ticks\":\"\",\"zerolinecolor\":\"#C8D4E3\",\"gridwidth\":2},\"zaxis\":{\"backgroundcolor\":\"rgb(17,17,17)\",\"gridcolor\":\"#506784\",\"linecolor\":\"#506784\",\"showbackground\":true,\"ticks\":\"\",\"zerolinecolor\":\"#C8D4E3\",\"gridwidth\":2}},\"shapedefaults\":{\"line\":{\"color\":\"#f2f5fa\"}},\"annotationdefaults\":{\"arrowcolor\":\"#f2f5fa\",\"arrowhead\":0,\"arrowwidth\":1},\"geo\":{\"bgcolor\":\"rgb(17,17,17)\",\"landcolor\":\"rgb(17,17,17)\",\"subunitcolor\":\"#506784\",\"showland\":true,\"showlakes\":true,\"lakecolor\":\"rgb(17,17,17)\"},\"title\":{\"x\":0.05},\"updatemenudefaults\":{\"bgcolor\":\"#506784\",\"borderwidth\":0},\"sliderdefaults\":{\"bgcolor\":\"#C8D4E3\",\"borderwidth\":1,\"bordercolor\":\"rgb(17,17,17)\",\"tickwidth\":0},\"mapbox\":{\"style\":\"dark\"}}},\"xaxis\":{\"anchor\":\"y\",\"domain\":[0.0,1.0],\"title\":{\"text\":\"Iteration\"}},\"yaxis\":{\"anchor\":\"x\",\"domain\":[0.0,1.0],\"title\":{\"text\":\"Value\"}},\"legend\":{\"title\":{\"text\":\"Name\"},\"tracegroupgap\":0},\"margin\":{\"t\":60}},                        {\"responsive\": true}                    ).then(function(){\n                            \nvar gd = document.getElementById('64ab29d9-f898-4b3b-afa8-8f95406a5f6f');\nvar x = new MutationObserver(function (mutations, observer) {{\n        var display = window.getComputedStyle(gd).display;\n        if (!display || display === 'none') {{\n            console.log([gd, 'removed!']);\n            Plotly.purge(gd);\n            observer.disconnect();\n        }}\n}});\n\n// Listen for the removal of the full notebook cells\nvar notebookContainer = gd.closest('#notebook-container');\nif (notebookContainer) {{\n    x.observe(notebookContainer, {childList: true});\n}}\n\n// Listen for the clearing of the current output cell\nvar outputEl = gd.closest('.output');\nif (outputEl) {{\n    x.observe(outputEl, {childList: true});\n}}\n\n                        })                };                });            </script>        </div>"
     },
     "metadata": {},
     "output_type": "display_data"
    }
   ],
   "source": [
    "px.line(model0.trainingData, x='Iteration', y='Value', color='Name')"
   ],
   "metadata": {
    "collapsed": false,
    "ExecuteTime": {
     "start_time": "2023-08-22T01:24:22.244938Z",
     "end_time": "2023-08-22T01:24:22.410501Z"
    }
   }
  },
  {
   "cell_type": "code",
   "execution_count": 9,
   "outputs": [
    {
     "data": {
      "application/vnd.plotly.v1+json": {
       "data": [
        {
         "hovertemplate": "Name=ErrorDev<br>Iteration=%{x}<br>Value=%{y}<extra></extra>",
         "legendgroup": "ErrorDev",
         "line": {
          "color": "#636efa",
          "dash": "solid"
         },
         "marker": {
          "symbol": "circle"
         },
         "mode": "lines",
         "name": "ErrorDev",
         "orientation": "v",
         "showlegend": true,
         "x": [
          0,
          1,
          2,
          3,
          4,
          5,
          6,
          7,
          8,
          9,
          10
         ],
         "xaxis": "x",
         "y": [
          0.5140924379884695,
          0.11382083813942119,
          0.06694355125032847,
          0.04800300996679652,
          0.045159579583751476,
          0.03895041232314385,
          0.03365622064265373,
          0.03108486714225981,
          0.02992419366268094,
          0.02762638804640958,
          0.02580066468606532
         ],
         "yaxis": "y",
         "type": "scatter"
        },
        {
         "hovertemplate": "Name=PrecisionDev<br>Iteration=%{x}<br>Value=%{y}<extra></extra>",
         "legendgroup": "PrecisionDev",
         "line": {
          "color": "#EF553B",
          "dash": "solid"
         },
         "marker": {
          "symbol": "circle"
         },
         "mode": "lines",
         "name": "PrecisionDev",
         "orientation": "v",
         "showlegend": true,
         "x": [
          0,
          1,
          2,
          3,
          4,
          5,
          6,
          7,
          8,
          9,
          10
         ],
         "xaxis": "x",
         "y": [
          0.7553,
          0.96394,
          0.98157,
          0.98776,
          0.98686,
          0.98979,
          0.99152,
          0.99254,
          0.99281,
          0.99354,
          0.99387
         ],
         "yaxis": "y",
         "type": "scatter"
        },
        {
         "hovertemplate": "Name=Error<br>Iteration=%{x}<br>Value=%{y}<extra></extra>",
         "legendgroup": "Error",
         "line": {
          "color": "#00cc96",
          "dash": "solid"
         },
         "marker": {
          "symbol": "circle"
         },
         "mode": "lines",
         "name": "Error",
         "orientation": "v",
         "showlegend": true,
         "x": [
          0,
          1,
          2,
          3,
          4,
          5,
          6,
          7,
          8,
          9,
          10
         ],
         "xaxis": "x",
         "y": [
          0.513199444393665,
          0.1053301806406431,
          0.05892708641505706,
          0.040160258307254365,
          0.0373880066404642,
          0.0313681906832996,
          0.025934432136271487,
          0.02468476312803773,
          0.022279474892111226,
          0.021720105841493715,
          0.01964172902884197
         ],
         "yaxis": "y",
         "type": "scatter"
        },
        {
         "hovertemplate": "Name=Precision<br>Iteration=%{x}<br>Value=%{y}<extra></extra>",
         "legendgroup": "Precision",
         "line": {
          "color": "#ab63fa",
          "dash": "solid"
         },
         "marker": {
          "symbol": "circle"
         },
         "mode": "lines",
         "name": "Precision",
         "orientation": "v",
         "showlegend": true,
         "x": [
          0,
          1,
          2,
          3,
          4,
          5,
          6,
          7,
          8,
          9,
          10
         ],
         "xaxis": "x",
         "y": [
          0.7544,
          0.96686,
          0.9842,
          0.9898,
          0.98884,
          0.99197,
          0.99338,
          0.994,
          0.99449,
          0.99464,
          0.99541
         ],
         "yaxis": "y",
         "type": "scatter"
        }
       ],
       "layout": {
        "template": {
         "data": {
          "histogram2dcontour": [
           {
            "type": "histogram2dcontour",
            "colorbar": {
             "outlinewidth": 0,
             "ticks": ""
            },
            "colorscale": [
             [
              0.0,
              "#0d0887"
             ],
             [
              0.1111111111111111,
              "#46039f"
             ],
             [
              0.2222222222222222,
              "#7201a8"
             ],
             [
              0.3333333333333333,
              "#9c179e"
             ],
             [
              0.4444444444444444,
              "#bd3786"
             ],
             [
              0.5555555555555556,
              "#d8576b"
             ],
             [
              0.6666666666666666,
              "#ed7953"
             ],
             [
              0.7777777777777778,
              "#fb9f3a"
             ],
             [
              0.8888888888888888,
              "#fdca26"
             ],
             [
              1.0,
              "#f0f921"
             ]
            ]
           }
          ],
          "choropleth": [
           {
            "type": "choropleth",
            "colorbar": {
             "outlinewidth": 0,
             "ticks": ""
            }
           }
          ],
          "histogram2d": [
           {
            "type": "histogram2d",
            "colorbar": {
             "outlinewidth": 0,
             "ticks": ""
            },
            "colorscale": [
             [
              0.0,
              "#0d0887"
             ],
             [
              0.1111111111111111,
              "#46039f"
             ],
             [
              0.2222222222222222,
              "#7201a8"
             ],
             [
              0.3333333333333333,
              "#9c179e"
             ],
             [
              0.4444444444444444,
              "#bd3786"
             ],
             [
              0.5555555555555556,
              "#d8576b"
             ],
             [
              0.6666666666666666,
              "#ed7953"
             ],
             [
              0.7777777777777778,
              "#fb9f3a"
             ],
             [
              0.8888888888888888,
              "#fdca26"
             ],
             [
              1.0,
              "#f0f921"
             ]
            ]
           }
          ],
          "heatmap": [
           {
            "type": "heatmap",
            "colorbar": {
             "outlinewidth": 0,
             "ticks": ""
            },
            "colorscale": [
             [
              0.0,
              "#0d0887"
             ],
             [
              0.1111111111111111,
              "#46039f"
             ],
             [
              0.2222222222222222,
              "#7201a8"
             ],
             [
              0.3333333333333333,
              "#9c179e"
             ],
             [
              0.4444444444444444,
              "#bd3786"
             ],
             [
              0.5555555555555556,
              "#d8576b"
             ],
             [
              0.6666666666666666,
              "#ed7953"
             ],
             [
              0.7777777777777778,
              "#fb9f3a"
             ],
             [
              0.8888888888888888,
              "#fdca26"
             ],
             [
              1.0,
              "#f0f921"
             ]
            ]
           }
          ],
          "heatmapgl": [
           {
            "type": "heatmapgl",
            "colorbar": {
             "outlinewidth": 0,
             "ticks": ""
            },
            "colorscale": [
             [
              0.0,
              "#0d0887"
             ],
             [
              0.1111111111111111,
              "#46039f"
             ],
             [
              0.2222222222222222,
              "#7201a8"
             ],
             [
              0.3333333333333333,
              "#9c179e"
             ],
             [
              0.4444444444444444,
              "#bd3786"
             ],
             [
              0.5555555555555556,
              "#d8576b"
             ],
             [
              0.6666666666666666,
              "#ed7953"
             ],
             [
              0.7777777777777778,
              "#fb9f3a"
             ],
             [
              0.8888888888888888,
              "#fdca26"
             ],
             [
              1.0,
              "#f0f921"
             ]
            ]
           }
          ],
          "contourcarpet": [
           {
            "type": "contourcarpet",
            "colorbar": {
             "outlinewidth": 0,
             "ticks": ""
            }
           }
          ],
          "contour": [
           {
            "type": "contour",
            "colorbar": {
             "outlinewidth": 0,
             "ticks": ""
            },
            "colorscale": [
             [
              0.0,
              "#0d0887"
             ],
             [
              0.1111111111111111,
              "#46039f"
             ],
             [
              0.2222222222222222,
              "#7201a8"
             ],
             [
              0.3333333333333333,
              "#9c179e"
             ],
             [
              0.4444444444444444,
              "#bd3786"
             ],
             [
              0.5555555555555556,
              "#d8576b"
             ],
             [
              0.6666666666666666,
              "#ed7953"
             ],
             [
              0.7777777777777778,
              "#fb9f3a"
             ],
             [
              0.8888888888888888,
              "#fdca26"
             ],
             [
              1.0,
              "#f0f921"
             ]
            ]
           }
          ],
          "surface": [
           {
            "type": "surface",
            "colorbar": {
             "outlinewidth": 0,
             "ticks": ""
            },
            "colorscale": [
             [
              0.0,
              "#0d0887"
             ],
             [
              0.1111111111111111,
              "#46039f"
             ],
             [
              0.2222222222222222,
              "#7201a8"
             ],
             [
              0.3333333333333333,
              "#9c179e"
             ],
             [
              0.4444444444444444,
              "#bd3786"
             ],
             [
              0.5555555555555556,
              "#d8576b"
             ],
             [
              0.6666666666666666,
              "#ed7953"
             ],
             [
              0.7777777777777778,
              "#fb9f3a"
             ],
             [
              0.8888888888888888,
              "#fdca26"
             ],
             [
              1.0,
              "#f0f921"
             ]
            ]
           }
          ],
          "mesh3d": [
           {
            "type": "mesh3d",
            "colorbar": {
             "outlinewidth": 0,
             "ticks": ""
            }
           }
          ],
          "scatter": [
           {
            "marker": {
             "line": {
              "color": "#283442"
             }
            },
            "type": "scatter"
           }
          ],
          "parcoords": [
           {
            "type": "parcoords",
            "line": {
             "colorbar": {
              "outlinewidth": 0,
              "ticks": ""
             }
            }
           }
          ],
          "scatterpolargl": [
           {
            "type": "scatterpolargl",
            "marker": {
             "colorbar": {
              "outlinewidth": 0,
              "ticks": ""
             }
            }
           }
          ],
          "bar": [
           {
            "error_x": {
             "color": "#f2f5fa"
            },
            "error_y": {
             "color": "#f2f5fa"
            },
            "marker": {
             "line": {
              "color": "rgb(17,17,17)",
              "width": 0.5
             },
             "pattern": {
              "fillmode": "overlay",
              "size": 10,
              "solidity": 0.2
             }
            },
            "type": "bar"
           }
          ],
          "scattergeo": [
           {
            "type": "scattergeo",
            "marker": {
             "colorbar": {
              "outlinewidth": 0,
              "ticks": ""
             }
            }
           }
          ],
          "scatterpolar": [
           {
            "type": "scatterpolar",
            "marker": {
             "colorbar": {
              "outlinewidth": 0,
              "ticks": ""
             }
            }
           }
          ],
          "histogram": [
           {
            "marker": {
             "pattern": {
              "fillmode": "overlay",
              "size": 10,
              "solidity": 0.2
             }
            },
            "type": "histogram"
           }
          ],
          "scattergl": [
           {
            "marker": {
             "line": {
              "color": "#283442"
             }
            },
            "type": "scattergl"
           }
          ],
          "scatter3d": [
           {
            "type": "scatter3d",
            "line": {
             "colorbar": {
              "outlinewidth": 0,
              "ticks": ""
             }
            },
            "marker": {
             "colorbar": {
              "outlinewidth": 0,
              "ticks": ""
             }
            }
           }
          ],
          "scattermapbox": [
           {
            "type": "scattermapbox",
            "marker": {
             "colorbar": {
              "outlinewidth": 0,
              "ticks": ""
             }
            }
           }
          ],
          "scatterternary": [
           {
            "type": "scatterternary",
            "marker": {
             "colorbar": {
              "outlinewidth": 0,
              "ticks": ""
             }
            }
           }
          ],
          "scattercarpet": [
           {
            "type": "scattercarpet",
            "marker": {
             "colorbar": {
              "outlinewidth": 0,
              "ticks": ""
             }
            }
           }
          ],
          "carpet": [
           {
            "aaxis": {
             "endlinecolor": "#A2B1C6",
             "gridcolor": "#506784",
             "linecolor": "#506784",
             "minorgridcolor": "#506784",
             "startlinecolor": "#A2B1C6"
            },
            "baxis": {
             "endlinecolor": "#A2B1C6",
             "gridcolor": "#506784",
             "linecolor": "#506784",
             "minorgridcolor": "#506784",
             "startlinecolor": "#A2B1C6"
            },
            "type": "carpet"
           }
          ],
          "table": [
           {
            "cells": {
             "fill": {
              "color": "#506784"
             },
             "line": {
              "color": "rgb(17,17,17)"
             }
            },
            "header": {
             "fill": {
              "color": "#2a3f5f"
             },
             "line": {
              "color": "rgb(17,17,17)"
             }
            },
            "type": "table"
           }
          ],
          "barpolar": [
           {
            "marker": {
             "line": {
              "color": "rgb(17,17,17)",
              "width": 0.5
             },
             "pattern": {
              "fillmode": "overlay",
              "size": 10,
              "solidity": 0.2
             }
            },
            "type": "barpolar"
           }
          ],
          "pie": [
           {
            "automargin": true,
            "type": "pie"
           }
          ]
         },
         "layout": {
          "autotypenumbers": "strict",
          "colorway": [
           "#636efa",
           "#EF553B",
           "#00cc96",
           "#ab63fa",
           "#FFA15A",
           "#19d3f3",
           "#FF6692",
           "#B6E880",
           "#FF97FF",
           "#FECB52"
          ],
          "font": {
           "color": "#f2f5fa"
          },
          "hovermode": "closest",
          "hoverlabel": {
           "align": "left"
          },
          "paper_bgcolor": "rgb(17,17,17)",
          "plot_bgcolor": "rgb(17,17,17)",
          "polar": {
           "bgcolor": "rgb(17,17,17)",
           "angularaxis": {
            "gridcolor": "#506784",
            "linecolor": "#506784",
            "ticks": ""
           },
           "radialaxis": {
            "gridcolor": "#506784",
            "linecolor": "#506784",
            "ticks": ""
           }
          },
          "ternary": {
           "bgcolor": "rgb(17,17,17)",
           "aaxis": {
            "gridcolor": "#506784",
            "linecolor": "#506784",
            "ticks": ""
           },
           "baxis": {
            "gridcolor": "#506784",
            "linecolor": "#506784",
            "ticks": ""
           },
           "caxis": {
            "gridcolor": "#506784",
            "linecolor": "#506784",
            "ticks": ""
           }
          },
          "coloraxis": {
           "colorbar": {
            "outlinewidth": 0,
            "ticks": ""
           }
          },
          "colorscale": {
           "sequential": [
            [
             0.0,
             "#0d0887"
            ],
            [
             0.1111111111111111,
             "#46039f"
            ],
            [
             0.2222222222222222,
             "#7201a8"
            ],
            [
             0.3333333333333333,
             "#9c179e"
            ],
            [
             0.4444444444444444,
             "#bd3786"
            ],
            [
             0.5555555555555556,
             "#d8576b"
            ],
            [
             0.6666666666666666,
             "#ed7953"
            ],
            [
             0.7777777777777778,
             "#fb9f3a"
            ],
            [
             0.8888888888888888,
             "#fdca26"
            ],
            [
             1.0,
             "#f0f921"
            ]
           ],
           "sequentialminus": [
            [
             0.0,
             "#0d0887"
            ],
            [
             0.1111111111111111,
             "#46039f"
            ],
            [
             0.2222222222222222,
             "#7201a8"
            ],
            [
             0.3333333333333333,
             "#9c179e"
            ],
            [
             0.4444444444444444,
             "#bd3786"
            ],
            [
             0.5555555555555556,
             "#d8576b"
            ],
            [
             0.6666666666666666,
             "#ed7953"
            ],
            [
             0.7777777777777778,
             "#fb9f3a"
            ],
            [
             0.8888888888888888,
             "#fdca26"
            ],
            [
             1.0,
             "#f0f921"
            ]
           ],
           "diverging": [
            [
             0,
             "#8e0152"
            ],
            [
             0.1,
             "#c51b7d"
            ],
            [
             0.2,
             "#de77ae"
            ],
            [
             0.3,
             "#f1b6da"
            ],
            [
             0.4,
             "#fde0ef"
            ],
            [
             0.5,
             "#f7f7f7"
            ],
            [
             0.6,
             "#e6f5d0"
            ],
            [
             0.7,
             "#b8e186"
            ],
            [
             0.8,
             "#7fbc41"
            ],
            [
             0.9,
             "#4d9221"
            ],
            [
             1,
             "#276419"
            ]
           ]
          },
          "xaxis": {
           "gridcolor": "#283442",
           "linecolor": "#506784",
           "ticks": "",
           "title": {
            "standoff": 15
           },
           "zerolinecolor": "#283442",
           "automargin": true,
           "zerolinewidth": 2
          },
          "yaxis": {
           "gridcolor": "#283442",
           "linecolor": "#506784",
           "ticks": "",
           "title": {
            "standoff": 15
           },
           "zerolinecolor": "#283442",
           "automargin": true,
           "zerolinewidth": 2
          },
          "scene": {
           "xaxis": {
            "backgroundcolor": "rgb(17,17,17)",
            "gridcolor": "#506784",
            "linecolor": "#506784",
            "showbackground": true,
            "ticks": "",
            "zerolinecolor": "#C8D4E3",
            "gridwidth": 2
           },
           "yaxis": {
            "backgroundcolor": "rgb(17,17,17)",
            "gridcolor": "#506784",
            "linecolor": "#506784",
            "showbackground": true,
            "ticks": "",
            "zerolinecolor": "#C8D4E3",
            "gridwidth": 2
           },
           "zaxis": {
            "backgroundcolor": "rgb(17,17,17)",
            "gridcolor": "#506784",
            "linecolor": "#506784",
            "showbackground": true,
            "ticks": "",
            "zerolinecolor": "#C8D4E3",
            "gridwidth": 2
           }
          },
          "shapedefaults": {
           "line": {
            "color": "#f2f5fa"
           }
          },
          "annotationdefaults": {
           "arrowcolor": "#f2f5fa",
           "arrowhead": 0,
           "arrowwidth": 1
          },
          "geo": {
           "bgcolor": "rgb(17,17,17)",
           "landcolor": "rgb(17,17,17)",
           "subunitcolor": "#506784",
           "showland": true,
           "showlakes": true,
           "lakecolor": "rgb(17,17,17)"
          },
          "title": {
           "x": 0.05
          },
          "updatemenudefaults": {
           "bgcolor": "#506784",
           "borderwidth": 0
          },
          "sliderdefaults": {
           "bgcolor": "#C8D4E3",
           "borderwidth": 1,
           "bordercolor": "rgb(17,17,17)",
           "tickwidth": 0
          },
          "mapbox": {
           "style": "dark"
          }
         }
        },
        "xaxis": {
         "anchor": "y",
         "domain": [
          0.0,
          1.0
         ],
         "title": {
          "text": "Iteration"
         }
        },
        "yaxis": {
         "anchor": "x",
         "domain": [
          0.0,
          1.0
         ],
         "title": {
          "text": "Value"
         }
        },
        "legend": {
         "title": {
          "text": "Name"
         },
         "tracegroupgap": 0
        },
        "margin": {
         "t": 60
        }
       },
       "config": {
        "plotlyServerURL": "https://plot.ly"
       }
      },
      "text/html": "<div>                            <div id=\"7453a469-130b-4f9a-9cc6-86bcf65ce25c\" class=\"plotly-graph-div\" style=\"height:525px; width:100%;\"></div>            <script type=\"text/javascript\">                require([\"plotly\"], function(Plotly) {                    window.PLOTLYENV=window.PLOTLYENV || {};                                    if (document.getElementById(\"7453a469-130b-4f9a-9cc6-86bcf65ce25c\")) {                    Plotly.newPlot(                        \"7453a469-130b-4f9a-9cc6-86bcf65ce25c\",                        [{\"hovertemplate\":\"Name=ErrorDev<br>Iteration=%{x}<br>Value=%{y}<extra></extra>\",\"legendgroup\":\"ErrorDev\",\"line\":{\"color\":\"#636efa\",\"dash\":\"solid\"},\"marker\":{\"symbol\":\"circle\"},\"mode\":\"lines\",\"name\":\"ErrorDev\",\"orientation\":\"v\",\"showlegend\":true,\"x\":[0,1,2,3,4,5,6,7,8,9,10],\"xaxis\":\"x\",\"y\":[0.5140924379884695,0.11382083813942119,0.06694355125032847,0.04800300996679652,0.045159579583751476,0.03895041232314385,0.03365622064265373,0.03108486714225981,0.02992419366268094,0.02762638804640958,0.02580066468606532],\"yaxis\":\"y\",\"type\":\"scatter\"},{\"hovertemplate\":\"Name=PrecisionDev<br>Iteration=%{x}<br>Value=%{y}<extra></extra>\",\"legendgroup\":\"PrecisionDev\",\"line\":{\"color\":\"#EF553B\",\"dash\":\"solid\"},\"marker\":{\"symbol\":\"circle\"},\"mode\":\"lines\",\"name\":\"PrecisionDev\",\"orientation\":\"v\",\"showlegend\":true,\"x\":[0,1,2,3,4,5,6,7,8,9,10],\"xaxis\":\"x\",\"y\":[0.7553,0.96394,0.98157,0.98776,0.98686,0.98979,0.99152,0.99254,0.99281,0.99354,0.99387],\"yaxis\":\"y\",\"type\":\"scatter\"},{\"hovertemplate\":\"Name=Error<br>Iteration=%{x}<br>Value=%{y}<extra></extra>\",\"legendgroup\":\"Error\",\"line\":{\"color\":\"#00cc96\",\"dash\":\"solid\"},\"marker\":{\"symbol\":\"circle\"},\"mode\":\"lines\",\"name\":\"Error\",\"orientation\":\"v\",\"showlegend\":true,\"x\":[0,1,2,3,4,5,6,7,8,9,10],\"xaxis\":\"x\",\"y\":[0.513199444393665,0.1053301806406431,0.05892708641505706,0.040160258307254365,0.0373880066404642,0.0313681906832996,0.025934432136271487,0.02468476312803773,0.022279474892111226,0.021720105841493715,0.01964172902884197],\"yaxis\":\"y\",\"type\":\"scatter\"},{\"hovertemplate\":\"Name=Precision<br>Iteration=%{x}<br>Value=%{y}<extra></extra>\",\"legendgroup\":\"Precision\",\"line\":{\"color\":\"#ab63fa\",\"dash\":\"solid\"},\"marker\":{\"symbol\":\"circle\"},\"mode\":\"lines\",\"name\":\"Precision\",\"orientation\":\"v\",\"showlegend\":true,\"x\":[0,1,2,3,4,5,6,7,8,9,10],\"xaxis\":\"x\",\"y\":[0.7544,0.96686,0.9842,0.9898,0.98884,0.99197,0.99338,0.994,0.99449,0.99464,0.99541],\"yaxis\":\"y\",\"type\":\"scatter\"}],                        {\"template\":{\"data\":{\"histogram2dcontour\":[{\"type\":\"histogram2dcontour\",\"colorbar\":{\"outlinewidth\":0,\"ticks\":\"\"},\"colorscale\":[[0.0,\"#0d0887\"],[0.1111111111111111,\"#46039f\"],[0.2222222222222222,\"#7201a8\"],[0.3333333333333333,\"#9c179e\"],[0.4444444444444444,\"#bd3786\"],[0.5555555555555556,\"#d8576b\"],[0.6666666666666666,\"#ed7953\"],[0.7777777777777778,\"#fb9f3a\"],[0.8888888888888888,\"#fdca26\"],[1.0,\"#f0f921\"]]}],\"choropleth\":[{\"type\":\"choropleth\",\"colorbar\":{\"outlinewidth\":0,\"ticks\":\"\"}}],\"histogram2d\":[{\"type\":\"histogram2d\",\"colorbar\":{\"outlinewidth\":0,\"ticks\":\"\"},\"colorscale\":[[0.0,\"#0d0887\"],[0.1111111111111111,\"#46039f\"],[0.2222222222222222,\"#7201a8\"],[0.3333333333333333,\"#9c179e\"],[0.4444444444444444,\"#bd3786\"],[0.5555555555555556,\"#d8576b\"],[0.6666666666666666,\"#ed7953\"],[0.7777777777777778,\"#fb9f3a\"],[0.8888888888888888,\"#fdca26\"],[1.0,\"#f0f921\"]]}],\"heatmap\":[{\"type\":\"heatmap\",\"colorbar\":{\"outlinewidth\":0,\"ticks\":\"\"},\"colorscale\":[[0.0,\"#0d0887\"],[0.1111111111111111,\"#46039f\"],[0.2222222222222222,\"#7201a8\"],[0.3333333333333333,\"#9c179e\"],[0.4444444444444444,\"#bd3786\"],[0.5555555555555556,\"#d8576b\"],[0.6666666666666666,\"#ed7953\"],[0.7777777777777778,\"#fb9f3a\"],[0.8888888888888888,\"#fdca26\"],[1.0,\"#f0f921\"]]}],\"heatmapgl\":[{\"type\":\"heatmapgl\",\"colorbar\":{\"outlinewidth\":0,\"ticks\":\"\"},\"colorscale\":[[0.0,\"#0d0887\"],[0.1111111111111111,\"#46039f\"],[0.2222222222222222,\"#7201a8\"],[0.3333333333333333,\"#9c179e\"],[0.4444444444444444,\"#bd3786\"],[0.5555555555555556,\"#d8576b\"],[0.6666666666666666,\"#ed7953\"],[0.7777777777777778,\"#fb9f3a\"],[0.8888888888888888,\"#fdca26\"],[1.0,\"#f0f921\"]]}],\"contourcarpet\":[{\"type\":\"contourcarpet\",\"colorbar\":{\"outlinewidth\":0,\"ticks\":\"\"}}],\"contour\":[{\"type\":\"contour\",\"colorbar\":{\"outlinewidth\":0,\"ticks\":\"\"},\"colorscale\":[[0.0,\"#0d0887\"],[0.1111111111111111,\"#46039f\"],[0.2222222222222222,\"#7201a8\"],[0.3333333333333333,\"#9c179e\"],[0.4444444444444444,\"#bd3786\"],[0.5555555555555556,\"#d8576b\"],[0.6666666666666666,\"#ed7953\"],[0.7777777777777778,\"#fb9f3a\"],[0.8888888888888888,\"#fdca26\"],[1.0,\"#f0f921\"]]}],\"surface\":[{\"type\":\"surface\",\"colorbar\":{\"outlinewidth\":0,\"ticks\":\"\"},\"colorscale\":[[0.0,\"#0d0887\"],[0.1111111111111111,\"#46039f\"],[0.2222222222222222,\"#7201a8\"],[0.3333333333333333,\"#9c179e\"],[0.4444444444444444,\"#bd3786\"],[0.5555555555555556,\"#d8576b\"],[0.6666666666666666,\"#ed7953\"],[0.7777777777777778,\"#fb9f3a\"],[0.8888888888888888,\"#fdca26\"],[1.0,\"#f0f921\"]]}],\"mesh3d\":[{\"type\":\"mesh3d\",\"colorbar\":{\"outlinewidth\":0,\"ticks\":\"\"}}],\"scatter\":[{\"marker\":{\"line\":{\"color\":\"#283442\"}},\"type\":\"scatter\"}],\"parcoords\":[{\"type\":\"parcoords\",\"line\":{\"colorbar\":{\"outlinewidth\":0,\"ticks\":\"\"}}}],\"scatterpolargl\":[{\"type\":\"scatterpolargl\",\"marker\":{\"colorbar\":{\"outlinewidth\":0,\"ticks\":\"\"}}}],\"bar\":[{\"error_x\":{\"color\":\"#f2f5fa\"},\"error_y\":{\"color\":\"#f2f5fa\"},\"marker\":{\"line\":{\"color\":\"rgb(17,17,17)\",\"width\":0.5},\"pattern\":{\"fillmode\":\"overlay\",\"size\":10,\"solidity\":0.2}},\"type\":\"bar\"}],\"scattergeo\":[{\"type\":\"scattergeo\",\"marker\":{\"colorbar\":{\"outlinewidth\":0,\"ticks\":\"\"}}}],\"scatterpolar\":[{\"type\":\"scatterpolar\",\"marker\":{\"colorbar\":{\"outlinewidth\":0,\"ticks\":\"\"}}}],\"histogram\":[{\"marker\":{\"pattern\":{\"fillmode\":\"overlay\",\"size\":10,\"solidity\":0.2}},\"type\":\"histogram\"}],\"scattergl\":[{\"marker\":{\"line\":{\"color\":\"#283442\"}},\"type\":\"scattergl\"}],\"scatter3d\":[{\"type\":\"scatter3d\",\"line\":{\"colorbar\":{\"outlinewidth\":0,\"ticks\":\"\"}},\"marker\":{\"colorbar\":{\"outlinewidth\":0,\"ticks\":\"\"}}}],\"scattermapbox\":[{\"type\":\"scattermapbox\",\"marker\":{\"colorbar\":{\"outlinewidth\":0,\"ticks\":\"\"}}}],\"scatterternary\":[{\"type\":\"scatterternary\",\"marker\":{\"colorbar\":{\"outlinewidth\":0,\"ticks\":\"\"}}}],\"scattercarpet\":[{\"type\":\"scattercarpet\",\"marker\":{\"colorbar\":{\"outlinewidth\":0,\"ticks\":\"\"}}}],\"carpet\":[{\"aaxis\":{\"endlinecolor\":\"#A2B1C6\",\"gridcolor\":\"#506784\",\"linecolor\":\"#506784\",\"minorgridcolor\":\"#506784\",\"startlinecolor\":\"#A2B1C6\"},\"baxis\":{\"endlinecolor\":\"#A2B1C6\",\"gridcolor\":\"#506784\",\"linecolor\":\"#506784\",\"minorgridcolor\":\"#506784\",\"startlinecolor\":\"#A2B1C6\"},\"type\":\"carpet\"}],\"table\":[{\"cells\":{\"fill\":{\"color\":\"#506784\"},\"line\":{\"color\":\"rgb(17,17,17)\"}},\"header\":{\"fill\":{\"color\":\"#2a3f5f\"},\"line\":{\"color\":\"rgb(17,17,17)\"}},\"type\":\"table\"}],\"barpolar\":[{\"marker\":{\"line\":{\"color\":\"rgb(17,17,17)\",\"width\":0.5},\"pattern\":{\"fillmode\":\"overlay\",\"size\":10,\"solidity\":0.2}},\"type\":\"barpolar\"}],\"pie\":[{\"automargin\":true,\"type\":\"pie\"}]},\"layout\":{\"autotypenumbers\":\"strict\",\"colorway\":[\"#636efa\",\"#EF553B\",\"#00cc96\",\"#ab63fa\",\"#FFA15A\",\"#19d3f3\",\"#FF6692\",\"#B6E880\",\"#FF97FF\",\"#FECB52\"],\"font\":{\"color\":\"#f2f5fa\"},\"hovermode\":\"closest\",\"hoverlabel\":{\"align\":\"left\"},\"paper_bgcolor\":\"rgb(17,17,17)\",\"plot_bgcolor\":\"rgb(17,17,17)\",\"polar\":{\"bgcolor\":\"rgb(17,17,17)\",\"angularaxis\":{\"gridcolor\":\"#506784\",\"linecolor\":\"#506784\",\"ticks\":\"\"},\"radialaxis\":{\"gridcolor\":\"#506784\",\"linecolor\":\"#506784\",\"ticks\":\"\"}},\"ternary\":{\"bgcolor\":\"rgb(17,17,17)\",\"aaxis\":{\"gridcolor\":\"#506784\",\"linecolor\":\"#506784\",\"ticks\":\"\"},\"baxis\":{\"gridcolor\":\"#506784\",\"linecolor\":\"#506784\",\"ticks\":\"\"},\"caxis\":{\"gridcolor\":\"#506784\",\"linecolor\":\"#506784\",\"ticks\":\"\"}},\"coloraxis\":{\"colorbar\":{\"outlinewidth\":0,\"ticks\":\"\"}},\"colorscale\":{\"sequential\":[[0.0,\"#0d0887\"],[0.1111111111111111,\"#46039f\"],[0.2222222222222222,\"#7201a8\"],[0.3333333333333333,\"#9c179e\"],[0.4444444444444444,\"#bd3786\"],[0.5555555555555556,\"#d8576b\"],[0.6666666666666666,\"#ed7953\"],[0.7777777777777778,\"#fb9f3a\"],[0.8888888888888888,\"#fdca26\"],[1.0,\"#f0f921\"]],\"sequentialminus\":[[0.0,\"#0d0887\"],[0.1111111111111111,\"#46039f\"],[0.2222222222222222,\"#7201a8\"],[0.3333333333333333,\"#9c179e\"],[0.4444444444444444,\"#bd3786\"],[0.5555555555555556,\"#d8576b\"],[0.6666666666666666,\"#ed7953\"],[0.7777777777777778,\"#fb9f3a\"],[0.8888888888888888,\"#fdca26\"],[1.0,\"#f0f921\"]],\"diverging\":[[0,\"#8e0152\"],[0.1,\"#c51b7d\"],[0.2,\"#de77ae\"],[0.3,\"#f1b6da\"],[0.4,\"#fde0ef\"],[0.5,\"#f7f7f7\"],[0.6,\"#e6f5d0\"],[0.7,\"#b8e186\"],[0.8,\"#7fbc41\"],[0.9,\"#4d9221\"],[1,\"#276419\"]]},\"xaxis\":{\"gridcolor\":\"#283442\",\"linecolor\":\"#506784\",\"ticks\":\"\",\"title\":{\"standoff\":15},\"zerolinecolor\":\"#283442\",\"automargin\":true,\"zerolinewidth\":2},\"yaxis\":{\"gridcolor\":\"#283442\",\"linecolor\":\"#506784\",\"ticks\":\"\",\"title\":{\"standoff\":15},\"zerolinecolor\":\"#283442\",\"automargin\":true,\"zerolinewidth\":2},\"scene\":{\"xaxis\":{\"backgroundcolor\":\"rgb(17,17,17)\",\"gridcolor\":\"#506784\",\"linecolor\":\"#506784\",\"showbackground\":true,\"ticks\":\"\",\"zerolinecolor\":\"#C8D4E3\",\"gridwidth\":2},\"yaxis\":{\"backgroundcolor\":\"rgb(17,17,17)\",\"gridcolor\":\"#506784\",\"linecolor\":\"#506784\",\"showbackground\":true,\"ticks\":\"\",\"zerolinecolor\":\"#C8D4E3\",\"gridwidth\":2},\"zaxis\":{\"backgroundcolor\":\"rgb(17,17,17)\",\"gridcolor\":\"#506784\",\"linecolor\":\"#506784\",\"showbackground\":true,\"ticks\":\"\",\"zerolinecolor\":\"#C8D4E3\",\"gridwidth\":2}},\"shapedefaults\":{\"line\":{\"color\":\"#f2f5fa\"}},\"annotationdefaults\":{\"arrowcolor\":\"#f2f5fa\",\"arrowhead\":0,\"arrowwidth\":1},\"geo\":{\"bgcolor\":\"rgb(17,17,17)\",\"landcolor\":\"rgb(17,17,17)\",\"subunitcolor\":\"#506784\",\"showland\":true,\"showlakes\":true,\"lakecolor\":\"rgb(17,17,17)\"},\"title\":{\"x\":0.05},\"updatemenudefaults\":{\"bgcolor\":\"#506784\",\"borderwidth\":0},\"sliderdefaults\":{\"bgcolor\":\"#C8D4E3\",\"borderwidth\":1,\"bordercolor\":\"rgb(17,17,17)\",\"tickwidth\":0},\"mapbox\":{\"style\":\"dark\"}}},\"xaxis\":{\"anchor\":\"y\",\"domain\":[0.0,1.0],\"title\":{\"text\":\"Iteration\"}},\"yaxis\":{\"anchor\":\"x\",\"domain\":[0.0,1.0],\"title\":{\"text\":\"Value\"}},\"legend\":{\"title\":{\"text\":\"Name\"},\"tracegroupgap\":0},\"margin\":{\"t\":60}},                        {\"responsive\": true}                    ).then(function(){\n                            \nvar gd = document.getElementById('7453a469-130b-4f9a-9cc6-86bcf65ce25c');\nvar x = new MutationObserver(function (mutations, observer) {{\n        var display = window.getComputedStyle(gd).display;\n        if (!display || display === 'none') {{\n            console.log([gd, 'removed!']);\n            Plotly.purge(gd);\n            observer.disconnect();\n        }}\n}});\n\n// Listen for the removal of the full notebook cells\nvar notebookContainer = gd.closest('#notebook-container');\nif (notebookContainer) {{\n    x.observe(notebookContainer, {childList: true});\n}}\n\n// Listen for the clearing of the current output cell\nvar outputEl = gd.closest('.output');\nif (outputEl) {{\n    x.observe(outputEl, {childList: true});\n}}\n\n                        })                };                });            </script>        </div>"
     },
     "metadata": {},
     "output_type": "display_data"
    }
   ],
   "source": [
    "px.line(model_small.trainingData, x='Iteration', y='Value', color='Name')"
   ],
   "metadata": {
    "collapsed": false,
    "ExecuteTime": {
     "start_time": "2023-08-22T00:57:49.311491Z",
     "end_time": "2023-08-22T00:57:49.316004Z"
    }
   }
  },
  {
   "cell_type": "code",
   "execution_count": 15,
   "outputs": [
    {
     "name": "stdout",
     "output_type": "stream",
     "text": [
      "0000012321 is 0.9893987788501528\n",
      "0000124521 is 0.0006483604005645902\n",
      "0000000101 is 0.9997238583796199\n",
      "0000000111 is 0.9992393073075545\n",
      "0000124421 is 0.8946809913613158\n",
      "0087567865 is 1.214623255468863e-10\n",
      "0000008787 is 5.651715697593757e-06\n",
      "0000078492 is 4.324174597919076e-10\n",
      "0000000857 is 0.0016221927456579798\n",
      "0000008374 is 5.094397339301035e-06\n",
      "0000000834 is 0.0069143051253774575\n",
      "0000000100 is 1.3478796422934242e-08\n",
      "0000000010 is 3.969659335571694e-05\n",
      "0000000001 is 0.9999825450335169\n",
      "0000000000 is 0.9999999984895358\n",
      "0000898989 is 1.8985454591848867e-08\n",
      "0000087877 is 0.0001382617492533818\n",
      "0000003454 is 8.858117175261641e-05\n",
      "0000003432 is 7.121530275932771e-05\n",
      "0000003430 is 0.0003442869484233553\n",
      "0000008345 is 1.639907423773536e-06\n"
     ]
    }
   ],
   "source": [
    "inp = input()\n",
    "while inp != 'stop':\n",
    "    if len(inp) < 10:\n",
    "        inp = \"0\" * (10 - len(inp)) + inp\n",
    "    print(inp + ' is ' + str(model_small.predict(np.array([[int(i)] for i in inp])).item()))\n",
    "    inp = input()"
   ],
   "metadata": {
    "collapsed": false,
    "ExecuteTime": {
     "start_time": "2023-08-19T20:47:43.405922Z",
     "end_time": "2023-08-19T20:48:47.475318Z"
    }
   }
  },
  {
   "cell_type": "code",
   "execution_count": 10,
   "outputs": [
    {
     "data": {
      "text/plain": "array([[9.96504117e-01, 9.99999998e-01, 2.17117070e-08, ...,\n        2.31224128e-04, 1.69326022e-08, 9.99970970e-01]])"
     },
     "execution_count": 10,
     "metadata": {},
     "output_type": "execute_result"
    }
   ],
   "source": [
    "model0.predict(x)"
   ],
   "metadata": {
    "collapsed": false,
    "ExecuteTime": {
     "start_time": "2023-08-19T20:43:54.170515Z",
     "end_time": "2023-08-19T20:43:54.568633Z"
    }
   }
  },
  {
   "cell_type": "code",
   "execution_count": null,
   "outputs": [],
   "source": [],
   "metadata": {
    "collapsed": false
   }
  }
 ],
 "metadata": {
  "kernelspec": {
   "display_name": "Python 3",
   "language": "python",
   "name": "python3"
  },
  "language_info": {
   "codemirror_mode": {
    "name": "ipython",
    "version": 2
   },
   "file_extension": ".py",
   "mimetype": "text/x-python",
   "name": "python",
   "nbconvert_exporter": "python",
   "pygments_lexer": "ipython2",
   "version": "2.7.6"
  }
 },
 "nbformat": 4,
 "nbformat_minor": 0
}
