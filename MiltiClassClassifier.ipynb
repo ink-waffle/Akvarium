{
 "cells": [
  {
   "cell_type": "code",
   "execution_count": 1,
   "metadata": {
    "collapsed": true,
    "ExecuteTime": {
     "start_time": "2023-08-21T13:17:57.931849Z",
     "end_time": "2023-08-21T13:18:00.007367Z"
    }
   },
   "outputs": [],
   "source": [
    "import numpy as np\n",
    "import math\n",
    "import random\n",
    "import pandas as pd\n",
    "import plotly.express as px\n",
    "import multiprocessing\n",
    "from sklearn.model_selection import train_test_split\n",
    "\n",
    "np.set_printoptions(threshold=np.inf)\n",
    "\n",
    "\n",
    "def sigmoid(z: np.array):\n",
    "    return 1 / (1 + np.exp(-np.clip(z, -100, 100)))\n",
    "\n",
    "\n",
    "def tanh(z: np.array):\n",
    "    z = np.clip(z, -100, 100)\n",
    "    expZ = np.exp(z)\n",
    "    expZ_minus = np.exp(-z)\n",
    "    return (expZ - expZ_minus) / (expZ + expZ_minus)\n",
    "\n",
    "\n",
    "\n",
    "def reLU(z: np.array):\n",
    "    return np.maximum(0.0, z)\n",
    "\n",
    "\n",
    "def leakyReLU(z: np.array):\n",
    "    return np.maximum(0.01 * z, z)\n",
    "\n",
    "def softMax(z: np.array):\n",
    "    z = np.clip(z, -100, 100)\n",
    "    t = np.exp(z)\n",
    "    return t / np.sum(t, axis=0, keepdims=True)"
   ]
  },
  {
   "cell_type": "code",
   "execution_count": 14,
   "outputs": [],
   "source": [
    "class Model:\n",
    "    class Layer:\n",
    "        def __init__(self, layerHeight, prevLayer, nextLayer, activationFunc=\"tanh\"):\n",
    "            self.layerHeight = layerHeight\n",
    "            self.w = np.random.randn(layerHeight, prevLayer.layerHeight) * np.sqrt(1 / prevLayer.layerHeight)\n",
    "            self.b = np.zeros((layerHeight, 1))\n",
    "            self.v_dw = np.zeros((layerHeight, prevLayer.layerHeight))\n",
    "            self.v_db = np.zeros((layerHeight, 1))\n",
    "            self.s_dw = np.zeros((layerHeight, prevLayer.layerHeight))\n",
    "            self.s_db = np.zeros((layerHeight, 1))\n",
    "            self.t = 1\n",
    "            self.a, self.z = None, None\n",
    "            self.d = 1\n",
    "\n",
    "            # self.dy_dz = lambda nextL, dz_Next, a, z: (nextL.w.T @ dz_Next)\n",
    "            if activationFunc == \"sigmoid\":\n",
    "                self.activation = sigmoid\n",
    "                # self.da_dz = lambda a, z: np.multiply(a, (1 - a))\n",
    "                self.dy_dz = lambda nextL, dz_Next, a, z: (nextL.w.T @ dz_Next) * (a - np.square(a))\n",
    "            elif activationFunc == \"tanh\":\n",
    "                self.activation = np.tanh\n",
    "                # self.da_dz = lambda a, z: (1 - np.square(a))\n",
    "                self.dy_dz = lambda nextL, dz_Next, a, z: (nextL.w.T @ dz_Next) * (1 - np.square(a))\n",
    "            elif activationFunc == \"relu\":\n",
    "                self.activation = reLU\n",
    "                # self.da_dz = lambda a, z: np.where(z > 0, 1, 0)\n",
    "                self.dy_dz = lambda nextL, dz_Next, a, z: (nextL.w.T @ dz_Next) * (np.where(z > 0, 1, 0))\n",
    "            elif activationFunc == \"leaky_relu\":\n",
    "                self.activation = leakyReLU\n",
    "                # self.da_dz = lambda a, z: np.where(z > 0, 1, 0.01)\n",
    "                self.dy_dz = lambda nextL, dz_Next, a, z: (nextL.w.T @ dz_Next) * (np.where(z > 0, 1, 0.01))\n",
    "            elif activationFunc == \"softmax\":\n",
    "                self.activation = softMax\n",
    "                # self.da_dz = lambda a, z: a - np.square(a)\n",
    "                self.dy_dz = lambda nextL, dz_Next, a, z: ValueError(\"softmax shouldn't be used for hidden layers\")\n",
    "            self.prevLayer = prevLayer if prevLayer else None\n",
    "            self.nextLayer = nextLayer if nextLayer else None\n",
    "\n",
    "        def predict(self, a_Prev: np.array, keepActiveProb: float):\n",
    "            self.d = np.random.random((self.layerHeight, a_Prev.shape[1])) < keepActiveProb\n",
    "            self.z = (self.w @ a_Prev) + self.b\n",
    "            self.a = self.activation(self.z) * self.d\n",
    "            self.a /= keepActiveProb\n",
    "            # self.a = self.activation((self.w @ a_Prev) + self.b)\n",
    "            return self.nextLayer.predict(self.a, keepActiveProb)\n",
    "\n",
    "        def propagate(self, dz_Next: np.array, trainingStep: float, l2_lambda=0):\n",
    "            # da = self.dy_da(self.a, dz_Next, self.nextLayer) * self.d\n",
    "            # dz = self.da_dz(self.a, self.z) @ da\n",
    "            dz = self.dy_dz(self.nextLayer, dz_Next, self.a, self.z) * self.d\n",
    "            dw = ((dz @ self.prevLayer.a.T) / dz.shape[1]) + ((l2_lambda / dz.shape[1]) * self.w)\n",
    "            db = np.mean(dz, axis=1, keepdims=True)\n",
    "\n",
    "            beta1 = 0.9\n",
    "            beta2 = 0.999\n",
    "            self.v_dw = (beta1 * self.v_dw) + ((1 - beta1) * dw)\n",
    "            self.v_db = (beta1 * self.v_db) + ((1 - beta1) * db)\n",
    "            self.s_dw = (beta2 * self.s_dw) + ((1 - beta2) * np.square(dw))\n",
    "            self.s_db = (beta2 * self.s_db) + ((1 - beta2) * np.square(db))\n",
    "            v_dw_cor = self.v_dw / (1 - (beta1 ** self.t))\n",
    "            v_db_cor = self.v_db / (1 - (beta1 ** self.t))\n",
    "            s_dw_cor = self.s_dw / (1 - (beta2 ** self.t))\n",
    "            s_db_cor = self.s_db / (1 - (beta2 ** self.t))\n",
    "\n",
    "            self.prevLayer.propagate(dz, trainingStep, l2_lambda)\n",
    "            self.w -= trainingStep * (v_dw_cor / (np.sqrt(s_dw_cor) + (10 ** -8)))\n",
    "            self.b -= trainingStep * (v_db_cor / (np.sqrt(s_db_cor) + (10 ** -8)))\n",
    "            self.t += 1\n",
    "\n",
    "    class Head(Layer):\n",
    "        def __init__(self, layerHeight, prevLayer, nextLayer, activationFunc=\"sigmoid-logistic\"):\n",
    "            super().__init__(layerHeight, prevLayer, nextLayer)\n",
    "            if activationFunc == \"sigmoid-logistic\":\n",
    "                self.activation = sigmoid\n",
    "                self.dy_dz = lambda nextL, y, a, z: a - y\n",
    "                self.error = lambda y_hat, y: np.sum(-np.mean(\n",
    "                    (y * np.log(np.clip(y_hat, 0.001, 1))) + (\n",
    "                            (1 - y) * np.log(np.clip(1 - y_hat, 0.001, 1))), axis=1, keepdims=True))\n",
    "            elif activationFunc == \"sigmoid-r2\":\n",
    "                self.activation = sigmoid\n",
    "                self.dy_dz = lambda nextL, y, a, z: 2 * (a - y) * (a - np.square(a))\n",
    "                self.error = lambda y_hat, y: np.mean(np.square(y - y_hat))\n",
    "            elif activationFunc == \"relu-r2\":\n",
    "                self.activation = reLU\n",
    "                self.dy_dz = lambda nextL, y, a, z: 2 * (a - y) * (np.where(z > 0, 1, 0))\n",
    "                self.error = lambda y_hat, y: np.mean(np.square(y - y_hat))\n",
    "            elif activationFunc == \"softmax-logistic\":\n",
    "                self.activation = softMax\n",
    "                self.dy_dz = lambda nextL, y, a, z: a - y\n",
    "                self.error = lambda y_hat, y: np.sum(-np.mean(\n",
    "                    y * np.log(np.clip(y_hat, 0.001, 1)), axis=1, keepdims=True))\n",
    "\n",
    "        def predict(self, a_Prev: np.array, keepActiveProb: float):\n",
    "            self.z = (self.w @ a_Prev) + self.b\n",
    "            self.a = self.activation(self.z)\n",
    "            return self.a\n",
    "\n",
    "    class Input(Layer):\n",
    "        def __init__(self, layerHeight, nextLayer):\n",
    "            self.layerHeight = layerHeight\n",
    "            self.a = None\n",
    "            self.w = np.identity(self.layerHeight)\n",
    "            self.b = np.zeros((layerHeight, 1))\n",
    "            self.nextLayer = nextLayer if nextLayer else None\n",
    "\n",
    "        def predict(self, a_Prev: np.array, keepActiveProb: float):\n",
    "            self.a = (self.w @ a_Prev) + self.b\n",
    "            return self.nextLayer.predict(self.a, keepActiveProb)\n",
    "\n",
    "        def propagate(self, realY, trainingStep, l2_lambda=0):\n",
    "            return\n",
    "\n",
    "    def __init__(self, xSize, ySize, layers, activationFunc=\"tanh\", headActivation=\"sigmoid-logistic\"):\n",
    "        \"\"\"\n",
    "        activationFunc = \"sigmoid\" | \"tanh\" | \"relu\" | \"leaky_relu\" | \"softmax\" \\n\n",
    "        headActivation = \"sigmoid-logistic\" | \"sigmoid-r2\" | \"relu-r2\" | \"softmax-logistic\"\n",
    "        \"\"\"\n",
    "        self.head = None\n",
    "\n",
    "        def createLayer(prevLayer, depth):\n",
    "            if depth >= len(layers):\n",
    "                layer = self.Head(ySize, prevLayer, None, activationFunc=headActivation)\n",
    "                self.head = layer\n",
    "                return layer\n",
    "            else:\n",
    "                layer = self.Layer(layers[depth], prevLayer, None, activationFunc=activationFunc)\n",
    "                layer.nextLayer = createLayer(layer, depth + 1)\n",
    "                return layer\n",
    "\n",
    "        self.input = self.Input(xSize, None)\n",
    "        self.input.nextLayer = createLayer(self.input, 0)\n",
    "        self.trainingData = pd.DataFrame([], columns=['Name', 'Iteration', 'Value'])\n",
    "\n",
    "    def predict(self, a: np.array, keepActiveProb=1.0):\n",
    "        return self.input.predict(a, keepActiveProb)\n",
    "\n",
    "    def train(self, X: np.array, Y: np.array, trainingStep, trainingIterations,\n",
    "              debugStep=100, x_dev=None, y_dev=None, epochSize=1024, keepActiveProb=1.0, l2_reg_lambda=0):\n",
    "        \"\"\"\n",
    "        epochSize ~ 128 | 256 | 512 \\n\n",
    "        keepActiveProb ~ ratio of active neurons {>0.8} \\n\n",
    "        l2_reg_lambda ~ weight decay coefficient {<2.0} \\n\n",
    "        \"\"\"\n",
    "        trainSetMean = np.mean(X, axis=1, keepdims=True)\n",
    "        trainSetR2 = np.mean(np.square(X - trainSetMean), axis=1, keepdims=True)\n",
    "        self.input.w = self.input.w / np.sqrt(trainSetR2)\n",
    "        self.input.b = -trainSetMean / np.sqrt(trainSetR2)\n",
    "        epochs = X.shape[1] // epochSize\n",
    "        display('epochs Amount: ' + str(epochs))\n",
    "        for tr_i in range(trainingIterations):\n",
    "            perm_indices = np.random.permutation(X.shape[1])\n",
    "            x = X[:, perm_indices]\n",
    "            y = Y[:, perm_indices]\n",
    "            for e in range(epochs):\n",
    "                self.predict(x[:, epochSize * e: epochSize * (e + 1)], keepActiveProb)\n",
    "                self.head.propagate(y[:, epochSize * e: epochSize * (e + 1)], trainingStep, l2_reg_lambda)\n",
    "            if x_dev is not None and tr_i % debugStep == 0:\n",
    "                self.predict(x_dev)\n",
    "                self.trainingData.loc[len(self.trainingData)] = (\n",
    "                    'ErrorDev', tr_i // debugStep, self.head.error(self.head.a, y_dev))\n",
    "                self.trainingData.loc[len(self.trainingData)] = (\n",
    "                    'PrecisionDev', tr_i // debugStep, np.mean((y_dev == (self.head.a > 0.5)).astype(int)))\n",
    "            if tr_i % debugStep == 0:\n",
    "                self.predict(x)\n",
    "                self.trainingData.loc[len(self.trainingData)] = (\n",
    "                    'Error', tr_i // debugStep, self.head.error(self.head.a, y))\n",
    "                self.trainingData.loc[len(self.trainingData)] = (\n",
    "                    'Precision', tr_i // debugStep, np.mean((y == (self.head.a > 0.5)).astype(int)))\n"
   ],
   "metadata": {
    "collapsed": false,
    "ExecuteTime": {
     "start_time": "2023-08-21T14:49:46.850309Z",
     "end_time": "2023-08-21T14:49:46.926500Z"
    }
   }
  },
  {
   "cell_type": "code",
   "execution_count": 3,
   "outputs": [
    {
     "data": {
      "text/plain": "array([[6.8, 6.9, 5. , 5.8, 6.7, 5.6, 5.6, 6.3, 4.9, 6.7, 7.6, 7.2, 5. ,\n        5.9, 6. , 5.6, 6.9, 5.4, 4.4, 6.1, 6.3, 5.2, 6.2, 4.9, 4.4, 6.3,\n        6.1, 5.7, 4.5, 6.4, 6.7, 5.1, 6.1, 5.8, 4.8, 6.4, 5.7, 5.6, 5.2,\n        4.6, 5.5, 7.3, 4.8, 5.9, 4.7, 4.9, 6.5, 5. , 5.7, 6.7, 5.1, 7.1,\n        5.3, 5.2, 5.9, 6.7, 4.9, 5. , 6.9, 6.4, 6.9, 5.4, 7.4, 5.5, 6. ,\n        6.3, 5.5, 7.9, 5.5, 5.1, 5.6, 4.7, 6.3, 6.4, 5.1, 5.4, 5. , 4.8,\n        5.5, 7.2, 4.4, 6.3, 5.8, 4.6, 6.5, 5.4, 5.4, 7.7, 5.1, 7.7, 5.7,\n        6.3, 6.8, 6. , 5. , 4.6, 6.7, 6.1, 6.4, 6. , 4.3, 6.2, 5.6, 5. ,\n        5.5, 6.8, 6.1, 5.7, 4.6, 6.2, 5. , 5. , 4.9, 5.8, 5.7, 6.7, 6.3,\n        6.6, 6.3, 5.7],\n       [3. , 3.2, 3.4, 2.7, 3. , 2.7, 3. , 2.7, 2.4, 3.3, 3. , 3.6, 2.3,\n        3. , 3.4, 2.8, 3.1, 3.9, 2.9, 2.8, 2.3, 3.5, 3.4, 3.1, 3.2, 3.3,\n        3. , 2.8, 2.3, 2.8, 3.1, 3.3, 2.9, 2.7, 3. , 3.1, 2.8, 2.5, 3.4,\n        3.6, 2.5, 2.9, 3.4, 3.2, 3.2, 3.1, 3. , 3. , 2.5, 3.3, 3.8, 3. ,\n        3.7, 4.1, 3. , 3.1, 3.1, 3.5, 3.1, 2.9, 3.1, 3. , 2.8, 3.5, 2.9,\n        2.8, 2.4, 3.8, 2.3, 3.7, 2.9, 3.2, 2.5, 2.7, 2.5, 3.4, 3.2, 3. ,\n        2.6, 3.2, 3. , 2.5, 2.7, 3.2, 3.2, 3.7, 3.4, 3.8, 3.8, 3. , 4.4,\n        2.9, 3.2, 2.2, 3.4, 3.4, 3.1, 2.6, 2.8, 3. , 3. , 2.2, 3. , 3.6,\n        2.4, 2.8, 3. , 3.8, 3.1, 2.9, 2. , 3.5, 2.5, 2.6, 2.6, 3. , 3.3,\n        3. , 3.4, 2.9],\n       [5.5, 5.7, 1.6, 3.9, 5. , 4.2, 4.5, 4.9, 3.3, 5.7, 6.6, 6.1, 3.3,\n        4.2, 4.5, 4.9, 5.4, 1.7, 1.4, 4. , 4.4, 1.5, 5.4, 1.5, 1.3, 6. ,\n        4.6, 4.1, 1.3, 5.6, 5.6, 1.7, 4.7, 5.1, 1.4, 5.5, 4.5, 3.9, 1.4,\n        1. , 4. , 6.3, 1.6, 4.8, 1.6, 1.5, 5.2, 1.6, 5. , 5.7, 1.5, 5.9,\n        1.5, 1.5, 5.1, 4.7, 1.5, 1.3, 4.9, 4.3, 5.1, 4.5, 6.1, 1.3, 4.5,\n        5.1, 3.8, 6.4, 4. , 1.5, 3.6, 1.3, 5. , 5.3, 3. , 1.7, 1.2, 1.4,\n        4.4, 6. , 1.3, 4.9, 4.1, 1.4, 5.1, 1.5, 1.5, 6.7, 1.9, 6.1, 1.5,\n        5.6, 5.9, 5. , 1.5, 1.4, 4.4, 5.6, 5.6, 4.8, 1.1, 4.5, 4.1, 1.4,\n        3.7, 4.8, 4.9, 1.7, 1.5, 4.3, 3.5, 1.6, 4.5, 4. , 3.5, 5.2, 4.7,\n        4.4, 5.6, 4.2],\n       [2.1, 2.3, 0.4, 1.2, 1.7, 1.3, 1.5, 1.8, 1. , 2.5, 2.1, 2.5, 1. ,\n        1.5, 1.6, 2. , 2.1, 0.4, 0.2, 1.3, 1.3, 0.2, 2.3, 0.1, 0.2, 2.5,\n        1.4, 1.3, 0.3, 2.2, 2.4, 0.5, 1.4, 1.9, 0.3, 1.8, 1.3, 1.1, 0.2,\n        0.2, 1.3, 1.8, 0.2, 1.8, 0.2, 0.1, 2. , 0.2, 2. , 2.1, 0.3, 2.1,\n        0.2, 0.1, 1.8, 1.5, 0.1, 0.3, 1.5, 1.3, 2.3, 1.5, 1.9, 0.2, 1.5,\n        1.5, 1.1, 2. , 1.3, 0.4, 1.3, 0.2, 1.9, 1.9, 1.1, 0.2, 0.2, 0.1,\n        1.2, 1.8, 0.2, 1.5, 1. , 0.2, 2. , 0.2, 0.4, 2.2, 0.4, 2.3, 0.4,\n        1.8, 2.3, 1.5, 0.2, 0.3, 1.4, 1.4, 2.1, 1.8, 0.1, 1.5, 1.3, 0.2,\n        1. , 1.4, 1.8, 0.3, 0.2, 1.3, 1. , 0.6, 1.7, 1.2, 1. , 2.3, 1.6,\n        1.4, 2.4, 1.3]])"
     },
     "metadata": {},
     "output_type": "display_data"
    },
    {
     "data": {
      "text/plain": "array([[0, 0, 1, 0, 0, 0, 0, 0, 0, 0, 0, 0, 0, 0, 0, 0, 0, 1, 1, 0, 0, 1,\n        0, 1, 1, 0, 0, 0, 1, 0, 0, 1, 0, 0, 1, 0, 0, 0, 1, 1, 0, 0, 1, 0,\n        1, 1, 0, 1, 0, 0, 1, 0, 1, 1, 0, 0, 1, 1, 0, 0, 0, 0, 0, 1, 0, 0,\n        0, 0, 0, 1, 0, 1, 0, 0, 0, 1, 1, 1, 0, 0, 1, 0, 0, 1, 0, 1, 1, 0,\n        1, 0, 1, 0, 0, 0, 1, 1, 0, 0, 0, 0, 1, 0, 0, 1, 0, 0, 0, 1, 1, 0,\n        0, 1, 0, 0, 0, 0, 0, 0, 0, 0],\n       [0, 0, 0, 1, 1, 1, 1, 0, 1, 0, 0, 0, 1, 1, 1, 0, 0, 0, 0, 1, 1, 0,\n        0, 0, 0, 0, 1, 1, 0, 0, 0, 0, 1, 0, 0, 0, 1, 1, 0, 0, 1, 0, 0, 1,\n        0, 0, 0, 0, 0, 0, 0, 0, 0, 0, 0, 1, 0, 0, 1, 1, 0, 1, 0, 0, 1, 0,\n        1, 0, 1, 0, 1, 0, 0, 0, 1, 0, 0, 0, 1, 0, 0, 1, 1, 0, 0, 0, 0, 0,\n        0, 0, 0, 0, 0, 0, 0, 0, 1, 0, 0, 0, 0, 1, 1, 0, 1, 1, 0, 0, 0, 1,\n        1, 0, 0, 1, 1, 0, 1, 1, 0, 1],\n       [1, 1, 0, 0, 0, 0, 0, 1, 0, 1, 1, 1, 0, 0, 0, 1, 1, 0, 0, 0, 0, 0,\n        1, 0, 0, 1, 0, 0, 0, 1, 1, 0, 0, 1, 0, 1, 0, 0, 0, 0, 0, 1, 0, 0,\n        0, 0, 1, 0, 1, 1, 0, 1, 0, 0, 1, 0, 0, 0, 0, 0, 1, 0, 1, 0, 0, 1,\n        0, 1, 0, 0, 0, 0, 1, 1, 0, 0, 0, 0, 0, 1, 0, 0, 0, 0, 1, 0, 0, 1,\n        0, 1, 0, 1, 1, 1, 0, 0, 0, 1, 1, 1, 0, 0, 0, 0, 0, 0, 1, 0, 0, 0,\n        0, 0, 1, 0, 0, 1, 0, 0, 1, 0]], dtype=uint8)"
     },
     "metadata": {},
     "output_type": "display_data"
    }
   ],
   "source": [
    "df = pd.read_csv('Datasets/Iris.csv')\n",
    "\n",
    "# Define your features (X) and target variable (y)\n",
    "X_df = df[['SepalLengthCm', 'SepalWidthCm', 'PetalLengthCm', 'PetalWidthCm']]\n",
    "y_df = pd.get_dummies(df['Species'])\n",
    "\n",
    "# Split the dataset into training and test sets\n",
    "x_train, x_dev, y_train, y_dev = train_test_split(X_df, y_df, test_size=0.2)\n",
    "x_train = x_train.T.values\n",
    "y_train = y_train.T.values\n",
    "x_dev = x_dev.T.values\n",
    "y_dev = y_dev.T.values\n",
    "display(x_train)\n",
    "display(y_train)"
   ],
   "metadata": {
    "collapsed": false,
    "ExecuteTime": {
     "start_time": "2023-08-21T13:18:07.112632Z",
     "end_time": "2023-08-21T13:18:07.160783Z"
    }
   }
  },
  {
   "cell_type": "code",
   "execution_count": 19,
   "outputs": [
    {
     "data": {
      "text/plain": "'epochs Amount: 1'"
     },
     "metadata": {},
     "output_type": "display_data"
    }
   ],
   "source": [
    "np.random.seed(69)\n",
    "model = Model(4, 3, [25, 25, 25, 25], activationFunc=\"tanh\", headActivation=\"softmax-logistic\")\n",
    "model.train(x_train, y_train, 0.001, 1001, x_dev=x_dev, y_dev=y_dev, epochSize=120, debugStep=50, l2_reg_lambda=1)"
   ],
   "metadata": {
    "collapsed": false,
    "ExecuteTime": {
     "start_time": "2023-08-21T14:50:19.674527Z",
     "end_time": "2023-08-21T14:50:22.151203Z"
    }
   }
  },
  {
   "cell_type": "code",
   "execution_count": 20,
   "outputs": [
    {
     "data": {
      "application/vnd.plotly.v1+json": {
       "data": [
        {
         "hovertemplate": "Name=ErrorDev<br>Iteration=%{x}<br>Value=%{y}<extra></extra>",
         "legendgroup": "ErrorDev",
         "line": {
          "color": "#636efa",
          "dash": "solid"
         },
         "marker": {
          "symbol": "circle"
         },
         "mode": "lines",
         "name": "ErrorDev",
         "orientation": "v",
         "showlegend": true,
         "x": [
          0,
          1,
          2,
          3,
          4,
          5,
          6,
          7,
          8,
          9,
          10,
          11,
          12,
          13,
          14,
          15,
          16,
          17,
          18,
          19,
          20
         ],
         "xaxis": "x",
         "y": [
          0.9380736549977796,
          0.35243057094404984,
          0.18709381911670359,
          0.11468096198604566,
          0.10794630043948289,
          0.1093011448298695,
          0.11141656238060606,
          0.11338732087618744,
          0.11497761446121973,
          0.11611972691414628,
          0.11684427758650244,
          0.11723094932715834,
          0.11737355398271095,
          0.11735897450536349,
          0.11725727200984057,
          0.1171196369410711,
          0.11698064691900947,
          0.11686208693692862,
          0.11677675996410285,
          0.11673169256355034,
          0.11673068367663701
         ],
         "yaxis": "y",
         "type": "scatter"
        },
        {
         "hovertemplate": "Name=PrecisionDev<br>Iteration=%{x}<br>Value=%{y}<extra></extra>",
         "legendgroup": "PrecisionDev",
         "line": {
          "color": "#EF553B",
          "dash": "solid"
         },
         "marker": {
          "symbol": "circle"
         },
         "mode": "lines",
         "name": "PrecisionDev",
         "orientation": "v",
         "showlegend": true,
         "x": [
          0,
          1,
          2,
          3,
          4,
          5,
          6,
          7,
          8,
          9,
          10,
          11,
          12,
          13,
          14,
          15,
          16,
          17,
          18,
          19,
          20
         ],
         "xaxis": "x",
         "y": [
          0.6666666666666666,
          0.9,
          0.9777777777777777,
          0.9777777777777777,
          0.9777777777777777,
          0.9777777777777777,
          0.9777777777777777,
          0.9777777777777777,
          0.9777777777777777,
          0.9777777777777777,
          0.9777777777777777,
          0.9777777777777777,
          0.9777777777777777,
          0.9777777777777777,
          0.9777777777777777,
          0.9777777777777777,
          0.9777777777777777,
          0.9777777777777777,
          0.9777777777777777,
          0.9777777777777777,
          0.9777777777777777
         ],
         "yaxis": "y",
         "type": "scatter"
        },
        {
         "hovertemplate": "Name=Error<br>Iteration=%{x}<br>Value=%{y}<extra></extra>",
         "legendgroup": "Error",
         "line": {
          "color": "#00cc96",
          "dash": "solid"
         },
         "marker": {
          "symbol": "circle"
         },
         "mode": "lines",
         "name": "Error",
         "orientation": "v",
         "showlegend": true,
         "x": [
          0,
          1,
          2,
          3,
          4,
          5,
          6,
          7,
          8,
          9,
          10,
          11,
          12,
          13,
          14,
          15,
          16,
          17,
          18,
          19,
          20
         ],
         "xaxis": "x",
         "y": [
          0.9013270126453481,
          0.3566886968891322,
          0.19899431478235197,
          0.08786240645655768,
          0.05694392060805002,
          0.04631583336392029,
          0.04101164231679391,
          0.03781354329821808,
          0.03572342056305894,
          0.03430739803891905,
          0.03332889550757373,
          0.0326404999543625,
          0.03214454059903508,
          0.03177532557785413,
          0.031489156867687364,
          0.03125757847728981,
          0.031062371483882238,
          0.03089184003616092,
          0.03073819336516935,
          0.03059581016591923,
          0.03046013009610773
         ],
         "yaxis": "y",
         "type": "scatter"
        },
        {
         "hovertemplate": "Name=Precision<br>Iteration=%{x}<br>Value=%{y}<extra></extra>",
         "legendgroup": "Precision",
         "line": {
          "color": "#ab63fa",
          "dash": "solid"
         },
         "marker": {
          "symbol": "circle"
         },
         "mode": "lines",
         "name": "Precision",
         "orientation": "v",
         "showlegend": true,
         "x": [
          0,
          1,
          2,
          3,
          4,
          5,
          6,
          7,
          8,
          9,
          10,
          11,
          12,
          13,
          14,
          15,
          16,
          17,
          18,
          19,
          20
         ],
         "xaxis": "x",
         "y": [
          0.7,
          0.9055555555555556,
          0.9694444444444444,
          0.9888888888888889,
          0.9944444444444445,
          1.0,
          1.0,
          1.0,
          1.0,
          1.0,
          1.0,
          1.0,
          1.0,
          1.0,
          1.0,
          1.0,
          1.0,
          1.0,
          1.0,
          1.0,
          1.0
         ],
         "yaxis": "y",
         "type": "scatter"
        }
       ],
       "layout": {
        "template": {
         "data": {
          "histogram2dcontour": [
           {
            "type": "histogram2dcontour",
            "colorbar": {
             "outlinewidth": 0,
             "ticks": ""
            },
            "colorscale": [
             [
              0.0,
              "#0d0887"
             ],
             [
              0.1111111111111111,
              "#46039f"
             ],
             [
              0.2222222222222222,
              "#7201a8"
             ],
             [
              0.3333333333333333,
              "#9c179e"
             ],
             [
              0.4444444444444444,
              "#bd3786"
             ],
             [
              0.5555555555555556,
              "#d8576b"
             ],
             [
              0.6666666666666666,
              "#ed7953"
             ],
             [
              0.7777777777777778,
              "#fb9f3a"
             ],
             [
              0.8888888888888888,
              "#fdca26"
             ],
             [
              1.0,
              "#f0f921"
             ]
            ]
           }
          ],
          "choropleth": [
           {
            "type": "choropleth",
            "colorbar": {
             "outlinewidth": 0,
             "ticks": ""
            }
           }
          ],
          "histogram2d": [
           {
            "type": "histogram2d",
            "colorbar": {
             "outlinewidth": 0,
             "ticks": ""
            },
            "colorscale": [
             [
              0.0,
              "#0d0887"
             ],
             [
              0.1111111111111111,
              "#46039f"
             ],
             [
              0.2222222222222222,
              "#7201a8"
             ],
             [
              0.3333333333333333,
              "#9c179e"
             ],
             [
              0.4444444444444444,
              "#bd3786"
             ],
             [
              0.5555555555555556,
              "#d8576b"
             ],
             [
              0.6666666666666666,
              "#ed7953"
             ],
             [
              0.7777777777777778,
              "#fb9f3a"
             ],
             [
              0.8888888888888888,
              "#fdca26"
             ],
             [
              1.0,
              "#f0f921"
             ]
            ]
           }
          ],
          "heatmap": [
           {
            "type": "heatmap",
            "colorbar": {
             "outlinewidth": 0,
             "ticks": ""
            },
            "colorscale": [
             [
              0.0,
              "#0d0887"
             ],
             [
              0.1111111111111111,
              "#46039f"
             ],
             [
              0.2222222222222222,
              "#7201a8"
             ],
             [
              0.3333333333333333,
              "#9c179e"
             ],
             [
              0.4444444444444444,
              "#bd3786"
             ],
             [
              0.5555555555555556,
              "#d8576b"
             ],
             [
              0.6666666666666666,
              "#ed7953"
             ],
             [
              0.7777777777777778,
              "#fb9f3a"
             ],
             [
              0.8888888888888888,
              "#fdca26"
             ],
             [
              1.0,
              "#f0f921"
             ]
            ]
           }
          ],
          "heatmapgl": [
           {
            "type": "heatmapgl",
            "colorbar": {
             "outlinewidth": 0,
             "ticks": ""
            },
            "colorscale": [
             [
              0.0,
              "#0d0887"
             ],
             [
              0.1111111111111111,
              "#46039f"
             ],
             [
              0.2222222222222222,
              "#7201a8"
             ],
             [
              0.3333333333333333,
              "#9c179e"
             ],
             [
              0.4444444444444444,
              "#bd3786"
             ],
             [
              0.5555555555555556,
              "#d8576b"
             ],
             [
              0.6666666666666666,
              "#ed7953"
             ],
             [
              0.7777777777777778,
              "#fb9f3a"
             ],
             [
              0.8888888888888888,
              "#fdca26"
             ],
             [
              1.0,
              "#f0f921"
             ]
            ]
           }
          ],
          "contourcarpet": [
           {
            "type": "contourcarpet",
            "colorbar": {
             "outlinewidth": 0,
             "ticks": ""
            }
           }
          ],
          "contour": [
           {
            "type": "contour",
            "colorbar": {
             "outlinewidth": 0,
             "ticks": ""
            },
            "colorscale": [
             [
              0.0,
              "#0d0887"
             ],
             [
              0.1111111111111111,
              "#46039f"
             ],
             [
              0.2222222222222222,
              "#7201a8"
             ],
             [
              0.3333333333333333,
              "#9c179e"
             ],
             [
              0.4444444444444444,
              "#bd3786"
             ],
             [
              0.5555555555555556,
              "#d8576b"
             ],
             [
              0.6666666666666666,
              "#ed7953"
             ],
             [
              0.7777777777777778,
              "#fb9f3a"
             ],
             [
              0.8888888888888888,
              "#fdca26"
             ],
             [
              1.0,
              "#f0f921"
             ]
            ]
           }
          ],
          "surface": [
           {
            "type": "surface",
            "colorbar": {
             "outlinewidth": 0,
             "ticks": ""
            },
            "colorscale": [
             [
              0.0,
              "#0d0887"
             ],
             [
              0.1111111111111111,
              "#46039f"
             ],
             [
              0.2222222222222222,
              "#7201a8"
             ],
             [
              0.3333333333333333,
              "#9c179e"
             ],
             [
              0.4444444444444444,
              "#bd3786"
             ],
             [
              0.5555555555555556,
              "#d8576b"
             ],
             [
              0.6666666666666666,
              "#ed7953"
             ],
             [
              0.7777777777777778,
              "#fb9f3a"
             ],
             [
              0.8888888888888888,
              "#fdca26"
             ],
             [
              1.0,
              "#f0f921"
             ]
            ]
           }
          ],
          "mesh3d": [
           {
            "type": "mesh3d",
            "colorbar": {
             "outlinewidth": 0,
             "ticks": ""
            }
           }
          ],
          "scatter": [
           {
            "marker": {
             "line": {
              "color": "#283442"
             }
            },
            "type": "scatter"
           }
          ],
          "parcoords": [
           {
            "type": "parcoords",
            "line": {
             "colorbar": {
              "outlinewidth": 0,
              "ticks": ""
             }
            }
           }
          ],
          "scatterpolargl": [
           {
            "type": "scatterpolargl",
            "marker": {
             "colorbar": {
              "outlinewidth": 0,
              "ticks": ""
             }
            }
           }
          ],
          "bar": [
           {
            "error_x": {
             "color": "#f2f5fa"
            },
            "error_y": {
             "color": "#f2f5fa"
            },
            "marker": {
             "line": {
              "color": "rgb(17,17,17)",
              "width": 0.5
             },
             "pattern": {
              "fillmode": "overlay",
              "size": 10,
              "solidity": 0.2
             }
            },
            "type": "bar"
           }
          ],
          "scattergeo": [
           {
            "type": "scattergeo",
            "marker": {
             "colorbar": {
              "outlinewidth": 0,
              "ticks": ""
             }
            }
           }
          ],
          "scatterpolar": [
           {
            "type": "scatterpolar",
            "marker": {
             "colorbar": {
              "outlinewidth": 0,
              "ticks": ""
             }
            }
           }
          ],
          "histogram": [
           {
            "marker": {
             "pattern": {
              "fillmode": "overlay",
              "size": 10,
              "solidity": 0.2
             }
            },
            "type": "histogram"
           }
          ],
          "scattergl": [
           {
            "marker": {
             "line": {
              "color": "#283442"
             }
            },
            "type": "scattergl"
           }
          ],
          "scatter3d": [
           {
            "type": "scatter3d",
            "line": {
             "colorbar": {
              "outlinewidth": 0,
              "ticks": ""
             }
            },
            "marker": {
             "colorbar": {
              "outlinewidth": 0,
              "ticks": ""
             }
            }
           }
          ],
          "scattermapbox": [
           {
            "type": "scattermapbox",
            "marker": {
             "colorbar": {
              "outlinewidth": 0,
              "ticks": ""
             }
            }
           }
          ],
          "scatterternary": [
           {
            "type": "scatterternary",
            "marker": {
             "colorbar": {
              "outlinewidth": 0,
              "ticks": ""
             }
            }
           }
          ],
          "scattercarpet": [
           {
            "type": "scattercarpet",
            "marker": {
             "colorbar": {
              "outlinewidth": 0,
              "ticks": ""
             }
            }
           }
          ],
          "carpet": [
           {
            "aaxis": {
             "endlinecolor": "#A2B1C6",
             "gridcolor": "#506784",
             "linecolor": "#506784",
             "minorgridcolor": "#506784",
             "startlinecolor": "#A2B1C6"
            },
            "baxis": {
             "endlinecolor": "#A2B1C6",
             "gridcolor": "#506784",
             "linecolor": "#506784",
             "minorgridcolor": "#506784",
             "startlinecolor": "#A2B1C6"
            },
            "type": "carpet"
           }
          ],
          "table": [
           {
            "cells": {
             "fill": {
              "color": "#506784"
             },
             "line": {
              "color": "rgb(17,17,17)"
             }
            },
            "header": {
             "fill": {
              "color": "#2a3f5f"
             },
             "line": {
              "color": "rgb(17,17,17)"
             }
            },
            "type": "table"
           }
          ],
          "barpolar": [
           {
            "marker": {
             "line": {
              "color": "rgb(17,17,17)",
              "width": 0.5
             },
             "pattern": {
              "fillmode": "overlay",
              "size": 10,
              "solidity": 0.2
             }
            },
            "type": "barpolar"
           }
          ],
          "pie": [
           {
            "automargin": true,
            "type": "pie"
           }
          ]
         },
         "layout": {
          "autotypenumbers": "strict",
          "colorway": [
           "#636efa",
           "#EF553B",
           "#00cc96",
           "#ab63fa",
           "#FFA15A",
           "#19d3f3",
           "#FF6692",
           "#B6E880",
           "#FF97FF",
           "#FECB52"
          ],
          "font": {
           "color": "#f2f5fa"
          },
          "hovermode": "closest",
          "hoverlabel": {
           "align": "left"
          },
          "paper_bgcolor": "rgb(17,17,17)",
          "plot_bgcolor": "rgb(17,17,17)",
          "polar": {
           "bgcolor": "rgb(17,17,17)",
           "angularaxis": {
            "gridcolor": "#506784",
            "linecolor": "#506784",
            "ticks": ""
           },
           "radialaxis": {
            "gridcolor": "#506784",
            "linecolor": "#506784",
            "ticks": ""
           }
          },
          "ternary": {
           "bgcolor": "rgb(17,17,17)",
           "aaxis": {
            "gridcolor": "#506784",
            "linecolor": "#506784",
            "ticks": ""
           },
           "baxis": {
            "gridcolor": "#506784",
            "linecolor": "#506784",
            "ticks": ""
           },
           "caxis": {
            "gridcolor": "#506784",
            "linecolor": "#506784",
            "ticks": ""
           }
          },
          "coloraxis": {
           "colorbar": {
            "outlinewidth": 0,
            "ticks": ""
           }
          },
          "colorscale": {
           "sequential": [
            [
             0.0,
             "#0d0887"
            ],
            [
             0.1111111111111111,
             "#46039f"
            ],
            [
             0.2222222222222222,
             "#7201a8"
            ],
            [
             0.3333333333333333,
             "#9c179e"
            ],
            [
             0.4444444444444444,
             "#bd3786"
            ],
            [
             0.5555555555555556,
             "#d8576b"
            ],
            [
             0.6666666666666666,
             "#ed7953"
            ],
            [
             0.7777777777777778,
             "#fb9f3a"
            ],
            [
             0.8888888888888888,
             "#fdca26"
            ],
            [
             1.0,
             "#f0f921"
            ]
           ],
           "sequentialminus": [
            [
             0.0,
             "#0d0887"
            ],
            [
             0.1111111111111111,
             "#46039f"
            ],
            [
             0.2222222222222222,
             "#7201a8"
            ],
            [
             0.3333333333333333,
             "#9c179e"
            ],
            [
             0.4444444444444444,
             "#bd3786"
            ],
            [
             0.5555555555555556,
             "#d8576b"
            ],
            [
             0.6666666666666666,
             "#ed7953"
            ],
            [
             0.7777777777777778,
             "#fb9f3a"
            ],
            [
             0.8888888888888888,
             "#fdca26"
            ],
            [
             1.0,
             "#f0f921"
            ]
           ],
           "diverging": [
            [
             0,
             "#8e0152"
            ],
            [
             0.1,
             "#c51b7d"
            ],
            [
             0.2,
             "#de77ae"
            ],
            [
             0.3,
             "#f1b6da"
            ],
            [
             0.4,
             "#fde0ef"
            ],
            [
             0.5,
             "#f7f7f7"
            ],
            [
             0.6,
             "#e6f5d0"
            ],
            [
             0.7,
             "#b8e186"
            ],
            [
             0.8,
             "#7fbc41"
            ],
            [
             0.9,
             "#4d9221"
            ],
            [
             1,
             "#276419"
            ]
           ]
          },
          "xaxis": {
           "gridcolor": "#283442",
           "linecolor": "#506784",
           "ticks": "",
           "title": {
            "standoff": 15
           },
           "zerolinecolor": "#283442",
           "automargin": true,
           "zerolinewidth": 2
          },
          "yaxis": {
           "gridcolor": "#283442",
           "linecolor": "#506784",
           "ticks": "",
           "title": {
            "standoff": 15
           },
           "zerolinecolor": "#283442",
           "automargin": true,
           "zerolinewidth": 2
          },
          "scene": {
           "xaxis": {
            "backgroundcolor": "rgb(17,17,17)",
            "gridcolor": "#506784",
            "linecolor": "#506784",
            "showbackground": true,
            "ticks": "",
            "zerolinecolor": "#C8D4E3",
            "gridwidth": 2
           },
           "yaxis": {
            "backgroundcolor": "rgb(17,17,17)",
            "gridcolor": "#506784",
            "linecolor": "#506784",
            "showbackground": true,
            "ticks": "",
            "zerolinecolor": "#C8D4E3",
            "gridwidth": 2
           },
           "zaxis": {
            "backgroundcolor": "rgb(17,17,17)",
            "gridcolor": "#506784",
            "linecolor": "#506784",
            "showbackground": true,
            "ticks": "",
            "zerolinecolor": "#C8D4E3",
            "gridwidth": 2
           }
          },
          "shapedefaults": {
           "line": {
            "color": "#f2f5fa"
           }
          },
          "annotationdefaults": {
           "arrowcolor": "#f2f5fa",
           "arrowhead": 0,
           "arrowwidth": 1
          },
          "geo": {
           "bgcolor": "rgb(17,17,17)",
           "landcolor": "rgb(17,17,17)",
           "subunitcolor": "#506784",
           "showland": true,
           "showlakes": true,
           "lakecolor": "rgb(17,17,17)"
          },
          "title": {
           "x": 0.05
          },
          "updatemenudefaults": {
           "bgcolor": "#506784",
           "borderwidth": 0
          },
          "sliderdefaults": {
           "bgcolor": "#C8D4E3",
           "borderwidth": 1,
           "bordercolor": "rgb(17,17,17)",
           "tickwidth": 0
          },
          "mapbox": {
           "style": "dark"
          }
         }
        },
        "xaxis": {
         "anchor": "y",
         "domain": [
          0.0,
          1.0
         ],
         "title": {
          "text": "Iteration"
         }
        },
        "yaxis": {
         "anchor": "x",
         "domain": [
          0.0,
          1.0
         ],
         "title": {
          "text": "Value"
         }
        },
        "legend": {
         "title": {
          "text": "Name"
         },
         "tracegroupgap": 0
        },
        "margin": {
         "t": 60
        }
       },
       "config": {
        "plotlyServerURL": "https://plot.ly"
       }
      },
      "text/html": "<div>                            <div id=\"05692bbf-0bda-4bf6-8b4a-7ab10ffbf12e\" class=\"plotly-graph-div\" style=\"height:525px; width:100%;\"></div>            <script type=\"text/javascript\">                require([\"plotly\"], function(Plotly) {                    window.PLOTLYENV=window.PLOTLYENV || {};                                    if (document.getElementById(\"05692bbf-0bda-4bf6-8b4a-7ab10ffbf12e\")) {                    Plotly.newPlot(                        \"05692bbf-0bda-4bf6-8b4a-7ab10ffbf12e\",                        [{\"hovertemplate\":\"Name=ErrorDev<br>Iteration=%{x}<br>Value=%{y}<extra></extra>\",\"legendgroup\":\"ErrorDev\",\"line\":{\"color\":\"#636efa\",\"dash\":\"solid\"},\"marker\":{\"symbol\":\"circle\"},\"mode\":\"lines\",\"name\":\"ErrorDev\",\"orientation\":\"v\",\"showlegend\":true,\"x\":[0,1,2,3,4,5,6,7,8,9,10,11,12,13,14,15,16,17,18,19,20],\"xaxis\":\"x\",\"y\":[0.9380736549977796,0.35243057094404984,0.18709381911670359,0.11468096198604566,0.10794630043948289,0.1093011448298695,0.11141656238060606,0.11338732087618744,0.11497761446121973,0.11611972691414628,0.11684427758650244,0.11723094932715834,0.11737355398271095,0.11735897450536349,0.11725727200984057,0.1171196369410711,0.11698064691900947,0.11686208693692862,0.11677675996410285,0.11673169256355034,0.11673068367663701],\"yaxis\":\"y\",\"type\":\"scatter\"},{\"hovertemplate\":\"Name=PrecisionDev<br>Iteration=%{x}<br>Value=%{y}<extra></extra>\",\"legendgroup\":\"PrecisionDev\",\"line\":{\"color\":\"#EF553B\",\"dash\":\"solid\"},\"marker\":{\"symbol\":\"circle\"},\"mode\":\"lines\",\"name\":\"PrecisionDev\",\"orientation\":\"v\",\"showlegend\":true,\"x\":[0,1,2,3,4,5,6,7,8,9,10,11,12,13,14,15,16,17,18,19,20],\"xaxis\":\"x\",\"y\":[0.6666666666666666,0.9,0.9777777777777777,0.9777777777777777,0.9777777777777777,0.9777777777777777,0.9777777777777777,0.9777777777777777,0.9777777777777777,0.9777777777777777,0.9777777777777777,0.9777777777777777,0.9777777777777777,0.9777777777777777,0.9777777777777777,0.9777777777777777,0.9777777777777777,0.9777777777777777,0.9777777777777777,0.9777777777777777,0.9777777777777777],\"yaxis\":\"y\",\"type\":\"scatter\"},{\"hovertemplate\":\"Name=Error<br>Iteration=%{x}<br>Value=%{y}<extra></extra>\",\"legendgroup\":\"Error\",\"line\":{\"color\":\"#00cc96\",\"dash\":\"solid\"},\"marker\":{\"symbol\":\"circle\"},\"mode\":\"lines\",\"name\":\"Error\",\"orientation\":\"v\",\"showlegend\":true,\"x\":[0,1,2,3,4,5,6,7,8,9,10,11,12,13,14,15,16,17,18,19,20],\"xaxis\":\"x\",\"y\":[0.9013270126453481,0.3566886968891322,0.19899431478235197,0.08786240645655768,0.05694392060805002,0.04631583336392029,0.04101164231679391,0.03781354329821808,0.03572342056305894,0.03430739803891905,0.03332889550757373,0.0326404999543625,0.03214454059903508,0.03177532557785413,0.031489156867687364,0.03125757847728981,0.031062371483882238,0.03089184003616092,0.03073819336516935,0.03059581016591923,0.03046013009610773],\"yaxis\":\"y\",\"type\":\"scatter\"},{\"hovertemplate\":\"Name=Precision<br>Iteration=%{x}<br>Value=%{y}<extra></extra>\",\"legendgroup\":\"Precision\",\"line\":{\"color\":\"#ab63fa\",\"dash\":\"solid\"},\"marker\":{\"symbol\":\"circle\"},\"mode\":\"lines\",\"name\":\"Precision\",\"orientation\":\"v\",\"showlegend\":true,\"x\":[0,1,2,3,4,5,6,7,8,9,10,11,12,13,14,15,16,17,18,19,20],\"xaxis\":\"x\",\"y\":[0.7,0.9055555555555556,0.9694444444444444,0.9888888888888889,0.9944444444444445,1.0,1.0,1.0,1.0,1.0,1.0,1.0,1.0,1.0,1.0,1.0,1.0,1.0,1.0,1.0,1.0],\"yaxis\":\"y\",\"type\":\"scatter\"}],                        {\"template\":{\"data\":{\"histogram2dcontour\":[{\"type\":\"histogram2dcontour\",\"colorbar\":{\"outlinewidth\":0,\"ticks\":\"\"},\"colorscale\":[[0.0,\"#0d0887\"],[0.1111111111111111,\"#46039f\"],[0.2222222222222222,\"#7201a8\"],[0.3333333333333333,\"#9c179e\"],[0.4444444444444444,\"#bd3786\"],[0.5555555555555556,\"#d8576b\"],[0.6666666666666666,\"#ed7953\"],[0.7777777777777778,\"#fb9f3a\"],[0.8888888888888888,\"#fdca26\"],[1.0,\"#f0f921\"]]}],\"choropleth\":[{\"type\":\"choropleth\",\"colorbar\":{\"outlinewidth\":0,\"ticks\":\"\"}}],\"histogram2d\":[{\"type\":\"histogram2d\",\"colorbar\":{\"outlinewidth\":0,\"ticks\":\"\"},\"colorscale\":[[0.0,\"#0d0887\"],[0.1111111111111111,\"#46039f\"],[0.2222222222222222,\"#7201a8\"],[0.3333333333333333,\"#9c179e\"],[0.4444444444444444,\"#bd3786\"],[0.5555555555555556,\"#d8576b\"],[0.6666666666666666,\"#ed7953\"],[0.7777777777777778,\"#fb9f3a\"],[0.8888888888888888,\"#fdca26\"],[1.0,\"#f0f921\"]]}],\"heatmap\":[{\"type\":\"heatmap\",\"colorbar\":{\"outlinewidth\":0,\"ticks\":\"\"},\"colorscale\":[[0.0,\"#0d0887\"],[0.1111111111111111,\"#46039f\"],[0.2222222222222222,\"#7201a8\"],[0.3333333333333333,\"#9c179e\"],[0.4444444444444444,\"#bd3786\"],[0.5555555555555556,\"#d8576b\"],[0.6666666666666666,\"#ed7953\"],[0.7777777777777778,\"#fb9f3a\"],[0.8888888888888888,\"#fdca26\"],[1.0,\"#f0f921\"]]}],\"heatmapgl\":[{\"type\":\"heatmapgl\",\"colorbar\":{\"outlinewidth\":0,\"ticks\":\"\"},\"colorscale\":[[0.0,\"#0d0887\"],[0.1111111111111111,\"#46039f\"],[0.2222222222222222,\"#7201a8\"],[0.3333333333333333,\"#9c179e\"],[0.4444444444444444,\"#bd3786\"],[0.5555555555555556,\"#d8576b\"],[0.6666666666666666,\"#ed7953\"],[0.7777777777777778,\"#fb9f3a\"],[0.8888888888888888,\"#fdca26\"],[1.0,\"#f0f921\"]]}],\"contourcarpet\":[{\"type\":\"contourcarpet\",\"colorbar\":{\"outlinewidth\":0,\"ticks\":\"\"}}],\"contour\":[{\"type\":\"contour\",\"colorbar\":{\"outlinewidth\":0,\"ticks\":\"\"},\"colorscale\":[[0.0,\"#0d0887\"],[0.1111111111111111,\"#46039f\"],[0.2222222222222222,\"#7201a8\"],[0.3333333333333333,\"#9c179e\"],[0.4444444444444444,\"#bd3786\"],[0.5555555555555556,\"#d8576b\"],[0.6666666666666666,\"#ed7953\"],[0.7777777777777778,\"#fb9f3a\"],[0.8888888888888888,\"#fdca26\"],[1.0,\"#f0f921\"]]}],\"surface\":[{\"type\":\"surface\",\"colorbar\":{\"outlinewidth\":0,\"ticks\":\"\"},\"colorscale\":[[0.0,\"#0d0887\"],[0.1111111111111111,\"#46039f\"],[0.2222222222222222,\"#7201a8\"],[0.3333333333333333,\"#9c179e\"],[0.4444444444444444,\"#bd3786\"],[0.5555555555555556,\"#d8576b\"],[0.6666666666666666,\"#ed7953\"],[0.7777777777777778,\"#fb9f3a\"],[0.8888888888888888,\"#fdca26\"],[1.0,\"#f0f921\"]]}],\"mesh3d\":[{\"type\":\"mesh3d\",\"colorbar\":{\"outlinewidth\":0,\"ticks\":\"\"}}],\"scatter\":[{\"marker\":{\"line\":{\"color\":\"#283442\"}},\"type\":\"scatter\"}],\"parcoords\":[{\"type\":\"parcoords\",\"line\":{\"colorbar\":{\"outlinewidth\":0,\"ticks\":\"\"}}}],\"scatterpolargl\":[{\"type\":\"scatterpolargl\",\"marker\":{\"colorbar\":{\"outlinewidth\":0,\"ticks\":\"\"}}}],\"bar\":[{\"error_x\":{\"color\":\"#f2f5fa\"},\"error_y\":{\"color\":\"#f2f5fa\"},\"marker\":{\"line\":{\"color\":\"rgb(17,17,17)\",\"width\":0.5},\"pattern\":{\"fillmode\":\"overlay\",\"size\":10,\"solidity\":0.2}},\"type\":\"bar\"}],\"scattergeo\":[{\"type\":\"scattergeo\",\"marker\":{\"colorbar\":{\"outlinewidth\":0,\"ticks\":\"\"}}}],\"scatterpolar\":[{\"type\":\"scatterpolar\",\"marker\":{\"colorbar\":{\"outlinewidth\":0,\"ticks\":\"\"}}}],\"histogram\":[{\"marker\":{\"pattern\":{\"fillmode\":\"overlay\",\"size\":10,\"solidity\":0.2}},\"type\":\"histogram\"}],\"scattergl\":[{\"marker\":{\"line\":{\"color\":\"#283442\"}},\"type\":\"scattergl\"}],\"scatter3d\":[{\"type\":\"scatter3d\",\"line\":{\"colorbar\":{\"outlinewidth\":0,\"ticks\":\"\"}},\"marker\":{\"colorbar\":{\"outlinewidth\":0,\"ticks\":\"\"}}}],\"scattermapbox\":[{\"type\":\"scattermapbox\",\"marker\":{\"colorbar\":{\"outlinewidth\":0,\"ticks\":\"\"}}}],\"scatterternary\":[{\"type\":\"scatterternary\",\"marker\":{\"colorbar\":{\"outlinewidth\":0,\"ticks\":\"\"}}}],\"scattercarpet\":[{\"type\":\"scattercarpet\",\"marker\":{\"colorbar\":{\"outlinewidth\":0,\"ticks\":\"\"}}}],\"carpet\":[{\"aaxis\":{\"endlinecolor\":\"#A2B1C6\",\"gridcolor\":\"#506784\",\"linecolor\":\"#506784\",\"minorgridcolor\":\"#506784\",\"startlinecolor\":\"#A2B1C6\"},\"baxis\":{\"endlinecolor\":\"#A2B1C6\",\"gridcolor\":\"#506784\",\"linecolor\":\"#506784\",\"minorgridcolor\":\"#506784\",\"startlinecolor\":\"#A2B1C6\"},\"type\":\"carpet\"}],\"table\":[{\"cells\":{\"fill\":{\"color\":\"#506784\"},\"line\":{\"color\":\"rgb(17,17,17)\"}},\"header\":{\"fill\":{\"color\":\"#2a3f5f\"},\"line\":{\"color\":\"rgb(17,17,17)\"}},\"type\":\"table\"}],\"barpolar\":[{\"marker\":{\"line\":{\"color\":\"rgb(17,17,17)\",\"width\":0.5},\"pattern\":{\"fillmode\":\"overlay\",\"size\":10,\"solidity\":0.2}},\"type\":\"barpolar\"}],\"pie\":[{\"automargin\":true,\"type\":\"pie\"}]},\"layout\":{\"autotypenumbers\":\"strict\",\"colorway\":[\"#636efa\",\"#EF553B\",\"#00cc96\",\"#ab63fa\",\"#FFA15A\",\"#19d3f3\",\"#FF6692\",\"#B6E880\",\"#FF97FF\",\"#FECB52\"],\"font\":{\"color\":\"#f2f5fa\"},\"hovermode\":\"closest\",\"hoverlabel\":{\"align\":\"left\"},\"paper_bgcolor\":\"rgb(17,17,17)\",\"plot_bgcolor\":\"rgb(17,17,17)\",\"polar\":{\"bgcolor\":\"rgb(17,17,17)\",\"angularaxis\":{\"gridcolor\":\"#506784\",\"linecolor\":\"#506784\",\"ticks\":\"\"},\"radialaxis\":{\"gridcolor\":\"#506784\",\"linecolor\":\"#506784\",\"ticks\":\"\"}},\"ternary\":{\"bgcolor\":\"rgb(17,17,17)\",\"aaxis\":{\"gridcolor\":\"#506784\",\"linecolor\":\"#506784\",\"ticks\":\"\"},\"baxis\":{\"gridcolor\":\"#506784\",\"linecolor\":\"#506784\",\"ticks\":\"\"},\"caxis\":{\"gridcolor\":\"#506784\",\"linecolor\":\"#506784\",\"ticks\":\"\"}},\"coloraxis\":{\"colorbar\":{\"outlinewidth\":0,\"ticks\":\"\"}},\"colorscale\":{\"sequential\":[[0.0,\"#0d0887\"],[0.1111111111111111,\"#46039f\"],[0.2222222222222222,\"#7201a8\"],[0.3333333333333333,\"#9c179e\"],[0.4444444444444444,\"#bd3786\"],[0.5555555555555556,\"#d8576b\"],[0.6666666666666666,\"#ed7953\"],[0.7777777777777778,\"#fb9f3a\"],[0.8888888888888888,\"#fdca26\"],[1.0,\"#f0f921\"]],\"sequentialminus\":[[0.0,\"#0d0887\"],[0.1111111111111111,\"#46039f\"],[0.2222222222222222,\"#7201a8\"],[0.3333333333333333,\"#9c179e\"],[0.4444444444444444,\"#bd3786\"],[0.5555555555555556,\"#d8576b\"],[0.6666666666666666,\"#ed7953\"],[0.7777777777777778,\"#fb9f3a\"],[0.8888888888888888,\"#fdca26\"],[1.0,\"#f0f921\"]],\"diverging\":[[0,\"#8e0152\"],[0.1,\"#c51b7d\"],[0.2,\"#de77ae\"],[0.3,\"#f1b6da\"],[0.4,\"#fde0ef\"],[0.5,\"#f7f7f7\"],[0.6,\"#e6f5d0\"],[0.7,\"#b8e186\"],[0.8,\"#7fbc41\"],[0.9,\"#4d9221\"],[1,\"#276419\"]]},\"xaxis\":{\"gridcolor\":\"#283442\",\"linecolor\":\"#506784\",\"ticks\":\"\",\"title\":{\"standoff\":15},\"zerolinecolor\":\"#283442\",\"automargin\":true,\"zerolinewidth\":2},\"yaxis\":{\"gridcolor\":\"#283442\",\"linecolor\":\"#506784\",\"ticks\":\"\",\"title\":{\"standoff\":15},\"zerolinecolor\":\"#283442\",\"automargin\":true,\"zerolinewidth\":2},\"scene\":{\"xaxis\":{\"backgroundcolor\":\"rgb(17,17,17)\",\"gridcolor\":\"#506784\",\"linecolor\":\"#506784\",\"showbackground\":true,\"ticks\":\"\",\"zerolinecolor\":\"#C8D4E3\",\"gridwidth\":2},\"yaxis\":{\"backgroundcolor\":\"rgb(17,17,17)\",\"gridcolor\":\"#506784\",\"linecolor\":\"#506784\",\"showbackground\":true,\"ticks\":\"\",\"zerolinecolor\":\"#C8D4E3\",\"gridwidth\":2},\"zaxis\":{\"backgroundcolor\":\"rgb(17,17,17)\",\"gridcolor\":\"#506784\",\"linecolor\":\"#506784\",\"showbackground\":true,\"ticks\":\"\",\"zerolinecolor\":\"#C8D4E3\",\"gridwidth\":2}},\"shapedefaults\":{\"line\":{\"color\":\"#f2f5fa\"}},\"annotationdefaults\":{\"arrowcolor\":\"#f2f5fa\",\"arrowhead\":0,\"arrowwidth\":1},\"geo\":{\"bgcolor\":\"rgb(17,17,17)\",\"landcolor\":\"rgb(17,17,17)\",\"subunitcolor\":\"#506784\",\"showland\":true,\"showlakes\":true,\"lakecolor\":\"rgb(17,17,17)\"},\"title\":{\"x\":0.05},\"updatemenudefaults\":{\"bgcolor\":\"#506784\",\"borderwidth\":0},\"sliderdefaults\":{\"bgcolor\":\"#C8D4E3\",\"borderwidth\":1,\"bordercolor\":\"rgb(17,17,17)\",\"tickwidth\":0},\"mapbox\":{\"style\":\"dark\"}}},\"xaxis\":{\"anchor\":\"y\",\"domain\":[0.0,1.0],\"title\":{\"text\":\"Iteration\"}},\"yaxis\":{\"anchor\":\"x\",\"domain\":[0.0,1.0],\"title\":{\"text\":\"Value\"}},\"legend\":{\"title\":{\"text\":\"Name\"},\"tracegroupgap\":0},\"margin\":{\"t\":60}},                        {\"responsive\": true}                    ).then(function(){\n                            \nvar gd = document.getElementById('05692bbf-0bda-4bf6-8b4a-7ab10ffbf12e');\nvar x = new MutationObserver(function (mutations, observer) {{\n        var display = window.getComputedStyle(gd).display;\n        if (!display || display === 'none') {{\n            console.log([gd, 'removed!']);\n            Plotly.purge(gd);\n            observer.disconnect();\n        }}\n}});\n\n// Listen for the removal of the full notebook cells\nvar notebookContainer = gd.closest('#notebook-container');\nif (notebookContainer) {{\n    x.observe(notebookContainer, {childList: true});\n}}\n\n// Listen for the clearing of the current output cell\nvar outputEl = gd.closest('.output');\nif (outputEl) {{\n    x.observe(outputEl, {childList: true});\n}}\n\n                        })                };                });            </script>        </div>"
     },
     "metadata": {},
     "output_type": "display_data"
    }
   ],
   "source": [
    "px.line(model.trainingData, x='Iteration', y='Value', color='Name')"
   ],
   "metadata": {
    "collapsed": false,
    "ExecuteTime": {
     "start_time": "2023-08-21T14:50:22.988450Z",
     "end_time": "2023-08-21T14:50:23.157859Z"
    }
   }
  },
  {
   "cell_type": "code",
   "execution_count": 13,
   "outputs": [
    {
     "data": {
      "text/plain": "array([[ 1.32636998e-02,  4.71371829e-03,  9.90022344e-01,\n        -3.65493802e-03,  4.21292711e-02, -3.18050747e-02,\n        -2.75519504e-04, -1.08431083e-02,  1.45487558e-01,\n        -2.53748771e-02, -3.15864378e-03, -1.43969461e-02,\n         7.51817392e-02, -5.53675477e-02, -1.36088365e-02,\n         5.85228647e-03,  6.95468049e-03,  9.91083467e-01,\n         9.89735373e-01, -2.97974987e-02, -1.20349268e-01,\n         9.91515107e-01, -1.85276925e-02,  9.90985459e-01,\n         9.90789908e-01, -7.56906502e-02, -2.49185980e-02,\n        -3.91465900e-02,  9.80709297e-01, -1.92969028e-02,\n        -1.39823548e-02,  9.88681561e-01,  2.12560271e-02,\n         1.32198296e-02,  9.89752899e-01,  1.28152939e-02,\n         2.06432960e-03, -2.80329140e-02,  9.91536225e-01,\n         9.91979857e-01, -3.67986751e-02,  1.91183306e-02,\n         9.90856524e-01,  2.20608362e-02,  9.90347464e-01,\n         9.90985459e-01,  7.16731625e-03,  9.89882032e-01,\n         7.21791753e-05,  1.27502010e-02,  9.91453754e-01,\n         1.19384372e-02,  9.91806393e-01,  9.92234039e-01,\n        -4.34624210e-03, -4.86332587e-02,  9.90985459e-01,\n         9.91391753e-01, -3.50275090e-02, -3.99813372e-02,\n        -3.57185736e-03,  9.53269085e-03,  8.63242429e-04,\n         9.91944758e-01,  9.63214230e-03,  3.55042297e-02,\n        -4.16723059e-02,  1.22036208e-03, -2.73537069e-02,\n         9.90963285e-01,  1.50698877e-01,  9.91073031e-01,\n        -1.27977493e-02,  9.46713162e-03,  2.62126240e-01,\n         9.91059309e-01,  9.91438561e-01,  9.90895809e-01,\n         1.90549922e-02,  2.01943437e-02,  9.90352596e-01,\n         2.67899059e-02,  7.30514265e-02,  9.90761059e-01,\n        -1.10215942e-02,  9.91858526e-01,  9.90582131e-01,\n         1.01869278e-02,  9.90134426e-01,  1.16090813e-03,\n         9.91997621e-01,  2.25772224e-02, -1.48573392e-02,\n        -1.54928380e-02,  9.91238053e-01,  9.90643887e-01,\n        -2.79802052e-02,  3.09543235e-02, -6.04639193e-03,\n        -1.22701081e-03,  9.91218081e-01, -2.48045184e-02,\n         4.52100791e-02,  9.91674041e-01,  2.25884882e-02,\n        -6.99883323e-02, -3.41997129e-03,  9.91503698e-01,\n         9.90266031e-01, -3.90438139e-02, -5.66004847e-02,\n         9.88906541e-01,  5.51580074e-03, -4.93358778e-02,\n         2.25142087e-01,  7.05817706e-03, -3.91658143e-02,\n        -5.62895407e-02, -2.15269891e-02, -2.37926447e-02,\n        -2.11971997e-02,  9.91259582e-01,  1.32198296e-02,\n        -6.11812101e-02, -4.28670115e-02,  1.16259846e-02,\n         9.91626555e-01,  9.92568689e-01,  1.02559020e-02,\n         1.75279065e-02,  2.98325250e-03,  9.90159380e-01,\n         9.90419782e-01, -3.87628991e-02,  9.22124465e-02,\n         9.91604967e-01, -1.28294373e-02,  9.91767686e-01,\n        -4.29206165e-03,  9.90067883e-01, -6.55428611e-04,\n        -6.00016898e-02, -3.57271117e-02, -3.34568265e-02,\n        -4.40423255e-02,  9.91302961e-01,  9.91274904e-01,\n         4.49949056e-03, -8.13455103e-02,  9.92345307e-01],\n       [-4.59766112e-02, -2.59036311e-02,  4.55811306e-02,\n         9.91093505e-01,  7.97817416e-01,  9.85698724e-01,\n         9.72808528e-01,  2.01423338e-01,  9.88511617e-01,\n         1.04188606e-02, -8.55102544e-03,  5.74914875e-04,\n         9.89929226e-01,  9.89000149e-01,  9.89294233e-01,\n        -7.08268467e-02, -2.06624637e-02, -2.56999105e-03,\n         4.53857281e-02,  9.91439329e-01,  9.88559494e-01,\n        -3.57151628e-02, -5.16297088e-02, -1.25338374e-02,\n        -7.06246722e-03,  5.13541886e-02,  9.84179978e-01,\n         9.90080340e-01,  3.64075445e-01, -4.67809334e-03,\n        -2.15390139e-03,  1.11113734e-01,  9.67095038e-01,\n        -6.88593473e-02,  5.18702752e-02, -2.88159793e-02,\n         9.78372610e-01,  9.90993261e-01, -3.81061925e-02,\n        -7.10471234e-02,  9.84480904e-01, -4.86728997e-02,\n        -2.91409015e-03,  7.81890350e-01,  2.12969398e-02,\n        -1.25338374e-02, -2.24627659e-02,  4.87531541e-02,\n        -5.20891673e-02, -5.30758362e-02, -2.94785038e-02,\n        -3.86161228e-02, -5.07903391e-02, -7.67068463e-02,\n         2.18521143e-02,  9.86685438e-01, -1.25338374e-02,\n        -3.05467630e-02,  9.83089026e-01,  9.91338494e-01,\n        -4.48859872e-03,  9.68459765e-01, -2.34261385e-02,\n        -5.92876256e-02,  9.67961219e-01,  5.72814793e-01,\n         9.91028170e-01,  8.44460156e-02,  9.78383946e-01,\n        -1.08619552e-03,  9.88660681e-01, -1.93679377e-02,\n         1.08964352e-02, -4.77847208e-02,  9.85903712e-01,\n        -6.47535306e-03, -3.69565043e-02, -9.74208999e-03,\n         9.74696411e-01, -1.35159383e-02,  1.43781930e-02,\n         7.52930730e-01,  9.90135817e-01, -2.83945935e-03,\n         1.24056830e-01, -5.30225730e-02,  2.09765096e-02,\n        -3.33576537e-02,  4.65106298e-02, -2.48636425e-02,\n        -5.41871622e-02, -6.78685436e-02,  1.00686498e-03,\n         2.14435739e-01, -2.26030009e-02,  6.74229780e-03,\n         9.91434402e-01, -5.25893962e-02, -2.32801017e-02,\n         3.79443448e-01, -3.57587705e-02,  9.48246462e-01,\n         9.89923695e-01, -4.69335381e-02,  9.90875946e-01,\n         9.85758407e-01,  2.78850214e-01, -2.59835804e-02,\n         2.30042554e-02,  9.90821262e-01,  9.90519982e-01,\n         1.02248042e-01, -5.71469108e-02,  9.90955775e-01,\n         9.87356288e-01, -4.09037850e-02,  9.85475336e-01,\n         9.91167259e-01, -3.21958745e-02,  9.90082171e-01,\n         2.34538069e-03, -2.50644387e-02, -6.88593473e-02,\n         9.90289783e-01,  9.86577764e-01,  3.64079570e-01,\n        -4.39327740e-02, -9.51412206e-02,  5.66807314e-02,\n        -3.65290452e-02, -4.51759774e-02,  3.16439677e-02,\n         1.85909194e-02,  6.81777256e-03,  9.89394630e-01,\n        -3.91245707e-02,  9.83904920e-01, -4.50206952e-02,\n         2.78176306e-01,  4.02272465e-02, -2.25316138e-02,\n         4.95644474e-02,  9.91205951e-01,  9.77914022e-01,\n         9.90029321e-01, -2.51701565e-02, -2.22023463e-02,\n        -5.07223149e-02,  9.92264064e-01, -8.08494093e-02],\n       [ 9.89270890e-01,  9.93046646e-01, -5.46156097e-03,\n        -8.06328715e-03,  4.41232772e-01, -1.36591807e-02,\n        -1.35130034e-02,  9.31376862e-01, -3.01185446e-02,\n         9.94331160e-01,  9.93764652e-01,  9.93962633e-01,\n        -2.03412554e-02, -2.22924729e-02, -2.57148558e-02,\n         9.89235018e-01,  9.83300125e-01,  1.59468446e-02,\n        -2.43132381e-02, -6.26813830e-03, -5.05328254e-02,\n         7.20815299e-03,  9.88180641e-01, -7.29681071e-03,\n        -1.03041235e-02,  9.94887165e-01, -1.86317045e-02,\n        -1.10063192e-02, -5.03924253e-02,  9.94073008e-01,\n         9.94047496e-01, -1.48943623e-02,  1.60631942e-02,\n         9.90339058e-01, -1.90631598e-02,  9.79726552e-01,\n        -5.44118844e-03, -5.72044267e-03,  4.74038442e-03,\n         7.81316534e-03, -1.41607895e-02,  9.89429189e-01,\n        -1.17173086e-03,  4.53439777e-01, -1.03567359e-02,\n        -7.29681071e-03,  9.81479701e-01, -1.48436877e-02,\n         9.92232086e-01,  9.90069562e-01,  1.37328297e-02,\n         9.91743436e-01,  1.41662748e-02,  2.41604970e-02,\n         9.68146265e-01, -2.06323676e-02, -7.29681071e-03,\n         4.35433664e-03, -2.55163913e-02, -1.22003095e-03,\n         9.81959894e-01, -4.19173455e-03,  9.84998985e-01,\n         1.16247728e-02,  7.90226253e-03,  7.35093933e-01,\n        -7.86421392e-03,  9.63322289e-01, -1.28783759e-02,\n         8.40541702e-03, -3.11784933e-02, -6.99425113e-03,\n         9.75855727e-01,  9.86445957e-01, -4.37650937e-02,\n         4.21869784e-03, -2.44928332e-03, -1.10120820e-02,\n         1.24038245e-02,  9.79953571e-01, -1.85352431e-02,\n         5.22343206e-01, -4.17051592e-03, -9.18915664e-03,\n         9.51283546e-01,  1.50083405e-02, -1.42699165e-04,\n         9.92235903e-01,  9.58583999e-03,  9.91148104e-01,\n         2.93483766e-02,  9.89942719e-01,  9.94215528e-01,\n         9.24921833e-01,  1.77410286e-03, -4.09955299e-03,\n         2.53326701e-03,  9.80929298e-01,  9.93520168e-01,\n         8.57727657e-01, -1.38675562e-02,  3.36859864e-02,\n        -2.11493500e-02,  9.17490650e-03, -1.13168811e-02,\n        -3.56310199e-02,  9.01540586e-01,  1.70817573e-02,\n        -1.45387219e-02, -3.05896246e-03, -1.08451169e-02,\n        -8.41673010e-03,  9.78681961e-01, -6.90224400e-03,\n        -2.44963841e-02,  9.89980054e-01, -3.31206395e-02,\n        -3.16367896e-03,  9.92452577e-01, -1.29404472e-02,\n         9.94307648e-01, -8.83573253e-04,  9.90339058e-01,\n        -6.16097455e-03, -2.45270226e-02,  8.71887322e-01,\n         6.95760555e-03,  2.58357179e-02,  9.61959365e-01,\n         9.82132802e-01,  9.91517162e-01, -1.34226182e-02,\n        -1.33396553e-02,  9.94307760e-01, -1.71137555e-02,\n         1.48944011e-02, -6.00988242e-03,  1.78027703e-02,\n         9.05298806e-01, -4.06296002e-03,  9.92871770e-01,\n         9.94903401e-01,  5.91110663e-03, -2.79447835e-02,\n        -1.16612909e-02,  2.82624690e-03,  4.53932468e-03,\n         9.89159253e-01, -2.57494723e-02,  2.70598072e-02]])"
     },
     "execution_count": 13,
     "metadata": {},
     "output_type": "execute_result"
    }
   ],
   "source": [
    "model.predict(np.hstack((x_train, x_dev)))"
   ],
   "metadata": {
    "collapsed": false,
    "ExecuteTime": {
     "start_time": "2023-08-21T14:47:13.159045Z",
     "end_time": "2023-08-21T14:47:13.198042Z"
    }
   }
  },
  {
   "cell_type": "code",
   "execution_count": null,
   "outputs": [],
   "source": [],
   "metadata": {
    "collapsed": false
   }
  }
 ],
 "metadata": {
  "kernelspec": {
   "display_name": "Python 3",
   "language": "python",
   "name": "python3"
  },
  "language_info": {
   "codemirror_mode": {
    "name": "ipython",
    "version": 2
   },
   "file_extension": ".py",
   "mimetype": "text/x-python",
   "name": "python",
   "nbconvert_exporter": "python",
   "pygments_lexer": "ipython2",
   "version": "2.7.6"
  }
 },
 "nbformat": 4,
 "nbformat_minor": 0
}
